{
 "cells": [
  {
   "cell_type": "markdown",
   "metadata": {},
   "source": [
    "## Wrangling the Yelp business data"
   ]
  },
  {
   "cell_type": "code",
   "execution_count": 1,
   "metadata": {},
   "outputs": [],
   "source": [
    "import numpy as np\n",
    "import pandas as pd\n",
    "import json\n",
    "\n",
    "%matplotlib inline"
   ]
  },
  {
   "cell_type": "code",
   "execution_count": 71,
   "metadata": {},
   "outputs": [],
   "source": [
    "toronto_all_business_df = pd.read_csv('yelp_dataset/toronto_all_business.csv')\n",
    "toronto_restaurant_business_df = pd.read_csv('yelp_dataset/toronto_restaurant_business.csv')\n",
    "toronto_japanese_business_df = pd.read_csv('yelp_dataset/toronto_japanese_business.csv')"
   ]
  },
  {
   "cell_type": "markdown",
   "metadata": {},
   "source": [
    "Wrangle the `attributes` column into a JSON-parsable format:"
   ]
  },
  {
   "cell_type": "code",
   "execution_count": 73,
   "metadata": {},
   "outputs": [],
   "source": [
    "def wrangle_attributes(row):\n",
    "    attributes_data = row.attributes\n",
    "    \n",
    "    if (pd.isnull(attributes_data)):\n",
    "        row['attributes'] = '{}'\n",
    "        return row\n",
    "        \n",
    "    attributes_data = attributes_data.replace(\"\\\"u\\'\", \"\\'\")\n",
    "    attributes_data = attributes_data.replace('\\'', '\\\"')\n",
    "    attributes_data = attributes_data.replace('\"\"', '\"')\n",
    "    attributes_data = attributes_data.replace('\"{', '{')\n",
    "    attributes_data = attributes_data.replace('}\"', '}')\n",
    "    attributes_data = attributes_data.replace(' False', ' \"False\"')\n",
    "    attributes_data = attributes_data.replace(' True', ' \"True\"')\n",
    "    attributes_data = attributes_data.replace(' None', ' \"None\"')\n",
    "    \n",
    "    row['attributes'] = attributes_data\n",
    "    return row"
   ]
  },
  {
   "cell_type": "code",
   "execution_count": 65,
   "metadata": {},
   "outputs": [],
   "source": [
    "# This is a test to see if all rows in the largest dataset can be easily converted to JSON format\n",
    "\n",
    "for index, row in toronto_all_business_df.apply(lambda row: wrangle_attributes(row), axis = 1).iterrows():\n",
    "    json.loads(row.attributes)"
   ]
  },
  {
   "cell_type": "code",
   "execution_count": 74,
   "metadata": {},
   "outputs": [],
   "source": [
    "toronto_all_business_df = toronto_all_business_df.apply(lambda row: wrangle_attributes(row), axis = 1)\n",
    "toronto_restaurant_business_df = toronto_restaurant_business_df.apply(lambda row: wrangle_attributes(row), axis = 1)\n",
    "toronto_japanese_business_df = toronto_japanese_business_df.apply(lambda row: wrangle_attributes(row), axis = 1)"
   ]
  },
  {
   "cell_type": "markdown",
   "metadata": {},
   "source": [
    "Wrangle the `hours` column into a fixed and consistent hour format:"
   ]
  },
  {
   "cell_type": "code",
   "execution_count": 84,
   "metadata": {},
   "outputs": [],
   "source": [
    "def wrangle_hours(row):\n",
    "    hours_data = row.hours\n",
    "    \n",
    "    if (pd.isnull(hours_data)):\n",
    "        row['hours'] = '{}'\n",
    "        return row\n",
    "        \n",
    "    hours_data = hours_data.replace('\\'', '\\\"')\n",
    "    hours_data = hours_data.replace('\"\"', '\"')\n",
    "    hours_data = hours_data.replace('\"{', '{')\n",
    "    hours_data = hours_data.replace('}\"', '}')\n",
    "    hours_data = hours_data.replace(':0', ':00')\n",
    "    \n",
    "    row['hours'] = hours_data\n",
    "    return row"
   ]
  },
  {
   "cell_type": "code",
   "execution_count": 88,
   "metadata": {},
   "outputs": [],
   "source": [
    "# This is a test to see if all rows in the largest dataset can be easily converted to JSON format\n",
    "\n",
    "for index, row in toronto_all_business_df.apply(lambda row: wrangle_hours(row), axis = 1).iterrows():\n",
    "    json.loads(row.hours)"
   ]
  },
  {
   "cell_type": "code",
   "execution_count": 89,
   "metadata": {},
   "outputs": [],
   "source": [
    "toronto_all_business_df = toronto_all_business_df.apply(lambda row: wrangle_hours(row), axis = 1)\n",
    "toronto_restaurant_business_df = toronto_restaurant_business_df.apply(lambda row: wrangle_hours(row), axis = 1)\n",
    "toronto_japanese_business_df = toronto_japanese_business_df.apply(lambda row: wrangle_hours(row), axis = 1)"
   ]
  },
  {
   "cell_type": "code",
   "execution_count": 91,
   "metadata": {},
   "outputs": [],
   "source": [
    "toronto_all_business_df.to_csv('yelp_dataset/toronto_all_business.csv', index = False)\n",
    "toronto_restaurant_business_df.to_csv('yelp_dataset/toronto_restaurant_business.csv', index = False)\n",
    "toronto_japanese_business_df.to_csv('yelp_dataset/toronto_japanese_business.csv', index = False)"
   ]
  }
 ],
 "metadata": {
  "kernelspec": {
   "display_name": "Python 3",
   "language": "python",
   "name": "python3"
  },
  "language_info": {
   "codemirror_mode": {
    "name": "ipython",
    "version": 3
   },
   "file_extension": ".py",
   "mimetype": "text/x-python",
   "name": "python",
   "nbconvert_exporter": "python",
   "pygments_lexer": "ipython3",
   "version": "3.7.7"
  }
 },
 "nbformat": 4,
 "nbformat_minor": 4
}
