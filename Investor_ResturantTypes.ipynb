{
 "cells": [
  {
   "cell_type": "markdown",
   "metadata": {},
   "source": [
    "# Resturant types"
   ]
  },
  {
   "cell_type": "markdown",
   "metadata": {},
   "source": [
    "In this part of the project we will be focusing on what types of resturants that holds the most intrest for the investor. T"
   ]
  },
  {
   "cell_type": "code",
   "execution_count": 1,
   "metadata": {},
   "outputs": [],
   "source": [
    "import pandas as pd"
   ]
  },
  {
   "cell_type": "code",
   "execution_count": 2,
   "metadata": {},
   "outputs": [],
   "source": [
    "Reviews=pd.read_csv('data/toronto_restaurant_reviews.csv',encoding=\"utf8\")"
   ]
  },
  {
   "cell_type": "code",
   "execution_count": 3,
   "metadata": {},
   "outputs": [],
   "source": [
    "Resturants=pd.read_csv('data/toronto_restaurant_business.csv',encoding=\"utf8\")"
   ]
  },
  {
   "cell_type": "code",
   "execution_count": 4,
   "metadata": {},
   "outputs": [],
   "source": [
    "Checkins=pd.read_csv('data/toronto_restaurant_checkins.csv',encoding=\"utf8\")"
   ]
  },
  {
   "cell_type": "markdown",
   "metadata": {},
   "source": [
    "While the average star rating which of stars does provide insight which."
   ]
  },
  {
   "cell_type": "code",
   "execution_count": 5,
   "metadata": {},
   "outputs": [],
   "source": [
    "def succesScore(avgRating, reviewCount, isOpen):\n",
    "    return isOpen*avgRating*reviewCount"
   ]
  },
  {
   "cell_type": "code",
   "execution_count": 6,
   "metadata": {},
   "outputs": [],
   "source": [
    "Resturants['sucess score']=succesScore(Resturants.stars, Resturants.review_count, Resturants.is_open)"
   ]
  },
  {
   "cell_type": "code",
   "execution_count": 7,
   "metadata": {},
   "outputs": [
    {
     "data": {
      "text/plain": [
       "8681"
      ]
     },
     "execution_count": 7,
     "metadata": {},
     "output_type": "execute_result"
    }
   ],
   "source": [
    "len(Resturants)"
   ]
  },
  {
   "cell_type": "code",
   "execution_count": 8,
   "metadata": {},
   "outputs": [],
   "source": [
    "#Resturants.categories=Resturants.categories.str.split(',')"
   ]
  },
  {
   "cell_type": "code",
   "execution_count": null,
   "metadata": {},
   "outputs": [],
   "source": []
  },
  {
   "cell_type": "markdown",
   "metadata": {},
   "source": [
    "## Popular types of resturants"
   ]
  },
  {
   "cell_type": "markdown",
   "metadata": {},
   "source": [
    "To get an inital sense of which type of resturants we look at the 10 most common categories in Toronto."
   ]
  },
  {
   "cell_type": "code",
   "execution_count": 9,
   "metadata": {},
   "outputs": [],
   "source": [
    "from sklearn.feature_extraction.text import CountVectorizer"
   ]
  },
  {
   "cell_type": "code",
   "execution_count": 12,
   "metadata": {},
   "outputs": [],
   "source": [
    "count_vect = CountVectorizer()\n",
    "bow_counts = count_vect.fit_transform(Resturants.categories.values)"
   ]
  },
  {
   "cell_type": "code",
   "execution_count": 50,
   "metadata": {},
   "outputs": [
    {
     "name": "stdout",
     "output_type": "stream",
     "text": [
      "restaurants 8684\n",
      "food 4031\n",
      "bars 2407\n",
      "nightlife 1213\n",
      "new 980\n",
      "tea 864\n",
      "coffee 781\n",
      "sandwiches 781\n",
      "breakfast 781\n",
      "brunch 780\n",
      "american 777\n",
      "cafes 767\n",
      "chinese 731\n",
      "canadian 712\n",
      "italian 670\n",
      "fast 634\n",
      "pizza 625\n",
      "japanese 615\n",
      "burgers 501\n",
      "services 481\n"
     ]
    }
   ],
   "source": [
    "sum_words = bow_counts.sum(axis=0) \n",
    "words_freq = [(word, sum_words[0, idx]) for word, idx in     count_vect.vocabulary_.items()]\n",
    "words_freq =sorted(words_freq, key = lambda x: x[1], reverse=True)\n",
    "\n",
    "for word, freq in words_freq[:20]:\n",
    "    print(word, freq)"
   ]
  },
  {
   "cell_type": "markdown",
   "metadata": {},
   "source": [
    "From here it is clear that not all categories hold valueble information, about what type of resturant is popular. For instance the categorie food does not contribue with any additional information, knwoing that all instances are resturants."
   ]
  },
  {
   "cell_type": "markdown",
   "metadata": {},
   "source": [
    "We know look at the 10 most succesful resturants."
   ]
  },
  {
   "cell_type": "code",
   "execution_count": 55,
   "metadata": {},
   "outputs": [
    {
     "data": {
      "text/plain": [
       "2683    Restaurants, Thai, Specialty Food, Food, Ethni...\n",
       "7623    Restaurants, Tapas/Small Plates, Japanese, Bar...\n",
       "5926                                    Thai, Restaurants\n",
       "5530                        Restaurants, Seafood, Mexican\n",
       "7127    Sandwiches, Restaurants, Food, Vietnamese, Asi...\n",
       "3993                                 Restaurants, Italian\n",
       "4950    French, Canadian (New), Event Planning & Servi...\n",
       "8459         Seafood, Restaurants, Chinese, Live/Raw Food\n",
       "7059      Bakeries, Food, Restaurants, Desserts, Japanese\n",
       "6954           Middle Eastern, Restaurants, Mediterranean\n",
       "Name: categories, dtype: object"
      ]
     },
     "execution_count": 55,
     "metadata": {},
     "output_type": "execute_result"
    }
   ],
   "source": [
    "Resturants.sort_values(by=['sucess score'],ascending=False)[0:10].categories"
   ]
  },
  {
   "cell_type": "code",
   "execution_count": 56,
   "metadata": {},
   "outputs": [],
   "source": [
    "count_vect = CountVectorizer()\n",
    "bow_counts = count_vect.fit_transform(Resturants.sort_values(by=['sucess score'],ascending=False)[0:10].categories.values)"
   ]
  },
  {
   "cell_type": "code",
   "execution_count": 57,
   "metadata": {},
   "outputs": [
    {
     "name": "stdout",
     "output_type": "stream",
     "text": [
      "restaurants 10\n",
      "food 7\n",
      "bars 4\n",
      "thai 2\n",
      "tapas 2\n",
      "japanese 2\n",
      "nightlife 2\n",
      "seafood 2\n",
      "mediterranean 2\n",
      "specialty 1\n",
      "ethnic 1\n",
      "small 1\n",
      "plates 1\n",
      "pubs 1\n",
      "mexican 1\n",
      "sandwiches 1\n",
      "vietnamese 1\n",
      "asian 1\n",
      "fusion 1\n",
      "delicatessen 1\n"
     ]
    }
   ],
   "source": [
    "sum_words = bow_counts.sum(axis=0) \n",
    "words_freq = [(word, sum_words[0, idx]) for word, idx in     count_vect.vocabulary_.items()]\n",
    "words_freq =sorted(words_freq, key = lambda x: x[1], reverse=True)\n",
    "\n",
    "for word, freq in words_freq[:20]:\n",
    "    print(word, freq)"
   ]
  },
  {
   "cell_type": "markdown",
   "metadata": {},
   "source": [
    "It becomes cleare that there is no clear indication of what categories that are most popular."
   ]
  }
 ],
 "metadata": {
  "kernelspec": {
   "display_name": "Python 3",
   "language": "python",
   "name": "python3"
  },
  "language_info": {
   "codemirror_mode": {
    "name": "ipython",
    "version": 3
   },
   "file_extension": ".py",
   "mimetype": "text/x-python",
   "name": "python",
   "nbconvert_exporter": "python",
   "pygments_lexer": "ipython3",
   "version": "3.6.5"
  }
 },
 "nbformat": 4,
 "nbformat_minor": 4
}
