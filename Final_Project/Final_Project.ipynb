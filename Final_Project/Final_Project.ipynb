{
 "cells": [
  {
   "cell_type": "markdown",
   "metadata": {},
   "source": [
    "### Import "
   ]
  },
  {
   "cell_type": "code",
   "execution_count": 17,
   "metadata": {},
   "outputs": [],
   "source": [
    "import json\n",
    "import os\n",
    "import pandas as pd\n",
    "import numpy as np\n",
    "import matplotlib.pyplot as plt\n",
    "import seaborn as sns"
   ]
  },
  {
   "cell_type": "code",
   "execution_count": 4,
   "metadata": {},
   "outputs": [],
   "source": [
    "sns.set()"
   ]
  },
  {
   "cell_type": "markdown",
   "metadata": {},
   "source": [
    "---\n",
    "### Load"
   ]
  },
  {
   "cell_type": "code",
   "execution_count": 4,
   "metadata": {},
   "outputs": [],
   "source": [
    "# df_business = pd.read_json('./yelp_dataset/yelp_academic_dataset_business.json', lines=True)\n",
    "# df_checkin = pd.read_json('./yelp_dataset/yelp_academic_dataset_checkin.json', lines=True)\n",
    "# df_review = pd.read_json('./yelp_dataset/yelp_academic_dataset_review.json', lines=True)\n",
    "# df_tip = pd.read_json('./yelp_dataset/yelp_academic_dataset_tip.json', lines=True)\n",
    "# df_user = pd.read_json('./yelp_dataset/yelp_academic_dataset_user.json', lines=True)\n",
    "\n",
    "# df_business.to_csv('./yelp_dataset/yelp_academic_dataset_business.csv', index=False)\n",
    "# df_checkin.to_csv('./yelp_dataset/yelp_academic_dataset_checkin.csv', index=False)\n",
    "# df_review.to_csv('./yelp_dataset/yelp_academic_dataset_review.csv', index=False)\n",
    "# df_tip.to_csv('./yelp_dataset/yelp_academic_dataset_tip.csv', index=False)\n",
    "# df_user.to_csv('./yelp_dataset/yelp_academic_dataset_user.csv', index=False)"
   ]
  },
  {
   "cell_type": "code",
   "execution_count": 5,
   "metadata": {},
   "outputs": [],
   "source": [
    "path_business = './yelp_dataset/yelp_academic_dataset_business.csv'\n",
    "path_checkin = './yelp_dataset/yelp_academic_dataset_checkin.csv'\n",
    "path_review = './yelp_dataset/yelp_academic_dataset_review.csv'\n",
    "path_tip = './yelp_dataset/yelp_academic_dataset_tip.csv'\n",
    "path_user = './yelp_dataset/yelp_academic_dataset_user.csv'"
   ]
  },
  {
   "cell_type": "code",
   "execution_count": 6,
   "metadata": {},
   "outputs": [],
   "source": [
    "df_business = pd.read_csv(path_business)\n",
    "df_checkin = pd.read_csv(path_checkin)\n",
    "df_review = pd.read_csv(path_review)\n",
    "df_tip = pd.read_csv(path_tip)\n",
    "df_user = pd.read_csv(path_user)"
   ]
  },
  {
   "cell_type": "markdown",
   "metadata": {},
   "source": [
    "---\n",
    "### Preprocessing"
   ]
  },
  {
   "cell_type": "markdown",
   "metadata": {},
   "source": [
    "* <font color='blue'> Search cities containing rich information:"
   ]
  },
  {
   "cell_type": "markdown",
   "metadata": {},
   "source": [
    "> Drop values which do not have categories since they are not valueable for prediction"
   ]
  },
  {
   "cell_type": "code",
   "execution_count": 7,
   "metadata": {},
   "outputs": [],
   "source": [
    "df_business.dropna(subset=['categories'], inplace=True)"
   ]
  },
  {
   "cell_type": "markdown",
   "metadata": {},
   "source": [
    "> Clean city names by removing puncatuation and changing all to capital forms"
   ]
  },
  {
   "cell_type": "code",
   "execution_count": 8,
   "metadata": {},
   "outputs": [],
   "source": [
    "df_business['city'] = df_business['city'].str.strip().str.capitalize()"
   ]
  },
  {
   "cell_type": "code",
   "execution_count": 9,
   "metadata": {},
   "outputs": [
    {
     "data": {
      "text/plain": [
       "Las vegas                               31600\n",
       "Toronto                                 20334\n",
       "Phoenix                                 20127\n",
       "Charlotte                               10407\n",
       "Scottsdale                               9338\n",
       "                                        ...  \n",
       "East gwillimburry                           1\n",
       "Richmond hts.                               1\n",
       "Warrensville hts.                           1\n",
       "Sainte-marthe                               1\n",
       "Saint-pierre-de-véronne-à-pike-river        1\n",
       "Name: city, Length: 1134, dtype: int64"
      ]
     },
     "execution_count": 9,
     "metadata": {},
     "output_type": "execute_result"
    }
   ],
   "source": [
    "df_business['city'].value_counts().sort_values(ascending=False)"
   ]
  },
  {
   "cell_type": "code",
   "execution_count": 10,
   "metadata": {},
   "outputs": [
    {
     "data": {
      "image/png": "[encoded data removed]",
      "text/plain": [
       "<Figure size 432x288 with 1 Axes>"
      ]
     },
     "metadata": {},
     "output_type": "display_data"
    }
   ],
   "source": [
    "plt.bar(df_business['city'].value_counts().sort_values(ascending=False).index[:10], df_business['city'].value_counts().sort_values(ascending=False).values[:10])\n",
    "plt.xticks(rotation=60)\n",
    "plt.show()"
   ]
  },
  {
   "cell_type": "markdown",
   "metadata": {},
   "source": [
    "* <font color='blue'> Toronto is chosen for further analysis:"
   ]
  },
  {
   "cell_type": "code",
   "execution_count": 11,
   "metadata": {},
   "outputs": [],
   "source": [
    "df_business_toronto = df_business[df_business['city']=='Toronto']"
   ]
  },
  {
   "cell_type": "code",
   "execution_count": 12,
   "metadata": {},
   "outputs": [],
   "source": [
    "df_business_toronto_rest = df_business_toronto[df_business_toronto['categories'].str.contains('Restaurants')]"
   ]
  },
  {
   "cell_type": "markdown",
   "metadata": {},
   "source": [
    "### <font color='red'> 1. Map of Toronto Restaurants:"
   ]
  },
  {
   "cell_type": "code",
   "execution_count": 13,
   "metadata": {},
   "outputs": [],
   "source": [
    "import folium\n",
    "from folium import plugins\n",
    "from IPython.display import display, HTML"
   ]
  },
  {
   "cell_type": "code",
   "execution_count": 14,
   "metadata": {},
   "outputs": [],
   "source": [
    "lat_toronto = np.median(df_business_toronto_rest['latitude'])\n",
    "lon_toronto = np.median(df_business_toronto_rest['longitude'])\n",
    "map_toronto = folium.Map([lat_toronto, lon_toronto], zoom_start=20)  "
   ]
  },
  {
   "cell_type": "markdown",
   "metadata": {},
   "source": [
    "* <font color='blue'> Heatmap to show density of restaurants distribution"
   ]
  },
  {
   "cell_type": "code",
   "execution_count": 29,
   "metadata": {},
   "outputs": [],
   "source": [
    "import webbrowser"
   ]
  },
  {
   "cell_type": "code",
   "execution_count": 31,
   "metadata": {},
   "outputs": [
    {
     "data": {
      "text/plain": [
       "True"
      ]
     },
     "execution_count": 31,
     "metadata": {},
     "output_type": "execute_result"
    }
   ],
   "source": [
    "heat = plugins.HeatMap(list(df_business_toronto_rest[['latitude', 'longitude']].values), radius=20)\n",
    "heatmap_toronto = map_toronto.add_child(heat)\n",
    "\n",
    "heatmap_toronto.save('heatmap_toronto.html')\n",
    "webbrowser.open('file://' + os.getcwd() + 'heatmap_toronto.html')"
   ]
  },
  {
   "cell_type": "markdown",
   "metadata": {},
   "source": [
    "* <font color='blue'> Map of open restaurants and closed restaurants"
   ]
  },
  {
   "cell_type": "code",
   "execution_count": 32,
   "metadata": {},
   "outputs": [],
   "source": [
    "df_business_toronto_rest_open = df_business_toronto_rest[df_business_toronto_rest['is_open']==1]"
   ]
  },
  {
   "cell_type": "code",
   "execution_count": 33,
   "metadata": {},
   "outputs": [],
   "source": [
    "df_business_toronto_rest_closed = df_business_toronto_rest[df_business_toronto_rest['is_open']==0]"
   ]
  },
  {
   "cell_type": "code",
   "execution_count": 34,
   "metadata": {},
   "outputs": [],
   "source": [
    "map_toronto_open_closed = folium.Map([lat_toronto, lon_toronto], zoom_start=20) \n",
    "\n",
    "for index, row in df_business_toronto_rest_open.iterrows():\n",
    "    folium.CircleMarker([row['latitude'], row['longitude']], \n",
    "                        radius=4,\n",
    "                        color=\"red\", fill_color=\"red\", \n",
    "                        ).add_to(map_toronto_open_closed)\n",
    "\n",
    "for index, row in df_business_toronto_rest_closed.iterrows():\n",
    "    folium.CircleMarker([row['latitude'], row['longitude']], \n",
    "                        radius=4,\n",
    "                        color=\"blue\"\n",
    "                        ).add_to(map_toronto_open_closed)"
   ]
  },
  {
   "cell_type": "code",
   "execution_count": 35,
   "metadata": {},
   "outputs": [
    {
     "data": {
      "text/plain": [
       "True"
      ]
     },
     "execution_count": 35,
     "metadata": {},
     "output_type": "execute_result"
    }
   ],
   "source": [
    "map_toronto_open_closed.save('map_toronto_open_closed.html')\n",
    "webbrowser.open('file://' + os.getcwd() + 'map_toronto_open_closed.html')"
   ]
  },
  {
   "cell_type": "markdown",
   "metadata": {},
   "source": [
    "* <font color='blue'> Map of successful restaurants"
   ]
  },
  {
   "cell_type": "markdown",
   "metadata": {},
   "source": [
    "> Calculate success score according to stars and review counts"
   ]
  },
  {
   "cell_type": "code",
   "execution_count": 38,
   "metadata": {},
   "outputs": [],
   "source": [
    "def normalize(normalized_bounds, actual_bounds, data):\n",
    "    return ([normalized_bounds[0] + (x - actual_bounds[0]) * (normalized_bounds[1] - normalized_bounds[0]) / (actual_bounds[1] - actual_bounds[0]) for x in data])"
   ]
  },
  {
   "cell_type": "code",
   "execution_count": 39,
   "metadata": {},
   "outputs": [],
   "source": [
    "normalized_bounds = [df_business_toronto_rest.stars.min(), df_business_toronto_rest.stars.max()]\n",
    "actual_bounds = [df_business_toronto_rest.review_count.min(), df_business_toronto_rest.review_count.max()]"
   ]
  },
  {
   "cell_type": "code",
   "execution_count": 40,
   "metadata": {},
   "outputs": [
    {
     "name": "stderr",
     "output_type": "stream",
     "text": [
      "/Users/yingrui/opt/anaconda3/lib/python3.7/site-packages/ipykernel_launcher.py:2: SettingWithCopyWarning: \n",
      "A value is trying to be set on a copy of a slice from a DataFrame.\n",
      "Try using .loc[row_indexer,col_indexer] = value instead\n",
      "\n",
      "See the caveats in the documentation: https://pandas.pydata.org/pandas-docs/stable/user_guide/indexing.html#returning-a-view-versus-a-copy\n",
      "  \n"
     ]
    }
   ],
   "source": [
    "df_business_toronto_rest['success_score'] = (normalize(normalized_bounds, actual_bounds, df_business_toronto_rest.review_count) + \\\n",
    "                                             df_business_toronto_rest.stars) / 2"
   ]
  },
  {
   "cell_type": "markdown",
   "metadata": {},
   "source": [
    "> Plot the top 100 restaurants on map"
   ]
  },
  {
   "cell_type": "code",
   "execution_count": 41,
   "metadata": {},
   "outputs": [],
   "source": [
    "df_business_toronto_success = df_business_toronto_rest.sort_values(by='success_score', ascending=False)"
   ]
  },
  {
   "cell_type": "code",
   "execution_count": 42,
   "metadata": {},
   "outputs": [],
   "source": [
    "map_toronto_success = folium.Map([lat_toronto, lon_toronto], zoom_start=20) \n",
    "\n",
    "for index, row in df_business_toronto_success[:100].iterrows():\n",
    "    folium.CircleMarker([row['latitude'], row['longitude']], \n",
    "                        radius=10,\n",
    "                        color=\"red\", fill_color=\"red\", \n",
    "                        ).add_to(map_toronto_success)"
   ]
  },
  {
   "cell_type": "code",
   "execution_count": 43,
   "metadata": {},
   "outputs": [
    {
     "data": {
      "text/plain": [
       "True"
      ]
     },
     "execution_count": 43,
     "metadata": {},
     "output_type": "execute_result"
    }
   ],
   "source": [
    "map_toronto_success.save('map_toronto_success.html')\n",
    "webbrowser.open('file://' + os.getcwd() + 'map_toronto_success.html')"
   ]
  }
 ],
 "metadata": {
  "kernelspec": {
   "display_name": "Python 3",
   "language": "python",
   "name": "python3"
  },
  "language_info": {
   "codemirror_mode": {
    "name": "ipython",
    "version": 3
   },
   "file_extension": ".py",
   "mimetype": "text/x-python",
   "name": "python",
   "nbconvert_exporter": "python",
   "pygments_lexer": "ipython3",
   "version": "3.7.6"
  }
 },
 "nbformat": 4,
 "nbformat_minor": 4
}
