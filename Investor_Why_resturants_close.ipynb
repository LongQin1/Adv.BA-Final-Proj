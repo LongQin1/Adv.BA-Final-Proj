{
 "cells": [
  {
   "cell_type": "markdown",
   "metadata": {},
   "source": [
    "# What makes resturants close"
   ]
  },
  {
   "cell_type": "markdown",
   "metadata": {},
   "source": [
    "In this part of the analysis we wish to investigate what factors makes resturants close."
   ]
  },
  {
   "cell_type": "markdown",
   "metadata": {},
   "source": [
    "## Load data"
   ]
  },
  {
   "cell_type": "code",
   "execution_count": 1,
   "metadata": {},
   "outputs": [],
   "source": [
    "import pandas as pd\n",
    "import numpy as np"
   ]
  },
  {
   "cell_type": "code",
   "execution_count": 2,
   "metadata": {},
   "outputs": [],
   "source": [
    "Resturants=pd.read_csv('data/toronto_restaurant_business.csv',encoding=\"utf8\")"
   ]
  },
  {
   "cell_type": "code",
   "execution_count": 3,
   "metadata": {},
   "outputs": [
    {
     "data": {
      "text/plain": [
       "8681"
      ]
     },
     "execution_count": 3,
     "metadata": {},
     "output_type": "execute_result"
    }
   ],
   "source": [
    "len(Resturants)"
   ]
  },
  {
   "cell_type": "markdown",
   "metadata": {},
   "source": [
    "## Data preparation"
   ]
  },
  {
   "cell_type": "markdown",
   "metadata": {},
   "source": [
    "First we remove data columns which decribe information which is only specific for the individual resturant. This will be the business id, the name of the resturant, address and since we are only intrested in resturants in Toronto also city and state. While longitude and latitude provide more precises information the information is overlapping with the postal_code, however the postal code provide a more general indication of the area and are therefore choosen to represent location."
   ]
  },
  {
   "cell_type": "code",
   "execution_count": 4,
   "metadata": {},
   "outputs": [
    {
     "data": {
      "text/html": [
       "<div>\n",
       "<style scoped>\n",
       "    .dataframe tbody tr th:only-of-type {\n",
       "        vertical-align: middle;\n",
       "    }\n",
       "\n",
       "    .dataframe tbody tr th {\n",
       "        vertical-align: top;\n",
       "    }\n",
       "\n",
       "    .dataframe thead th {\n",
       "        text-align: right;\n",
       "    }\n",
       "</style>\n",
       "<table border=\"1\" class=\"dataframe\">\n",
       "  <thead>\n",
       "    <tr style=\"text-align: right;\">\n",
       "      <th></th>\n",
       "      <th>business_id</th>\n",
       "      <th>name</th>\n",
       "      <th>address</th>\n",
       "      <th>city</th>\n",
       "      <th>state</th>\n",
       "      <th>postal_code</th>\n",
       "      <th>latitude</th>\n",
       "      <th>longitude</th>\n",
       "      <th>stars</th>\n",
       "      <th>review_count</th>\n",
       "      <th>is_open</th>\n",
       "      <th>attributes</th>\n",
       "      <th>categories</th>\n",
       "      <th>hours</th>\n",
       "    </tr>\n",
       "  </thead>\n",
       "  <tbody>\n",
       "    <tr>\n",
       "      <td>0</td>\n",
       "      <td>rVBPQdeayMYht4Uv_FOLHg</td>\n",
       "      <td>Gourmet Burger Company</td>\n",
       "      <td>843 Kipling Avenue</td>\n",
       "      <td>Toronto</td>\n",
       "      <td>ON</td>\n",
       "      <td>M8Z 5G9</td>\n",
       "      <td>43.633291</td>\n",
       "      <td>-79.531768</td>\n",
       "      <td>3.0</td>\n",
       "      <td>13</td>\n",
       "      <td>0</td>\n",
       "      <td>{\"RestaurantsPriceRange2\": \"2\", \"RestaurantsAt...</td>\n",
       "      <td>Restaurants, Burgers, Food</td>\n",
       "      <td>{}</td>\n",
       "    </tr>\n",
       "    <tr>\n",
       "      <td>1</td>\n",
       "      <td>0QjROMVW9ACKjhSEfHqNCQ</td>\n",
       "      <td>Mi Mi Restaurant</td>\n",
       "      <td>688 Gerrard Street E</td>\n",
       "      <td>Toronto</td>\n",
       "      <td>ON</td>\n",
       "      <td>M4M 1Y3</td>\n",
       "      <td>43.666376</td>\n",
       "      <td>-79.348773</td>\n",
       "      <td>4.0</td>\n",
       "      <td>116</td>\n",
       "      <td>1</td>\n",
       "      <td>{\"RestaurantsTakeOut\": \"True\", \"Alcohol\": \"bee...</td>\n",
       "      <td>Vietnamese, Restaurants</td>\n",
       "      <td>{\"Monday\": \"11:00-22:00\", \"Tuesday\": \"11:00-22...</td>\n",
       "    </tr>\n",
       "    <tr>\n",
       "      <td>2</td>\n",
       "      <td>8k62wYhDVq1-652YbJi5eg</td>\n",
       "      <td>Tim Hortons</td>\n",
       "      <td>90 Adelaide Street W</td>\n",
       "      <td>Toronto</td>\n",
       "      <td>ON</td>\n",
       "      <td>M5H 3V9</td>\n",
       "      <td>43.649859</td>\n",
       "      <td>-79.382060</td>\n",
       "      <td>3.0</td>\n",
       "      <td>8</td>\n",
       "      <td>1</td>\n",
       "      <td>{\"OutdoorSeating\": \"False\", \"RestaurantsDelive...</td>\n",
       "      <td>Bagels, Donuts, Food, Cafes, Coffee &amp; Tea, Res...</td>\n",
       "      <td>{}</td>\n",
       "    </tr>\n",
       "    <tr>\n",
       "      <td>3</td>\n",
       "      <td>0DnQh8SE8BSnvJltGCCiWg</td>\n",
       "      <td>Chick-N-Joy</td>\n",
       "      <td>3-1265 York Mills Road</td>\n",
       "      <td>Toronto</td>\n",
       "      <td>ON</td>\n",
       "      <td>M3A 1Z3</td>\n",
       "      <td>43.765279</td>\n",
       "      <td>-79.326248</td>\n",
       "      <td>3.0</td>\n",
       "      <td>11</td>\n",
       "      <td>1</td>\n",
       "      <td>{\"NoiseLevel\": \"loud\", \"BusinessParking\": {\"ga...</td>\n",
       "      <td>Fast Food, Restaurants, Chicken Shop</td>\n",
       "      <td>{}</td>\n",
       "    </tr>\n",
       "    <tr>\n",
       "      <td>4</td>\n",
       "      <td>NLaK58WvlNQdUunSIkt-jA</td>\n",
       "      <td>Zav Coffee Shop &amp; Gallery</td>\n",
       "      <td>2048 Danforth Avenue</td>\n",
       "      <td>Toronto</td>\n",
       "      <td>ON</td>\n",
       "      <td>M4C 1J6</td>\n",
       "      <td>43.685608</td>\n",
       "      <td>-79.313936</td>\n",
       "      <td>4.5</td>\n",
       "      <td>24</td>\n",
       "      <td>1</td>\n",
       "      <td>{\"DogsAllowed\": \"False\", \"OutdoorSeating\": \"Tr...</td>\n",
       "      <td>Coffee &amp; Tea, Restaurants, Sandwiches, Food</td>\n",
       "      <td>{\"Monday\": \"0:00-0:00\", \"Tuesday\": \"7:30-17:00...</td>\n",
       "    </tr>\n",
       "    <tr>\n",
       "      <td>...</td>\n",
       "      <td>...</td>\n",
       "      <td>...</td>\n",
       "      <td>...</td>\n",
       "      <td>...</td>\n",
       "      <td>...</td>\n",
       "      <td>...</td>\n",
       "      <td>...</td>\n",
       "      <td>...</td>\n",
       "      <td>...</td>\n",
       "      <td>...</td>\n",
       "      <td>...</td>\n",
       "      <td>...</td>\n",
       "      <td>...</td>\n",
       "      <td>...</td>\n",
       "    </tr>\n",
       "    <tr>\n",
       "      <td>8676</td>\n",
       "      <td>thzyiQZb16zD8wMliaEfRQ</td>\n",
       "      <td>Sushi Supreme</td>\n",
       "      <td>1995 Yonge Street</td>\n",
       "      <td>Toronto</td>\n",
       "      <td>ON</td>\n",
       "      <td>M4S 1Z8</td>\n",
       "      <td>43.700617</td>\n",
       "      <td>-79.396762</td>\n",
       "      <td>4.0</td>\n",
       "      <td>104</td>\n",
       "      <td>1</td>\n",
       "      <td>{\"Ambience\": {\"romantic\": \"False\", \"intimate\":...</td>\n",
       "      <td>Sushi Bars, Restaurants, Japanese</td>\n",
       "      <td>{\"Monday\": \"12:00-23:00\", \"Tuesday\": \"12:00-23...</td>\n",
       "    </tr>\n",
       "    <tr>\n",
       "      <td>8677</td>\n",
       "      <td>eUi3O-8Gqh_nJ_ZhO-25gQ</td>\n",
       "      <td>Get &amp; Go Burrito</td>\n",
       "      <td>1077 Wilson Avenue, Unit 8</td>\n",
       "      <td>Toronto</td>\n",
       "      <td>ON</td>\n",
       "      <td>M3K 1G7</td>\n",
       "      <td>43.726656</td>\n",
       "      <td>-79.480365</td>\n",
       "      <td>3.5</td>\n",
       "      <td>43</td>\n",
       "      <td>1</td>\n",
       "      <td>{\"BusinessParking\": {\"garage\": \"False\", \"stree...</td>\n",
       "      <td>Mexican, Restaurants</td>\n",
       "      <td>{\"Monday\": \"11:00-23:00\", \"Tuesday\": \"11:00-23...</td>\n",
       "    </tr>\n",
       "    <tr>\n",
       "      <td>8678</td>\n",
       "      <td>yFQCdWr_k1pTObzHPGis9Q</td>\n",
       "      <td>Grasshopper Restaurant</td>\n",
       "      <td>310 College Street</td>\n",
       "      <td>Toronto</td>\n",
       "      <td>ON</td>\n",
       "      <td>M5T 1S2</td>\n",
       "      <td>43.657716</td>\n",
       "      <td>-79.402098</td>\n",
       "      <td>4.0</td>\n",
       "      <td>177</td>\n",
       "      <td>1</td>\n",
       "      <td>{\"DogsAllowed\": \"False\", \"BikeParking\": \"True\"...</td>\n",
       "      <td>Vegan, Restaurants, Vegetarian, Salad</td>\n",
       "      <td>{\"Monday\": \"11:30-22:00\", \"Tuesday\": \"11:30-22...</td>\n",
       "    </tr>\n",
       "    <tr>\n",
       "      <td>8679</td>\n",
       "      <td>GAgEoHcf4PSuZRS5Zd3ltA</td>\n",
       "      <td>Q's Shawarma</td>\n",
       "      <td>1075 Martin Grove Road</td>\n",
       "      <td>Toronto</td>\n",
       "      <td>ON</td>\n",
       "      <td>M9W 4W6</td>\n",
       "      <td>43.701807</td>\n",
       "      <td>-79.575135</td>\n",
       "      <td>4.0</td>\n",
       "      <td>16</td>\n",
       "      <td>1</td>\n",
       "      <td>{\"GoodForKids\": \"True\", \"HasTV\": \"True\", \"Rest...</td>\n",
       "      <td>Restaurants, Mediterranean</td>\n",
       "      <td>{\"Monday\": \"11:00-21:00\", \"Tuesday\": \"11:00-21...</td>\n",
       "    </tr>\n",
       "    <tr>\n",
       "      <td>8680</td>\n",
       "      <td>n2BKYb8aw4AhRKLkdUjQRg</td>\n",
       "      <td>Steak &amp; Cheese &amp; Quick Pita Restaurant</td>\n",
       "      <td>199 College St</td>\n",
       "      <td>Toronto</td>\n",
       "      <td>ON</td>\n",
       "      <td>M5T 1P9</td>\n",
       "      <td>43.658683</td>\n",
       "      <td>-79.395071</td>\n",
       "      <td>2.5</td>\n",
       "      <td>21</td>\n",
       "      <td>1</td>\n",
       "      <td>{\"OutdoorSeating\": \"False\", \"Alcohol\": \"none\",...</td>\n",
       "      <td>Sandwiches, Restaurants</td>\n",
       "      <td>{}</td>\n",
       "    </tr>\n",
       "  </tbody>\n",
       "</table>\n",
       "<p>8681 rows × 14 columns</p>\n",
       "</div>"
      ],
      "text/plain": [
       "                 business_id                                    name  \\\n",
       "0     rVBPQdeayMYht4Uv_FOLHg                  Gourmet Burger Company   \n",
       "1     0QjROMVW9ACKjhSEfHqNCQ                        Mi Mi Restaurant   \n",
       "2     8k62wYhDVq1-652YbJi5eg                             Tim Hortons   \n",
       "3     0DnQh8SE8BSnvJltGCCiWg                             Chick-N-Joy   \n",
       "4     NLaK58WvlNQdUunSIkt-jA               Zav Coffee Shop & Gallery   \n",
       "...                      ...                                     ...   \n",
       "8676  thzyiQZb16zD8wMliaEfRQ                           Sushi Supreme   \n",
       "8677  eUi3O-8Gqh_nJ_ZhO-25gQ                        Get & Go Burrito   \n",
       "8678  yFQCdWr_k1pTObzHPGis9Q                  Grasshopper Restaurant   \n",
       "8679  GAgEoHcf4PSuZRS5Zd3ltA                            Q's Shawarma   \n",
       "8680  n2BKYb8aw4AhRKLkdUjQRg  Steak & Cheese & Quick Pita Restaurant   \n",
       "\n",
       "                         address     city state postal_code   latitude  \\\n",
       "0             843 Kipling Avenue  Toronto    ON     M8Z 5G9  43.633291   \n",
       "1           688 Gerrard Street E  Toronto    ON     M4M 1Y3  43.666376   \n",
       "2           90 Adelaide Street W  Toronto    ON     M5H 3V9  43.649859   \n",
       "3         3-1265 York Mills Road  Toronto    ON     M3A 1Z3  43.765279   \n",
       "4           2048 Danforth Avenue  Toronto    ON     M4C 1J6  43.685608   \n",
       "...                          ...      ...   ...         ...        ...   \n",
       "8676           1995 Yonge Street  Toronto    ON     M4S 1Z8  43.700617   \n",
       "8677  1077 Wilson Avenue, Unit 8  Toronto    ON     M3K 1G7  43.726656   \n",
       "8678          310 College Street  Toronto    ON     M5T 1S2  43.657716   \n",
       "8679      1075 Martin Grove Road  Toronto    ON     M9W 4W6  43.701807   \n",
       "8680              199 College St  Toronto    ON     M5T 1P9  43.658683   \n",
       "\n",
       "      longitude  stars  review_count  is_open  \\\n",
       "0    -79.531768    3.0            13        0   \n",
       "1    -79.348773    4.0           116        1   \n",
       "2    -79.382060    3.0             8        1   \n",
       "3    -79.326248    3.0            11        1   \n",
       "4    -79.313936    4.5            24        1   \n",
       "...         ...    ...           ...      ...   \n",
       "8676 -79.396762    4.0           104        1   \n",
       "8677 -79.480365    3.5            43        1   \n",
       "8678 -79.402098    4.0           177        1   \n",
       "8679 -79.575135    4.0            16        1   \n",
       "8680 -79.395071    2.5            21        1   \n",
       "\n",
       "                                             attributes  \\\n",
       "0     {\"RestaurantsPriceRange2\": \"2\", \"RestaurantsAt...   \n",
       "1     {\"RestaurantsTakeOut\": \"True\", \"Alcohol\": \"bee...   \n",
       "2     {\"OutdoorSeating\": \"False\", \"RestaurantsDelive...   \n",
       "3     {\"NoiseLevel\": \"loud\", \"BusinessParking\": {\"ga...   \n",
       "4     {\"DogsAllowed\": \"False\", \"OutdoorSeating\": \"Tr...   \n",
       "...                                                 ...   \n",
       "8676  {\"Ambience\": {\"romantic\": \"False\", \"intimate\":...   \n",
       "8677  {\"BusinessParking\": {\"garage\": \"False\", \"stree...   \n",
       "8678  {\"DogsAllowed\": \"False\", \"BikeParking\": \"True\"...   \n",
       "8679  {\"GoodForKids\": \"True\", \"HasTV\": \"True\", \"Rest...   \n",
       "8680  {\"OutdoorSeating\": \"False\", \"Alcohol\": \"none\",...   \n",
       "\n",
       "                                             categories  \\\n",
       "0                            Restaurants, Burgers, Food   \n",
       "1                               Vietnamese, Restaurants   \n",
       "2     Bagels, Donuts, Food, Cafes, Coffee & Tea, Res...   \n",
       "3                  Fast Food, Restaurants, Chicken Shop   \n",
       "4           Coffee & Tea, Restaurants, Sandwiches, Food   \n",
       "...                                                 ...   \n",
       "8676                  Sushi Bars, Restaurants, Japanese   \n",
       "8677                               Mexican, Restaurants   \n",
       "8678              Vegan, Restaurants, Vegetarian, Salad   \n",
       "8679                         Restaurants, Mediterranean   \n",
       "8680                            Sandwiches, Restaurants   \n",
       "\n",
       "                                                  hours  \n",
       "0                                                    {}  \n",
       "1     {\"Monday\": \"11:00-22:00\", \"Tuesday\": \"11:00-22...  \n",
       "2                                                    {}  \n",
       "3                                                    {}  \n",
       "4     {\"Monday\": \"0:00-0:00\", \"Tuesday\": \"7:30-17:00...  \n",
       "...                                                 ...  \n",
       "8676  {\"Monday\": \"12:00-23:00\", \"Tuesday\": \"12:00-23...  \n",
       "8677  {\"Monday\": \"11:00-23:00\", \"Tuesday\": \"11:00-23...  \n",
       "8678  {\"Monday\": \"11:30-22:00\", \"Tuesday\": \"11:30-22...  \n",
       "8679  {\"Monday\": \"11:00-21:00\", \"Tuesday\": \"11:00-21...  \n",
       "8680                                                 {}  \n",
       "\n",
       "[8681 rows x 14 columns]"
      ]
     },
     "execution_count": 4,
     "metadata": {},
     "output_type": "execute_result"
    }
   ],
   "source": [
    "Resturants"
   ]
  },
  {
   "cell_type": "code",
   "execution_count": 5,
   "metadata": {},
   "outputs": [],
   "source": [
    "Resturants=Resturants.drop(['name','address','city','state','longitude','latitude','business_id'],axis=1)"
   ]
  },
  {
   "cell_type": "markdown",
   "metadata": {},
   "source": [
    "To be able to work with the data postal_code is one-hot-encoded."
   ]
  },
  {
   "cell_type": "code",
   "execution_count": 6,
   "metadata": {},
   "outputs": [],
   "source": [
    "Resturants=pd.concat([Resturants,pd.get_dummies(Resturants.postal_code,prefix='postal_code',drop_first=False)],axis=1)\n",
    "Resturants=Resturants.drop(['postal_code'],axis=1)"
   ]
  },
  {
   "cell_type": "markdown",
   "metadata": {},
   "source": [
    "The atributtes ne"
   ]
  },
  {
   "cell_type": "code",
   "execution_count": 7,
   "metadata": {},
   "outputs": [],
   "source": [
    "# attribute is transformed from string to dictionaries\n",
    "Resturants.attributes=Resturants.attributes.apply(lambda d: eval(d))"
   ]
  },
  {
   "cell_type": "markdown",
   "metadata": {},
   "source": [
    "As not all attributes are listed for all resturants we first need to get a list of all available attributes"
   ]
  },
  {
   "cell_type": "code",
   "execution_count": 8,
   "metadata": {},
   "outputs": [
    {
     "name": "stdout",
     "output_type": "stream",
     "text": [
      "The are the following 37 attributes:\n",
      "- Corkage\n",
      "- CoatCheck\n",
      "- RestaurantsTakeOut\n",
      "- BusinessParking\n",
      "- BusinessAcceptsBitcoin\n",
      "- GoodForDancing\n",
      "- BikeParking\n",
      "- DietaryRestrictions\n",
      "- BusinessAcceptsCreditCards\n",
      "- RestaurantsAttire\n",
      "- RestaurantsDelivery\n",
      "- AgesAllowed\n",
      "- RestaurantsPriceRange2\n",
      "- RestaurantsCounterService\n",
      "- WheelchairAccessible\n",
      "- NoiseLevel\n",
      "- DogsAllowed\n",
      "- DriveThru\n",
      "- Caters\n",
      "- BYOB\n",
      "- Ambience\n",
      "- HappyHour\n",
      "- OutdoorSeating\n",
      "- GoodForMeal\n",
      "- Music\n",
      "- BestNights\n",
      "- AcceptsInsurance\n",
      "- HasTV\n",
      "- RestaurantsReservations\n",
      "- ByAppointmentOnly\n",
      "- RestaurantsGoodForGroups\n",
      "- HairSpecializesIn\n",
      "- WiFi\n",
      "- RestaurantsTableService\n",
      "- Alcohol\n",
      "- GoodForKids\n",
      "- Smoking\n"
     ]
    }
   ],
   "source": [
    "attributes=set([])\n",
    "for d in Resturants.attributes:\n",
    "    attributes=attributes.union(set(d.keys()))\n",
    "print(\"The are the following {} attributes:\".format(len(attributes)))\n",
    "for attribute in attributes:\n",
    "    print(\"- {}\".format(attribute))"
   ]
  },
  {
   "cell_type": "markdown",
   "metadata": {},
   "source": [
    "Each attribute is now represented as individual columns in the dataframe."
   ]
  },
  {
   "cell_type": "code",
   "execution_count": 11,
   "metadata": {},
   "outputs": [
    {
     "name": "stdout",
     "output_type": "stream",
     "text": [
      "Percent of resturants for which attribute is NaN:\n",
      "---------------------------------------------------------\n",
      "Corkage: 99.35491302845294%\n",
      "CoatCheck: 95.63414353185117%\n",
      "RestaurantsTakeOut: 15.631839649809931%\n",
      "BusinessParking: 18.78815804630803%\n",
      "BusinessAcceptsBitcoin: 99.9769611795876%\n",
      "GoodForDancing: 94.74714894597398%\n",
      "BikeParking: 39.00472295818454%\n",
      "DietaryRestrictions: 99.86176707752563%\n",
      "BusinessAcceptsCreditCards: 96.8667204239143%\n",
      "RestaurantsAttire: 26.414007602810734%\n",
      "RestaurantsDelivery: 22.209422877548672%\n",
      "AgesAllowed: 99.9769611795876%\n",
      "RestaurantsPriceRange2: 19.32957032599931%\n",
      "RestaurantsCounterService: 99.98848058979381%\n",
      "WheelchairAccessible: 82.67480704987905%\n",
      "NoiseLevel: 34.48911415735515%\n",
      "DogsAllowed: 87.29409054256422%\n",
      "DriveThru: 96.49809929731597%\n",
      "Caters: 45.89333026149061%\n",
      "BYOB: 99.066927773298%\n",
      "Ambience: 21.518258265176822%\n",
      "HappyHour: 87.67423107936874%\n",
      "OutdoorSeating: 21.276350650846677%\n",
      "GoodForMeal: 47.909227047575165%\n",
      "Music: 92.25895634143532%\n",
      "BestNights: 94.86234304803594%\n",
      "AcceptsInsurance: 99.9769611795876%\n",
      "HasTV: 23.77606266559152%\n",
      "RestaurantsReservations: 19.68667204239143%\n",
      "ByAppointmentOnly: 96.72848750143993%\n",
      "RestaurantsGoodForGroups: 20.94228775486695%\n",
      "HairSpecializesIn: 99.9769611795876%\n",
      "WiFi: 33.19894021426103%\n",
      "RestaurantsTableService: 66.34028337749108%\n",
      "Alcohol: 29.24778251353531%\n",
      "GoodForKids: 22.474369312291213%\n",
      "Smoking: 95.72629881350075%\n"
     ]
    }
   ],
   "source": [
    "print(\"Percent of resturants for which attribute is NaN:\")\n",
    "print(\"---------------------------------------------------------\")\n",
    "for attribute in attributes:\n",
    "    Resturants[attribute]=Resturants.attributes.apply(lambda a:  a[attribute] if (attribute in a) else np.nan)\n",
    "    print(\"{}: {}%\".format(attribute,Resturants[attribute].isna().sum()/len(Resturants[attribute].isna())*100))\n",
    "Resturants=Resturants.drop(['attributes'],axis=1)"
   ]
  },
  {
   "cell_type": "markdown",
   "metadata": {},
   "source": [
    "As we can see that fare from all attributes are listed for all resturants. However NaN values does not provide information about a resturant, and can therefore not be included when training the classifier. Furthermore we see that certain attributes are not listed for most resturants. In such cases it is assumed that a value for NaN cases cannot gennerally be reasonably derived. Attributes where more than 80% of resturants don't have a value listed, are therefore removed. "
   ]
  },
  {
   "cell_type": "code",
   "execution_count": 12,
   "metadata": {},
   "outputs": [
    {
     "name": "stdout",
     "output_type": "stream",
     "text": [
      "Attributes disgarded:\n",
      "Corkage\n",
      "CoatCheck\n",
      "BusinessAcceptsBitcoin\n",
      "Music\n",
      "GoodForDancing\n",
      "BestNights\n",
      "DietaryRestrictions\n",
      "BusinessAcceptsCreditCards\n",
      "AcceptsInsurance\n",
      "AgesAllowed\n",
      "RestaurantsCounterService\n",
      "ByAppointmentOnly\n",
      "WheelchairAccessible\n",
      "HairSpecializesIn\n",
      "DogsAllowed\n",
      "DriveThru\n",
      "BYOB\n",
      "Smoking\n",
      "HappyHour\n",
      "-----------------------------\n",
      "There are 18 remaing attributes\n"
     ]
    }
   ],
   "source": [
    "disgarded_attributes=set([])\n",
    "for attribute in attributes:\n",
    "    percent_NaN=Resturants[attribute].isna().sum()/len(Resturants[attribute].isna())*100\n",
    "    if percent_NaN>=80:\n",
    "        Resturants=Resturants.drop([attribute],axis=1)\n",
    "        disgarded_attributes=disgarded_attributes.union(set([attribute]))\n",
    "attributes.difference_update(disgarded_attributes)        \n",
    "print(\"Attributes disgarded:\")\n",
    "for a in disgarded_attributes:\n",
    "      print(a) \n",
    "print(\"-----------------------------\")\n",
    "print(\"There are {} remaing attributes\".format(len(attributes)))"
   ]
  },
  {
   "cell_type": "code",
   "execution_count": 13,
   "metadata": {},
   "outputs": [
    {
     "name": "stdout",
     "output_type": "stream",
     "text": [
      "Percent of resturants for which attribute is NaN:\n",
      "---------------------------------------------------------\n",
      "RestaurantsTakeOut: 15.631839649809931%\n",
      "BusinessParking: 18.78815804630803%\n",
      "BikeParking: 39.00472295818454%\n",
      "RestaurantsAttire: 26.414007602810734%\n",
      "RestaurantsDelivery: 22.209422877548672%\n",
      "RestaurantsPriceRange2: 19.32957032599931%\n",
      "NoiseLevel: 34.48911415735515%\n",
      "Caters: 45.89333026149061%\n",
      "Ambience: 21.518258265176822%\n",
      "OutdoorSeating: 21.276350650846677%\n",
      "GoodForMeal: 47.909227047575165%\n",
      "HasTV: 23.77606266559152%\n",
      "RestaurantsReservations: 19.68667204239143%\n",
      "RestaurantsGoodForGroups: 20.94228775486695%\n",
      "WiFi: 33.19894021426103%\n",
      "RestaurantsTableService: 66.34028337749108%\n",
      "Alcohol: 29.24778251353531%\n",
      "GoodForKids: 22.474369312291213%\n"
     ]
    }
   ],
   "source": [
    "print(\"Percent of resturants for which attribute is NaN:\")\n",
    "print(\"---------------------------------------------------------\")\n",
    "for attribute in attributes:\n",
    "    print(\"{}: {}%\".format(attribute,Resturants[attribute].isna().sum()/len(Resturants[attribute].isna())*100))"
   ]
  },
  {
   "cell_type": "markdown",
   "metadata": {},
   "source": [
    "The above examples shove that there is a large difference between what kind of values are listed for each attribute. This mean that they must all be treated differently."
   ]
  },
  {
   "cell_type": "markdown",
   "metadata": {},
   "source": [
    "For the 18 remaining attributes there is still need to find a solution for NaN values."
   ]
  },
  {
   "cell_type": "code",
   "execution_count": 14,
   "metadata": {},
   "outputs": [
    {
     "name": "stdout",
     "output_type": "stream",
     "text": [
      "There are 1666 resturants with no NaN listed for attributes\n"
     ]
    }
   ],
   "source": [
    "print(\"There are {} resturants with no NaN listed for attributes\".format(len(Resturants.dropna())))"
   ]
  },
  {
   "cell_type": "markdown",
   "metadata": {},
   "source": [
    "As we can see droping all resturants with NaN values are not an option as it will limit the size of the dataset to drastic. "
   ]
  },
  {
   "cell_type": "code",
   "execution_count": 15,
   "metadata": {},
   "outputs": [
    {
     "data": {
      "text/plain": [
       "0       {'romantic': 'False', 'intimate': 'False', 'cl...\n",
       "1       {'romantic': 'False', 'intimate': 'False', 'cl...\n",
       "2       {'touristy': 'False', 'hipster': 'False', 'rom...\n",
       "3       {'touristy': 'False', 'hipster': 'False', 'rom...\n",
       "4                                                     NaN\n",
       "                              ...                        \n",
       "8676    {'romantic': 'False', 'intimate': 'False', 'cl...\n",
       "8677    {'romantic': 'False', 'intimate': 'False', 'cl...\n",
       "8678    {'touristy': 'False', 'hipster': 'False', 'rom...\n",
       "8679    {'romantic': 'False', 'intimate': 'False', 'cl...\n",
       "8680    {'touristy': 'False', 'hipster': 'False', 'rom...\n",
       "Name: Ambience, Length: 8681, dtype: object"
      ]
     },
     "execution_count": 15,
     "metadata": {},
     "output_type": "execute_result"
    }
   ],
   "source": [
    "Resturants.Ambience"
   ]
  },
  {
   "cell_type": "code",
   "execution_count": 16,
   "metadata": {},
   "outputs": [
    {
     "data": {
      "text/plain": [
       "0         NaN\n",
       "1        True\n",
       "2       False\n",
       "3        True\n",
       "4        True\n",
       "        ...  \n",
       "8676     True\n",
       "8677    False\n",
       "8678     True\n",
       "8679    False\n",
       "8680     True\n",
       "Name: BikeParking, Length: 8681, dtype: object"
      ]
     },
     "execution_count": 16,
     "metadata": {},
     "output_type": "execute_result"
    }
   ],
   "source": [
    "Resturants.BikeParking"
   ]
  },
  {
   "cell_type": "code",
   "execution_count": 17,
   "metadata": {},
   "outputs": [
    {
     "data": {
      "text/plain": [
       "0       average\n",
       "1       average\n",
       "2           NaN\n",
       "3          loud\n",
       "4           NaN\n",
       "         ...   \n",
       "8676    average\n",
       "8677    average\n",
       "8678    average\n",
       "8679        NaN\n",
       "8680      quiet\n",
       "Name: NoiseLevel, Length: 8681, dtype: object"
      ]
     },
     "execution_count": 17,
     "metadata": {},
     "output_type": "execute_result"
    }
   ],
   "source": [
    "Resturants.NoiseLevel"
   ]
  },
  {
   "cell_type": "markdown",
   "metadata": {},
   "source": [
    "As the above examples show the values in the the attributes are very different and a general solution is there for not available."
   ]
  },
  {
   "cell_type": "markdown",
   "metadata": {},
   "source": [
    "### Ambience"
   ]
  },
  {
   "cell_type": "code",
   "execution_count": 18,
   "metadata": {},
   "outputs": [
    {
     "data": {
      "text/plain": [
       "array([<class 'dict'>, <class 'float'>, <class 'str'>], dtype=object)"
      ]
     },
     "execution_count": 18,
     "metadata": {},
     "output_type": "execute_result"
    }
   ],
   "source": [
    "Resturants.Ambience.apply(lambda r: type(r)).unique()"
   ]
  },
  {
   "cell_type": "markdown",
   "metadata": {},
   "source": [
    "We can see that not all values are dictionaries or NaN values."
   ]
  },
  {
   "cell_type": "code",
   "execution_count": 19,
   "metadata": {},
   "outputs": [
    {
     "name": "stdout",
     "output_type": "stream",
     "text": [
      "None\n",
      "None\n",
      "None\n",
      "None\n",
      "None\n",
      "None\n",
      "None\n",
      "None\n",
      "None\n",
      "None\n",
      "None\n",
      "None\n",
      "None\n",
      "None\n",
      "None\n",
      "None\n",
      "None\n",
      "None\n",
      "None\n",
      "None\n",
      "None\n",
      "None\n",
      "None\n",
      "None\n",
      "None\n"
     ]
    }
   ],
   "source": [
    "for a in Resturants.Ambience:\n",
    "    if type(a)==str:\n",
    "        print(a)"
   ]
  },
  {
   "cell_type": "markdown",
   "metadata": {},
   "source": [
    "We see that values such as None are also available. This appear to coorespond well with NaN. We now take a look at the dictionaries."
   ]
  },
  {
   "cell_type": "code",
   "execution_count": 20,
   "metadata": {},
   "outputs": [
    {
     "data": {
      "text/plain": [
       "0        True\n",
       "1        True\n",
       "2       False\n",
       "3       False\n",
       "4        True\n",
       "        ...  \n",
       "8676     True\n",
       "8677     True\n",
       "8678    False\n",
       "8679     True\n",
       "8680    False\n",
       "Name: Ambience, Length: 8681, dtype: bool"
      ]
     },
     "execution_count": 20,
     "metadata": {},
     "output_type": "execute_result"
    }
   ],
   "source": [
    "ambience_keys=set(Resturants.Ambience[0].keys())\n",
    "Resturants.Ambience.apply(lambda d: set(d.keys())==ambience_keys if type(d)==dict else True)"
   ]
  },
  {
   "cell_type": "markdown",
   "metadata": {},
   "source": [
    "We see that there not all ambience dictionaries contains the same keys. We therefor have to collect all keys."
   ]
  },
  {
   "cell_type": "code",
   "execution_count": 22,
   "metadata": {},
   "outputs": [
    {
     "name": "stdout",
     "output_type": "stream",
     "text": [
      "The are the following 9 keys used to describe ambience:\n",
      "- casual\n",
      "- upscale\n",
      "- divey\n",
      "- intimate\n",
      "- touristy\n",
      "- hipster\n",
      "- classy\n",
      "- romantic\n",
      "- trendy\n"
     ]
    }
   ],
   "source": [
    "ambience_keys=set([])\n",
    "for d in Resturants.Ambience:\n",
    "    if type(d)==dict:\n",
    "        ambience_keys=ambience_keys.union(set(d.keys()))\n",
    "print(\"The are the following {} keys used to describe ambience:\".format(len(ambience_keys)))\n",
    "for key in ambience_keys:\n",
    "    print(\"- {}\".format(key))"
   ]
  },
  {
   "cell_type": "markdown",
   "metadata": {},
   "source": [
    "Each are now represented by a new column, where NaN and None are represented as False. Here 0 and 1 are used."
   ]
  },
  {
   "cell_type": "code",
   "execution_count": 24,
   "metadata": {},
   "outputs": [],
   "source": [
    "for key in ambience_keys:\n",
    "    Resturants[key]=Resturants.Ambience.apply(lambda a:  int(bool(a[key])) if type(a)==dict and (key in a) else 0)\n",
    "Resturants=Resturants.drop(['Ambience'],axis=1)"
   ]
  },
  {
   "cell_type": "markdown",
   "metadata": {},
   "source": [
    "### Wifi"
   ]
  },
  {
   "cell_type": "code",
   "execution_count": 25,
   "metadata": {},
   "outputs": [
    {
     "data": {
      "text/plain": [
       "array(['no', 'free', nan, 'paid', 'None'], dtype=object)"
      ]
     },
     "execution_count": 25,
     "metadata": {},
     "output_type": "execute_result"
    }
   ],
   "source": [
    "Resturants.WiFi.unique()"
   ]
  },
  {
   "cell_type": "markdown",
   "metadata": {},
   "source": [
    "We see that there is an overlap of categories, with no and None meaning the same thing. The values are therefor both set to 'no'. To address the issue of NaN, this is here assumed to be 'no' aswell."
   ]
  },
  {
   "cell_type": "code",
   "execution_count": 26,
   "metadata": {},
   "outputs": [],
   "source": [
    "Resturants.WiFi=Resturants.WiFi.replace(\"None\",\"no\")\n",
    "Resturants.WiFi=Resturants.WiFi.replace(np.nan,\"no\")"
   ]
  },
  {
   "cell_type": "markdown",
   "metadata": {},
   "source": [
    "Wifi cannow be one-hot encoded."
   ]
  },
  {
   "cell_type": "code",
   "execution_count": 27,
   "metadata": {},
   "outputs": [],
   "source": [
    "Resturants=pd.concat([Resturants,pd.get_dummies(Resturants.WiFi,prefix='Wifi_',drop_first=False)],axis=1)\n",
    "Resturants=Resturants.drop(['WiFi'],axis=1)"
   ]
  },
  {
   "cell_type": "markdown",
   "metadata": {},
   "source": [
    "### Noise level"
   ]
  },
  {
   "cell_type": "code",
   "execution_count": 28,
   "metadata": {},
   "outputs": [
    {
     "data": {
      "text/plain": [
       "array(['average', nan, 'loud', 'quiet', 'very_loud', 'None'], dtype=object)"
      ]
     },
     "execution_count": 28,
     "metadata": {},
     "output_type": "execute_result"
    }
   ],
   "source": [
    "Resturants.NoiseLevel.unique()"
   ]
  },
  {
   "cell_type": "markdown",
   "metadata": {},
   "source": [
    "We again see that None and nan is overlapping. When nothing have been mentioned we will here assume average noise level"
   ]
  },
  {
   "cell_type": "code",
   "execution_count": 29,
   "metadata": {},
   "outputs": [],
   "source": [
    "Resturants.NoiseLevel=Resturants.NoiseLevel.replace(\"None\",\"average\")\n",
    "Resturants.NoiseLevel=Resturants.NoiseLevel.replace(np.nan,\"average\")"
   ]
  },
  {
   "cell_type": "code",
   "execution_count": 30,
   "metadata": {},
   "outputs": [],
   "source": [
    "Resturants=pd.concat([Resturants,pd.get_dummies(Resturants.NoiseLevel,prefix='NoiseLevel_',drop_first=False)],axis=1)\n",
    "Resturants=Resturants.drop(['NoiseLevel'],axis=1)"
   ]
  },
  {
   "cell_type": "markdown",
   "metadata": {},
   "source": [
    "### Outdoor seating"
   ]
  },
  {
   "cell_type": "code",
   "execution_count": 31,
   "metadata": {},
   "outputs": [
    {
     "data": {
      "text/plain": [
       "array(['False', 'True', nan, 'None'], dtype=object)"
      ]
     },
     "execution_count": 31,
     "metadata": {},
     "output_type": "execute_result"
    }
   ],
   "source": [
    "Resturants.OutdoorSeating.unique()"
   ]
  },
  {
   "cell_type": "markdown",
   "metadata": {},
   "source": [
    "Again same trend. If nothing is mentioned we are gonna assume False."
   ]
  },
  {
   "cell_type": "code",
   "execution_count": 32,
   "metadata": {},
   "outputs": [],
   "source": [
    "Resturants.OutdoorSeating=Resturants.OutdoorSeating.replace(\"None\",0)\n",
    "Resturants.OutdoorSeating=Resturants.OutdoorSeating.replace(np.nan,0)\n",
    "Resturants.OutdoorSeating=Resturants.OutdoorSeating.replace('False',0)\n",
    "Resturants.OutdoorSeating=Resturants.OutdoorSeating.replace('True',1)"
   ]
  },
  {
   "cell_type": "markdown",
   "metadata": {},
   "source": [
    "### Restaurants TakeOut"
   ]
  },
  {
   "cell_type": "code",
   "execution_count": 33,
   "metadata": {},
   "outputs": [
    {
     "data": {
      "text/plain": [
       "array(['True', 'False', nan, 'None'], dtype=object)"
      ]
     },
     "execution_count": 33,
     "metadata": {},
     "output_type": "execute_result"
    }
   ],
   "source": [
    "Resturants.RestaurantsTakeOut.unique()"
   ]
  },
  {
   "cell_type": "markdown",
   "metadata": {},
   "source": [
    "Same approach is used"
   ]
  },
  {
   "cell_type": "code",
   "execution_count": 34,
   "metadata": {},
   "outputs": [],
   "source": [
    "Resturants.OutdoorSeating=Resturants.OutdoorSeating.replace(\"None\",0)\n",
    "Resturants.OutdoorSeating=Resturants.OutdoorSeating.replace(np.nan,0)\n",
    "Resturants.OutdoorSeating=Resturants.OutdoorSeating.replace('False',0)\n",
    "Resturants.OutdoorSeating=Resturants.OutdoorSeating.replace('True',1)"
   ]
  },
  {
   "cell_type": "markdown",
   "metadata": {},
   "source": [
    "### Delivery"
   ]
  },
  {
   "cell_type": "code",
   "execution_count": 35,
   "metadata": {},
   "outputs": [
    {
     "data": {
      "text/plain": [
       "array(['True', 'False', nan, 'None'], dtype=object)"
      ]
     },
     "execution_count": 35,
     "metadata": {},
     "output_type": "execute_result"
    }
   ],
   "source": [
    "Resturants.RestaurantsTakeOut.unique()"
   ]
  },
  {
   "cell_type": "code",
   "execution_count": 36,
   "metadata": {},
   "outputs": [],
   "source": [
    "Resturants.RestaurantsTakeOut=Resturants.RestaurantsTakeOut.replace(\"None\",0)\n",
    "Resturants.RestaurantsTakeOut=Resturants.RestaurantsTakeOut.replace(np.nan,0)\n",
    "Resturants.RestaurantsTakeOut=Resturants.RestaurantsTakeOut.replace('False',0)\n",
    "Resturants.RestaurantsTakeOut=Resturants.RestaurantsTakeOut.replace('True',1)"
   ]
  },
  {
   "cell_type": "markdown",
   "metadata": {},
   "source": [
    "### Reservations"
   ]
  },
  {
   "cell_type": "code",
   "execution_count": 37,
   "metadata": {},
   "outputs": [
    {
     "data": {
      "text/plain": [
       "array(['False', nan, 'True', 'None'], dtype=object)"
      ]
     },
     "execution_count": 37,
     "metadata": {},
     "output_type": "execute_result"
    }
   ],
   "source": [
    "Resturants.RestaurantsReservations.unique()"
   ]
  },
  {
   "cell_type": "code",
   "execution_count": 38,
   "metadata": {},
   "outputs": [],
   "source": [
    "Resturants.RestaurantsReservations=Resturants.RestaurantsReservations.replace(\"None\",0)\n",
    "Resturants.RestaurantsReservations=Resturants.RestaurantsReservations.replace(np.nan,0)\n",
    "Resturants.RestaurantsReservations=Resturants.RestaurantsReservations.replace('False',0)\n",
    "Resturants.RestaurantsReservations=Resturants.RestaurantsReservations.replace('True',1)"
   ]
  },
  {
   "cell_type": "markdown",
   "metadata": {},
   "source": [
    "### Has TV"
   ]
  },
  {
   "cell_type": "code",
   "execution_count": 39,
   "metadata": {},
   "outputs": [
    {
     "data": {
      "text/plain": [
       "array(['False', 'True', nan, 'None'], dtype=object)"
      ]
     },
     "execution_count": 39,
     "metadata": {},
     "output_type": "execute_result"
    }
   ],
   "source": [
    "Resturants.HasTV.unique()"
   ]
  },
  {
   "cell_type": "code",
   "execution_count": 40,
   "metadata": {},
   "outputs": [],
   "source": [
    "Resturants.HasTV=Resturants.HasTV.replace(\"None\",0)\n",
    "Resturants.HasTV=Resturants.HasTV.replace(np.nan,0)\n",
    "Resturants.HasTV=Resturants.HasTV.replace('False',0)\n",
    "Resturants.HasTV=Resturants.HasTV.replace('True',1)"
   ]
  },
  {
   "cell_type": "markdown",
   "metadata": {},
   "source": [
    "# Restaurants Price Range"
   ]
  },
  {
   "cell_type": "code",
   "execution_count": 41,
   "metadata": {},
   "outputs": [
    {
     "data": {
      "text/plain": [
       "array(['2', '1', '3', nan, '4', 'None'], dtype=object)"
      ]
     },
     "execution_count": 41,
     "metadata": {},
     "output_type": "execute_result"
    }
   ],
   "source": [
    "Resturants.RestaurantsPriceRange2.unique()"
   ]
  },
  {
   "cell_type": "markdown",
   "metadata": {},
   "source": [
    "None and NaN is assumed to be the most common price range"
   ]
  },
  {
   "cell_type": "code",
   "execution_count": 42,
   "metadata": {},
   "outputs": [],
   "source": [
    "Resturants.RestaurantsPriceRange2=Resturants.RestaurantsPriceRange2.replace('None',np.nan)\n",
    "Resturants.RestaurantsPriceRange2=Resturants.RestaurantsPriceRange2.apply(lambda l: float(l) if type(l)==str else l)"
   ]
  },
  {
   "cell_type": "code",
   "execution_count": 43,
   "metadata": {},
   "outputs": [],
   "source": [
    "common_priceRange=Resturants.RestaurantsPriceRange2.mode()\n",
    "Resturants.RestaurantsPriceRange2=Resturants.RestaurantsPriceRange2.replace(np.nan,common_priceRange)"
   ]
  },
  {
   "cell_type": "markdown",
   "metadata": {},
   "source": [
    "### Table Service"
   ]
  },
  {
   "cell_type": "code",
   "execution_count": 44,
   "metadata": {},
   "outputs": [
    {
     "data": {
      "text/plain": [
       "array([nan, 'True', 'False', 'None'], dtype=object)"
      ]
     },
     "execution_count": 44,
     "metadata": {},
     "output_type": "execute_result"
    }
   ],
   "source": [
    "Resturants.RestaurantsTableService.unique()"
   ]
  },
  {
   "cell_type": "markdown",
   "metadata": {},
   "source": [
    "When not listed it is assumed that table service is available."
   ]
  },
  {
   "cell_type": "code",
   "execution_count": 45,
   "metadata": {},
   "outputs": [],
   "source": [
    "Resturants.RestaurantsTableService=Resturants.RestaurantsTableService.replace(\"None\",1)\n",
    "Resturants.RestaurantsTableService=Resturants.RestaurantsTableService.replace(np.nan,1)\n",
    "Resturants.RestaurantsTableService=Resturants.RestaurantsTableService.replace('False',0)\n",
    "Resturants.RestaurantsTableService=Resturants.RestaurantsTableService.replace('True',1)"
   ]
  },
  {
   "cell_type": "markdown",
   "metadata": {},
   "source": [
    "### Alcohol"
   ]
  },
  {
   "cell_type": "code",
   "execution_count": 46,
   "metadata": {},
   "outputs": [
    {
     "data": {
      "text/plain": [
       "array(['none', 'beer_and_wine', nan, 'full_bar', 'None'], dtype=object)"
      ]
     },
     "execution_count": 46,
     "metadata": {},
     "output_type": "execute_result"
    }
   ],
   "source": [
    "Resturants.Alcohol.unique()"
   ]
  },
  {
   "cell_type": "markdown",
   "metadata": {},
   "source": [
    "None and none are here interpreted to mean that aclohol is not served. Nan is assigned the most common value."
   ]
  },
  {
   "cell_type": "code",
   "execution_count": 47,
   "metadata": {},
   "outputs": [
    {
     "name": "stdout",
     "output_type": "stream",
     "text": [
      "0    full_bar\n",
      "dtype: object\n"
     ]
    }
   ],
   "source": [
    "common_alcohol_serving=Resturants.Alcohol.mode()\n",
    "print(common_alcohol_serving)\n",
    "Resturants.Alcohol=Resturants.Alcohol.replace(np.nan,common_alcohol_serving)\n",
    "Resturants.Alcohol=Resturants.Alcohol.replace('none','None')"
   ]
  },
  {
   "cell_type": "code",
   "execution_count": 53,
   "metadata": {},
   "outputs": [],
   "source": [
    "Resturants=pd.concat([Resturants,pd.get_dummies(Resturants.Alcohol,prefix='Alcohol',drop_first=False)],axis=1)\n",
    "Resturants=Resturants.drop(['Alcohol','Alcohol_None'],axis=1)"
   ]
  },
  {
   "cell_type": "markdown",
   "metadata": {},
   "source": [
    "### Business Parking"
   ]
  },
  {
   "cell_type": "code",
   "execution_count": 54,
   "metadata": {},
   "outputs": [
    {
     "data": {
      "text/plain": [
       "0       {'garage': 'False', 'street': 'False', 'valida...\n",
       "1       {'garage': 'False', 'street': 'True', 'validat...\n",
       "2       {'garage': 'False', 'street': 'False', 'valida...\n",
       "3       {'garage': 'False', 'street': 'False', 'valida...\n",
       "4       {'garage': 'False', 'street': 'False', 'valida...\n",
       "                              ...                        \n",
       "8676    {'garage': 'False', 'street': 'True', 'validat...\n",
       "8677    {'garage': 'False', 'street': 'False', 'valida...\n",
       "8678    {'garage': 'False', 'street': 'True', 'validat...\n",
       "8679                                                  NaN\n",
       "8680    {'garage': 'False', 'street': 'True', 'validat...\n",
       "Name: BusinessParking, Length: 8681, dtype: object"
      ]
     },
     "execution_count": 54,
     "metadata": {},
     "output_type": "execute_result"
    }
   ],
   "source": [
    "Resturants.BusinessParking"
   ]
  },
  {
   "cell_type": "code",
   "execution_count": 56,
   "metadata": {},
   "outputs": [
    {
     "name": "stdout",
     "output_type": "stream",
     "text": [
      "The are the following 5 keys used to discribe parking:\n",
      "- valet\n",
      "- validated\n",
      "- lot\n",
      "- garage\n",
      "- street\n"
     ]
    }
   ],
   "source": [
    "parking_keys=set([])\n",
    "for d in Resturants.BusinessParking:\n",
    "    if type(d)==dict:\n",
    "        parking_keys=parking_keys.union(set(d.keys()))\n",
    "print(\"The are the following {} keys used to discribe parking:\".format(len(parking_keys)))\n",
    "for key in parking_keys:\n",
    "    print(\"- {}\".format(key))"
   ]
  },
  {
   "cell_type": "code",
   "execution_count": 57,
   "metadata": {},
   "outputs": [],
   "source": [
    "for key in parking_keys:\n",
    "    Resturants[key]=Resturants.BusinessParking.apply(lambda a:  int(bool(a[key])) if type(a)==dict and (key in a) else 0)\n",
    "Resturants=Resturants.drop(['BusinessParking'],axis=1)"
   ]
  },
  {
   "cell_type": "markdown",
   "metadata": {},
   "source": [
    "### Catering"
   ]
  },
  {
   "cell_type": "code",
   "execution_count": 58,
   "metadata": {},
   "outputs": [
    {
     "data": {
      "text/plain": [
       "array(['False', nan, 'True', 'None'], dtype=object)"
      ]
     },
     "execution_count": 58,
     "metadata": {},
     "output_type": "execute_result"
    }
   ],
   "source": [
    "Resturants.Caters.unique()"
   ]
  },
  {
   "cell_type": "markdown",
   "metadata": {},
   "source": [
    "When None or NaN it is assumed that the resturant does not cater"
   ]
  },
  {
   "cell_type": "code",
   "execution_count": 59,
   "metadata": {},
   "outputs": [],
   "source": [
    "Resturants.Caters=Resturants.Caters.replace(\"None\",0)\n",
    "Resturants.Caters=Resturants.Caters.replace(np.nan,0)\n",
    "Resturants.Caters=Resturants.Caters.replace('False',0)\n",
    "Resturants.Caters=Resturants.Caters.replace('True',1)"
   ]
  },
  {
   "cell_type": "markdown",
   "metadata": {},
   "source": [
    "### Kid friendly"
   ]
  },
  {
   "cell_type": "code",
   "execution_count": 60,
   "metadata": {},
   "outputs": [
    {
     "data": {
      "text/plain": [
       "array(['True', nan, 'False', 'None'], dtype=object)"
      ]
     },
     "execution_count": 60,
     "metadata": {},
     "output_type": "execute_result"
    }
   ],
   "source": [
    "Resturants.GoodForKids.unique()"
   ]
  },
  {
   "cell_type": "markdown",
   "metadata": {},
   "source": [
    "In this case it is assumed that if None or NaN then the resturant is not kid friendly.<br>\n",
    "**Would it make more sense to allow for none, as in not partically kid friendly or bad for kids..?**"
   ]
  },
  {
   "cell_type": "code",
   "execution_count": 61,
   "metadata": {},
   "outputs": [],
   "source": [
    "Resturants.GoodForKids=Resturants.GoodForKids.replace(\"None\",0)\n",
    "Resturants.GoodForKids=Resturants.GoodForKids.replace(np.nan,0)\n",
    "Resturants.GoodForKids=Resturants.GoodForKids.replace('False',0)\n",
    "Resturants.GoodForKids=Resturants.GoodForKids.replace('True',1)"
   ]
  },
  {
   "cell_type": "markdown",
   "metadata": {},
   "source": [
    "### Attire"
   ]
  },
  {
   "cell_type": "code",
   "execution_count": 62,
   "metadata": {},
   "outputs": [
    {
     "data": {
      "text/plain": [
       "array(['casual', nan, 'dressy', 'formal', 'None'], dtype=object)"
      ]
     },
     "execution_count": 62,
     "metadata": {},
     "output_type": "execute_result"
    }
   ],
   "source": [
    "Resturants.RestaurantsAttire.unique()"
   ]
  },
  {
   "cell_type": "markdown",
   "metadata": {},
   "source": [
    "When None available casual is assumed, here we allow for resturants to not have a special attrie."
   ]
  },
  {
   "cell_type": "code",
   "execution_count": 63,
   "metadata": {},
   "outputs": [],
   "source": [
    "Resturants.GoodForKids=Resturants.RestaurantsAttire.replace(np.nan,'None')\n",
    "Resturants=pd.concat([Resturants,pd.get_dummies(Resturants.RestaurantsAttire,prefix='Attire',drop_first=False)],axis=1)\n",
    "Resturants=Resturants.drop(['RestaurantsAttire','Attire_None'],axis=1)"
   ]
  },
  {
   "cell_type": "markdown",
   "metadata": {},
   "source": [
    "### Bike parking"
   ]
  },
  {
   "cell_type": "code",
   "execution_count": 64,
   "metadata": {},
   "outputs": [
    {
     "data": {
      "text/plain": [
       "array([nan, 'True', 'False', 'None'], dtype=object)"
      ]
     },
     "execution_count": 64,
     "metadata": {},
     "output_type": "execute_result"
    }
   ],
   "source": [
    "Resturants.BikeParking.unique()"
   ]
  },
  {
   "cell_type": "markdown",
   "metadata": {},
   "source": [
    "Here NaN and None is interpreted to mean false. **-reasonable for NaN?**"
   ]
  },
  {
   "cell_type": "code",
   "execution_count": 65,
   "metadata": {},
   "outputs": [],
   "source": [
    "Resturants.BikeParking=Resturants.BikeParking.replace(\"None\",0)\n",
    "Resturants.BikeParking=Resturants.BikeParking.replace(np.nan,0)\n",
    "Resturants.BikeParking=Resturants.BikeParking.replace('False',0)\n",
    "Resturants.BikeParking=Resturants.BikeParking.replace('True',1)"
   ]
  },
  {
   "cell_type": "markdown",
   "metadata": {},
   "source": [
    "### Suitable for groups"
   ]
  },
  {
   "cell_type": "code",
   "execution_count": 66,
   "metadata": {},
   "outputs": [
    {
     "data": {
      "text/plain": [
       "array(['True', nan, 'False', 'None'], dtype=object)"
      ]
     },
     "execution_count": 66,
     "metadata": {},
     "output_type": "execute_result"
    }
   ],
   "source": [
    "Resturants.RestaurantsGoodForGroups.unique()"
   ]
  },
  {
   "cell_type": "code",
   "execution_count": 67,
   "metadata": {},
   "outputs": [],
   "source": [
    "Resturants.RestaurantsGoodForGroups=Resturants.RestaurantsGoodForGroups.replace(\"None\",0)\n",
    "Resturants.RestaurantsGoodForGroups=Resturants.RestaurantsGoodForGroups.replace(np.nan,0)\n",
    "Resturants.RestaurantsGoodForGroups=Resturants.RestaurantsGoodForGroups.replace('False',0)\n",
    "Resturants.RestaurantsGoodForGroups=Resturants.RestaurantsGoodForGroups.replace('True',1)"
   ]
  },
  {
   "cell_type": "markdown",
   "metadata": {},
   "source": [
    "### What type of meals are the resturant good for"
   ]
  },
  {
   "cell_type": "code",
   "execution_count": 69,
   "metadata": {},
   "outputs": [
    {
     "data": {
      "text/plain": [
       "0                                                     NaN\n",
       "1       {'dessert': 'False', 'latenight': 'False', 'lu...\n",
       "2                                                     NaN\n",
       "3       {'dessert': 'False', 'latenight': 'False', 'lu...\n",
       "4                                                     NaN\n",
       "                              ...                        \n",
       "8676    {'dessert': 'False', 'latenight': 'False', 'lu...\n",
       "8677    {'dessert': 'False', 'latenight': 'False', 'lu...\n",
       "8678    {'dessert': 'False', 'latenight': 'False', 'lu...\n",
       "8679                                                  NaN\n",
       "8680                                                  NaN\n",
       "Name: GoodForMeal, Length: 8681, dtype: object"
      ]
     },
     "execution_count": 69,
     "metadata": {},
     "output_type": "execute_result"
    }
   ],
   "source": [
    "Resturants.GoodForMeal"
   ]
  },
  {
   "cell_type": "code",
   "execution_count": 70,
   "metadata": {},
   "outputs": [
    {
     "name": "stdout",
     "output_type": "stream",
     "text": [
      "The are the following 6 keys used to discribe meals:\n",
      "- lunch\n",
      "- breakfast\n",
      "- latenight\n",
      "- dessert\n",
      "- brunch\n",
      "- dinner\n"
     ]
    }
   ],
   "source": [
    "meal_keys=set([])\n",
    "for d in Resturants.GoodForMeal:\n",
    "    if type(d)==dict:\n",
    "        meal_keys=meal_keys.union(set(d.keys()))\n",
    "print(\"The are the following {} keys used to discribe meals:\".format(len(meal_keys)))\n",
    "for key in meal_keys:\n",
    "    print(\"- {}\".format(key))"
   ]
  },
  {
   "cell_type": "code",
   "execution_count": 71,
   "metadata": {},
   "outputs": [],
   "source": [
    "for key in meal_keys:\n",
    "    Resturants[key]=Resturants.GoodForMeal.apply(lambda a:  int(bool(a[key])) if type(a)==dict and (key in a) else 0)\n",
    "Resturants=Resturants.drop(['GoodForMeal'],axis=1)"
   ]
  },
  {
   "cell_type": "markdown",
   "metadata": {},
   "source": [
    "**Is it still a reasonable approach when GoodForMeal: 47.909227047575165% NaN values?**"
   ]
  },
  {
   "cell_type": "markdown",
   "metadata": {},
   "source": [
    "## Defining training, test and validation sets"
   ]
  },
  {
   "cell_type": "code",
   "execution_count": null,
   "metadata": {},
   "outputs": [],
   "source": []
  },
  {
   "cell_type": "markdown",
   "metadata": {},
   "source": [
    "## Predicting if a business close"
   ]
  },
  {
   "cell_type": "markdown",
   "metadata": {},
   "source": [
    "### Baseline"
   ]
  },
  {
   "cell_type": "markdown",
   "metadata": {},
   "source": [
    "Random classification as a baseline"
   ]
  },
  {
   "cell_type": "code",
   "execution_count": null,
   "metadata": {},
   "outputs": [],
   "source": []
  },
  {
   "cell_type": "markdown",
   "metadata": {},
   "source": [
    "To predict which resturants close, we build a binary classifyer classifying wheter or not a business is closed or open. In other words we are intrested in building a binary classify. To do so logistic regression is used."
   ]
  },
  {
   "cell_type": "markdown",
   "metadata": {},
   "source": [
    "### Logistic regression"
   ]
  },
  {
   "cell_type": "code",
   "execution_count": null,
   "metadata": {},
   "outputs": [],
   "source": [
    "from sklearn.linear_model import LogisticRegression"
   ]
  },
  {
   "cell_type": "code",
   "execution_count": null,
   "metadata": {},
   "outputs": [],
   "source": [
    "clf = LogisticRegression"
   ]
  },
  {
   "cell_type": "code",
   "execution_count": null,
   "metadata": {},
   "outputs": [],
   "source": [
    "clf = LogisticRegression"
   ]
  },
  {
   "cell_type": "code",
   "execution_count": null,
   "metadata": {},
   "outputs": [],
   "source": []
  },
  {
   "cell_type": "markdown",
   "metadata": {},
   "source": [
    "## Interpreting factors influencing prediction"
   ]
  },
  {
   "cell_type": "code",
   "execution_count": null,
   "metadata": {},
   "outputs": [],
   "source": [
    " from sklearn.datasets import load_iris"
   ]
  },
  {
   "cell_type": "code",
   "execution_count": null,
   "metadata": {},
   "outputs": [],
   "source": []
  }
 ],
 "metadata": {
  "kernelspec": {
   "display_name": "Python 3",
   "language": "python",
   "name": "python3"
  },
  "language_info": {
   "codemirror_mode": {
    "name": "ipython",
    "version": 3
   },
   "file_extension": ".py",
   "mimetype": "text/x-python",
   "name": "python",
   "nbconvert_exporter": "python",
   "pygments_lexer": "ipython3",
   "version": "3.6.5"
  }
 },
 "nbformat": 4,
 "nbformat_minor": 4
}
