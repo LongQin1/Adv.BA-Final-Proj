{
 "cells": [
  {
   "cell_type": "markdown",
   "metadata": {},
   "source": [
    "# What makes resturants close"
   ]
  },
  {
   "cell_type": "markdown",
   "metadata": {},
   "source": [
    "In this part of the analysis we wish to investigate what factors makes resturants in Toronto close. The focus is on properties of the resturants themself and does not take into account the general economic situation."
   ]
  },
  {
   "cell_type": "markdown",
   "metadata": {},
   "source": [
    "## Load data"
   ]
  },
  {
   "cell_type": "code",
   "execution_count": 1,
   "metadata": {},
   "outputs": [],
   "source": [
    "import pandas as pd\n",
    "import numpy as np"
   ]
  },
  {
   "cell_type": "code",
   "execution_count": 2,
   "metadata": {},
   "outputs": [],
   "source": [
    "Resturants=pd.read_csv('data/toronto_restaurant_business2.csv',encoding=\"utf8\")"
   ]
  },
  {
   "cell_type": "code",
   "execution_count": 3,
   "metadata": {},
   "outputs": [
    {
     "name": "stdout",
     "output_type": "stream",
     "text": [
      "Total number of resturants in Toronto: 8681\n"
     ]
    }
   ],
   "source": [
    "print(\"Total number of resturants in Toronto: {}\".format(len(Resturants)))"
   ]
  },
  {
   "cell_type": "markdown",
   "metadata": {},
   "source": [
    "## Data preparation"
   ]
  },
  {
   "cell_type": "markdown",
   "metadata": {},
   "source": [
    "First we remove data columns which decribe information which is only specific for the individual resturant. This include the business ID, the name of the resturant, address and since we are only intrested in resturants in Toronto also city and state."
   ]
  },
  {
   "cell_type": "code",
   "execution_count": 4,
   "metadata": {},
   "outputs": [
    {
     "data": {
      "text/html": [
       "<div>\n",
       "<style scoped>\n",
       "    .dataframe tbody tr th:only-of-type {\n",
       "        vertical-align: middle;\n",
       "    }\n",
       "\n",
       "    .dataframe tbody tr th {\n",
       "        vertical-align: top;\n",
       "    }\n",
       "\n",
       "    .dataframe thead th {\n",
       "        text-align: right;\n",
       "    }\n",
       "</style>\n",
       "<table border=\"1\" class=\"dataframe\">\n",
       "  <thead>\n",
       "    <tr style=\"text-align: right;\">\n",
       "      <th></th>\n",
       "      <th>business_id</th>\n",
       "      <th>name</th>\n",
       "      <th>address</th>\n",
       "      <th>city</th>\n",
       "      <th>state</th>\n",
       "      <th>postal_code</th>\n",
       "      <th>latitude</th>\n",
       "      <th>longitude</th>\n",
       "      <th>stars</th>\n",
       "      <th>review_count</th>\n",
       "      <th>is_open</th>\n",
       "      <th>attributes</th>\n",
       "      <th>categories</th>\n",
       "      <th>hours</th>\n",
       "    </tr>\n",
       "  </thead>\n",
       "  <tbody>\n",
       "    <tr>\n",
       "      <td>0</td>\n",
       "      <td>rVBPQdeayMYht4Uv_FOLHg</td>\n",
       "      <td>Gourmet Burger Company</td>\n",
       "      <td>843 Kipling Avenue</td>\n",
       "      <td>Toronto</td>\n",
       "      <td>ON</td>\n",
       "      <td>M8Z 5G9</td>\n",
       "      <td>43.633291</td>\n",
       "      <td>-79.531768</td>\n",
       "      <td>3.0</td>\n",
       "      <td>13</td>\n",
       "      <td>0</td>\n",
       "      <td>{\"RestaurantsPriceRange2\": \"2\", \"RestaurantsAt...</td>\n",
       "      <td>Restaurants, Burgers, Food</td>\n",
       "      <td>{}</td>\n",
       "    </tr>\n",
       "    <tr>\n",
       "      <td>1</td>\n",
       "      <td>0QjROMVW9ACKjhSEfHqNCQ</td>\n",
       "      <td>Mi Mi Restaurant</td>\n",
       "      <td>688 Gerrard Street E</td>\n",
       "      <td>Toronto</td>\n",
       "      <td>ON</td>\n",
       "      <td>M4M 1Y3</td>\n",
       "      <td>43.666376</td>\n",
       "      <td>-79.348773</td>\n",
       "      <td>4.0</td>\n",
       "      <td>116</td>\n",
       "      <td>1</td>\n",
       "      <td>{\"RestaurantsTakeOut\": \"True\", \"Alcohol\": \"bee...</td>\n",
       "      <td>Vietnamese, Restaurants</td>\n",
       "      <td>{\"Monday\": \"11:00-22:00\", \"Tuesday\": \"11:00-22...</td>\n",
       "    </tr>\n",
       "    <tr>\n",
       "      <td>2</td>\n",
       "      <td>8k62wYhDVq1-652YbJi5eg</td>\n",
       "      <td>Tim Hortons</td>\n",
       "      <td>90 Adelaide Street W</td>\n",
       "      <td>Toronto</td>\n",
       "      <td>ON</td>\n",
       "      <td>M5H 3V9</td>\n",
       "      <td>43.649859</td>\n",
       "      <td>-79.382060</td>\n",
       "      <td>3.0</td>\n",
       "      <td>8</td>\n",
       "      <td>1</td>\n",
       "      <td>{\"OutdoorSeating\": \"False\", \"RestaurantsDelive...</td>\n",
       "      <td>Bagels, Donuts, Food, Cafes, Coffee &amp; Tea, Res...</td>\n",
       "      <td>{}</td>\n",
       "    </tr>\n",
       "    <tr>\n",
       "      <td>3</td>\n",
       "      <td>0DnQh8SE8BSnvJltGCCiWg</td>\n",
       "      <td>Chick-N-Joy</td>\n",
       "      <td>3-1265 York Mills Road</td>\n",
       "      <td>Toronto</td>\n",
       "      <td>ON</td>\n",
       "      <td>M3A 1Z3</td>\n",
       "      <td>43.765279</td>\n",
       "      <td>-79.326248</td>\n",
       "      <td>3.0</td>\n",
       "      <td>11</td>\n",
       "      <td>1</td>\n",
       "      <td>{\"NoiseLevel\": \"loud\", \"BusinessParking\": {\"ga...</td>\n",
       "      <td>Fast Food, Restaurants, Chicken Shop</td>\n",
       "      <td>{}</td>\n",
       "    </tr>\n",
       "    <tr>\n",
       "      <td>4</td>\n",
       "      <td>NLaK58WvlNQdUunSIkt-jA</td>\n",
       "      <td>Zav Coffee Shop &amp; Gallery</td>\n",
       "      <td>2048 Danforth Avenue</td>\n",
       "      <td>Toronto</td>\n",
       "      <td>ON</td>\n",
       "      <td>M4C 1J6</td>\n",
       "      <td>43.685608</td>\n",
       "      <td>-79.313936</td>\n",
       "      <td>4.5</td>\n",
       "      <td>24</td>\n",
       "      <td>1</td>\n",
       "      <td>{\"DogsAllowed\": \"False\", \"OutdoorSeating\": \"Tr...</td>\n",
       "      <td>Coffee &amp; Tea, Restaurants, Sandwiches, Food</td>\n",
       "      <td>{\"Monday\": \"0:00-0:00\", \"Tuesday\": \"7:30-17:00...</td>\n",
       "    </tr>\n",
       "  </tbody>\n",
       "</table>\n",
       "</div>"
      ],
      "text/plain": [
       "              business_id                       name                 address  \\\n",
       "0  rVBPQdeayMYht4Uv_FOLHg     Gourmet Burger Company      843 Kipling Avenue   \n",
       "1  0QjROMVW9ACKjhSEfHqNCQ           Mi Mi Restaurant    688 Gerrard Street E   \n",
       "2  8k62wYhDVq1-652YbJi5eg                Tim Hortons    90 Adelaide Street W   \n",
       "3  0DnQh8SE8BSnvJltGCCiWg                Chick-N-Joy  3-1265 York Mills Road   \n",
       "4  NLaK58WvlNQdUunSIkt-jA  Zav Coffee Shop & Gallery    2048 Danforth Avenue   \n",
       "\n",
       "      city state postal_code   latitude  longitude  stars  review_count  \\\n",
       "0  Toronto    ON     M8Z 5G9  43.633291 -79.531768    3.0            13   \n",
       "1  Toronto    ON     M4M 1Y3  43.666376 -79.348773    4.0           116   \n",
       "2  Toronto    ON     M5H 3V9  43.649859 -79.382060    3.0             8   \n",
       "3  Toronto    ON     M3A 1Z3  43.765279 -79.326248    3.0            11   \n",
       "4  Toronto    ON     M4C 1J6  43.685608 -79.313936    4.5            24   \n",
       "\n",
       "   is_open                                         attributes  \\\n",
       "0        0  {\"RestaurantsPriceRange2\": \"2\", \"RestaurantsAt...   \n",
       "1        1  {\"RestaurantsTakeOut\": \"True\", \"Alcohol\": \"bee...   \n",
       "2        1  {\"OutdoorSeating\": \"False\", \"RestaurantsDelive...   \n",
       "3        1  {\"NoiseLevel\": \"loud\", \"BusinessParking\": {\"ga...   \n",
       "4        1  {\"DogsAllowed\": \"False\", \"OutdoorSeating\": \"Tr...   \n",
       "\n",
       "                                          categories  \\\n",
       "0                         Restaurants, Burgers, Food   \n",
       "1                            Vietnamese, Restaurants   \n",
       "2  Bagels, Donuts, Food, Cafes, Coffee & Tea, Res...   \n",
       "3               Fast Food, Restaurants, Chicken Shop   \n",
       "4        Coffee & Tea, Restaurants, Sandwiches, Food   \n",
       "\n",
       "                                               hours  \n",
       "0                                                 {}  \n",
       "1  {\"Monday\": \"11:00-22:00\", \"Tuesday\": \"11:00-22...  \n",
       "2                                                 {}  \n",
       "3                                                 {}  \n",
       "4  {\"Monday\": \"0:00-0:00\", \"Tuesday\": \"7:30-17:00...  "
      ]
     },
     "execution_count": 4,
     "metadata": {},
     "output_type": "execute_result"
    }
   ],
   "source": [
    "Resturants.head()"
   ]
  },
  {
   "cell_type": "code",
   "execution_count": 5,
   "metadata": {},
   "outputs": [],
   "source": [
    "Resturants=Resturants.drop(['name','address','city','state','business_id'],axis=1)"
   ]
  },
  {
   "cell_type": "markdown",
   "metadata": {},
   "source": [
    "Both postal code and longitude and lattitude provides information about the location, and including both features would therefore be redundent. While longitude and latitude provide more precises information the information is overlapping with the postal_code, however the postal code provide a more general indication of the area."
   ]
  },
  {
   "cell_type": "code",
   "execution_count": 6,
   "metadata": {},
   "outputs": [
    {
     "name": "stdout",
     "output_type": "stream",
     "text": [
      "There are 3176 different postal codes\n"
     ]
    }
   ],
   "source": [
    "print(\"There are {} different postal codes\".format(len(Resturants.postal_code.unique())))"
   ]
  },
  {
   "cell_type": "markdown",
   "metadata": {},
   "source": [
    "If postal codes were to be included it would be neccessary to one-hot encode them. With more 3176 different postal codes, this would make the total number of attributes, very large compared to the number of samples. This would also mean that the observations for certain postal codes would be very spars. For this reason the postal code attribute is removed from the data set."
   ]
  },
  {
   "cell_type": "code",
   "execution_count": 7,
   "metadata": {},
   "outputs": [],
   "source": [
    "Resturants=Resturants.drop(['postal_code'],axis=1)"
   ]
  },
  {
   "cell_type": "markdown",
   "metadata": {},
   "source": [
    "**Why I drop longitude/latitude attributes**"
   ]
  },
  {
   "cell_type": "code",
   "execution_count": 8,
   "metadata": {},
   "outputs": [],
   "source": [
    "Resturants=Resturants.drop(['latitude','longitude'],axis=1)"
   ]
  },
  {
   "cell_type": "markdown",
   "metadata": {},
   "source": [
    "### Transforming attributes of resturants"
   ]
  },
  {
   "cell_type": "markdown",
   "metadata": {},
   "source": [
    "The listed *attributes* for each resturant is at the moment represented as dictionaries, but in a String format. The frist step towards transformining them into a useful format is to change them into an actual dictionary format."
   ]
  },
  {
   "cell_type": "code",
   "execution_count": 9,
   "metadata": {},
   "outputs": [],
   "source": [
    "# attribute is transformed from string to dictionaries\n",
    "Resturants.attributes=Resturants.attributes.apply(lambda d: eval(d))"
   ]
  },
  {
   "cell_type": "markdown",
   "metadata": {},
   "source": [
    "As not all attributes are listed for all resturants we first need to get a list of all available attributes"
   ]
  },
  {
   "cell_type": "code",
   "execution_count": 10,
   "metadata": {},
   "outputs": [
    {
     "name": "stdout",
     "output_type": "stream",
     "text": [
      "The are the following 37 attributes:\n",
      "- RestaurantsReservations\n",
      "- Alcohol\n",
      "- WiFi\n",
      "- ByAppointmentOnly\n",
      "- Smoking\n",
      "- DietaryRestrictions\n",
      "- BusinessAcceptsBitcoin\n",
      "- NoiseLevel\n",
      "- HappyHour\n",
      "- GoodForKids\n",
      "- Corkage\n",
      "- RestaurantsGoodForGroups\n",
      "- RestaurantsTakeOut\n",
      "- DogsAllowed\n",
      "- DriveThru\n",
      "- RestaurantsDelivery\n",
      "- HairSpecializesIn\n",
      "- RestaurantsPriceRange2\n",
      "- CoatCheck\n",
      "- GoodForDancing\n",
      "- RestaurantsCounterService\n",
      "- RestaurantsTableService\n",
      "- AcceptsInsurance\n",
      "- BusinessAcceptsCreditCards\n",
      "- BestNights\n",
      "- Music\n",
      "- GoodForMeal\n",
      "- RestaurantsAttire\n",
      "- HasTV\n",
      "- BikeParking\n",
      "- Ambience\n",
      "- Caters\n",
      "- WheelchairAccessible\n",
      "- BusinessParking\n",
      "- BYOB\n",
      "- AgesAllowed\n",
      "- OutdoorSeating\n"
     ]
    }
   ],
   "source": [
    "attributes=set([])\n",
    "for d in Resturants.attributes:\n",
    "    attributes=attributes.union(set(d.keys()))\n",
    "print(\"The are the following {} attributes:\".format(len(attributes)))\n",
    "for attribute in attributes:\n",
    "    print(\"- {}\".format(attribute))"
   ]
  },
  {
   "cell_type": "markdown",
   "metadata": {},
   "source": [
    "Each attribute is now represented as individual columns in the dataframe."
   ]
  },
  {
   "cell_type": "code",
   "execution_count": 11,
   "metadata": {},
   "outputs": [
    {
     "name": "stdout",
     "output_type": "stream",
     "text": [
      "Percent of resturants for which attribute is NaN:\n",
      "---------------------------------------------------------\n",
      "RestaurantsReservations: 19.68667204239143%\n",
      "Alcohol: 29.24778251353531%\n",
      "WiFi: 33.19894021426103%\n",
      "ByAppointmentOnly: 96.72848750143993%\n",
      "Smoking: 95.72629881350075%\n",
      "DietaryRestrictions: 99.86176707752563%\n",
      "BusinessAcceptsBitcoin: 99.9769611795876%\n",
      "NoiseLevel: 34.48911415735515%\n",
      "HappyHour: 87.67423107936874%\n",
      "GoodForKids: 22.474369312291213%\n",
      "Corkage: 99.35491302845294%\n",
      "RestaurantsGoodForGroups: 20.94228775486695%\n",
      "RestaurantsTakeOut: 15.631839649809931%\n",
      "DogsAllowed: 87.29409054256422%\n",
      "DriveThru: 96.49809929731597%\n",
      "RestaurantsDelivery: 22.209422877548672%\n",
      "HairSpecializesIn: 99.9769611795876%\n",
      "RestaurantsPriceRange2: 19.32957032599931%\n",
      "CoatCheck: 95.63414353185117%\n",
      "GoodForDancing: 94.74714894597398%\n",
      "RestaurantsCounterService: 99.98848058979381%\n",
      "RestaurantsTableService: 66.34028337749108%\n",
      "AcceptsInsurance: 99.9769611795876%\n",
      "BusinessAcceptsCreditCards: 96.8667204239143%\n",
      "BestNights: 94.86234304803594%\n",
      "Music: 92.25895634143532%\n",
      "GoodForMeal: 47.909227047575165%\n",
      "RestaurantsAttire: 26.414007602810734%\n",
      "HasTV: 23.77606266559152%\n",
      "BikeParking: 39.00472295818454%\n",
      "Ambience: 21.518258265176822%\n",
      "Caters: 45.89333026149061%\n",
      "WheelchairAccessible: 82.67480704987905%\n",
      "BusinessParking: 18.78815804630803%\n",
      "BYOB: 99.066927773298%\n",
      "AgesAllowed: 99.9769611795876%\n",
      "OutdoorSeating: 21.276350650846677%\n"
     ]
    }
   ],
   "source": [
    "print(\"Percent of resturants for which attribute is NaN:\")\n",
    "print(\"---------------------------------------------------------\")\n",
    "for attribute in attributes:\n",
    "    Resturants[attribute]=Resturants.attributes.apply(lambda a:  a[attribute] if (attribute in a) else np.nan)\n",
    "    print(\"{}: {}%\".format(attribute,Resturants[attribute].isna().sum()/len(Resturants[attribute].isna())*100))\n",
    "Resturants=Resturants.drop(['attributes'],axis=1)"
   ]
  },
  {
   "cell_type": "markdown",
   "metadata": {},
   "source": [
    "It is clear that far from all attributes are listed for all resturants. However NaN values does not provide information about a resturant, and can therefore not be included when training the classifier. Furthermore we see that certain attributes are not listed for most resturants. In such cases it is assumed that a value for NaN cases cannot gennerally be reasonably derived. Attributes where more than 40% of resturants don't have a value listed, are therefore removed. While only having information of an attribute for 60% of the observations, is still spars the balance is to also allow some less common attributes to be included."
   ]
  },
  {
   "cell_type": "code",
   "execution_count": 12,
   "metadata": {},
   "outputs": [
    {
     "name": "stdout",
     "output_type": "stream",
     "text": [
      "Attributes disgarded:\n",
      "ByAppointmentOnly\n",
      "AcceptsInsurance\n",
      "BusinessAcceptsCreditCards\n",
      "BestNights\n",
      "Smoking\n",
      "DietaryRestrictions\n",
      "Music\n",
      "BusinessAcceptsBitcoin\n",
      "GoodForMeal\n",
      "HappyHour\n",
      "Corkage\n",
      "Caters\n",
      "DogsAllowed\n",
      "WheelchairAccessible\n",
      "DriveThru\n",
      "HairSpecializesIn\n",
      "RestaurantsCounterService\n",
      "CoatCheck\n",
      "GoodForDancing\n",
      "BYOB\n",
      "AgesAllowed\n",
      "RestaurantsTableService\n",
      "-----------------------------\n",
      "There are 15 remaing attributes\n"
     ]
    }
   ],
   "source": [
    "disgarded_attributes=set([])\n",
    "for attribute in attributes:\n",
    "    percent_NaN=Resturants[attribute].isna().sum()/len(Resturants[attribute].isna())*100\n",
    "    if percent_NaN>=40:\n",
    "        Resturants=Resturants.drop([attribute],axis=1)\n",
    "        disgarded_attributes=disgarded_attributes.union(set([attribute]))\n",
    "attributes.difference_update(disgarded_attributes)        \n",
    "print(\"Attributes disgarded:\")\n",
    "for a in disgarded_attributes:\n",
    "      print(a) \n",
    "print(\"-----------------------------\")\n",
    "print(\"There are {} remaing attributes\".format(len(attributes)))"
   ]
  },
  {
   "cell_type": "markdown",
   "metadata": {},
   "source": [
    "Below the remanining attributes are shown."
   ]
  },
  {
   "cell_type": "code",
   "execution_count": 13,
   "metadata": {},
   "outputs": [
    {
     "name": "stdout",
     "output_type": "stream",
     "text": [
      "Percent of resturants for which attribute is NaN:\n",
      "---------------------------------------------------------\n",
      "RestaurantsReservations: 19.68667204239143%\n",
      "Alcohol: 29.24778251353531%\n",
      "WiFi: 33.19894021426103%\n",
      "NoiseLevel: 34.48911415735515%\n",
      "GoodForKids: 22.474369312291213%\n",
      "RestaurantsGoodForGroups: 20.94228775486695%\n",
      "RestaurantsTakeOut: 15.631839649809931%\n",
      "RestaurantsDelivery: 22.209422877548672%\n",
      "RestaurantsPriceRange2: 19.32957032599931%\n",
      "RestaurantsAttire: 26.414007602810734%\n",
      "HasTV: 23.77606266559152%\n",
      "BikeParking: 39.00472295818454%\n",
      "Ambience: 21.518258265176822%\n",
      "BusinessParking: 18.78815804630803%\n",
      "OutdoorSeating: 21.276350650846677%\n"
     ]
    }
   ],
   "source": [
    "print(\"Percent of resturants for which attribute is NaN:\")\n",
    "print(\"---------------------------------------------------------\")\n",
    "for attribute in attributes:\n",
    "    print(\"{}: {}%\".format(attribute,Resturants[attribute].isna().sum()/len(Resturants[attribute].isna())*100))"
   ]
  },
  {
   "cell_type": "markdown",
   "metadata": {},
   "source": [
    "For the 15 remaining attributes there is still a need to find a solution for NaN values."
   ]
  },
  {
   "cell_type": "code",
   "execution_count": 14,
   "metadata": {},
   "outputs": [
    {
     "name": "stdout",
     "output_type": "stream",
     "text": [
      "There are 3730 resturants with no NaN listed for attributes\n"
     ]
    }
   ],
   "source": [
    "print(\"There are {} resturants with no NaN listed for attributes\".format(len(Resturants.dropna())))"
   ]
  },
  {
   "cell_type": "markdown",
   "metadata": {},
   "source": [
    "As we can see droping all resturants with NaN values are not an option as it will limit the size of the dataset to drastic. "
   ]
  },
  {
   "cell_type": "markdown",
   "metadata": {},
   "source": [
    "The examples below show that there is a large difference between what kind of values are listed for each attribute. This mean that they must all be treated differently, and so must the occurences of NaN values."
   ]
  },
  {
   "cell_type": "code",
   "execution_count": 15,
   "metadata": {},
   "outputs": [
    {
     "data": {
      "text/plain": [
       "0       {'romantic': 'False', 'intimate': 'False', 'cl...\n",
       "1       {'romantic': 'False', 'intimate': 'False', 'cl...\n",
       "2       {'touristy': 'False', 'hipster': 'False', 'rom...\n",
       "3       {'touristy': 'False', 'hipster': 'False', 'rom...\n",
       "4                                                     NaN\n",
       "                              ...                        \n",
       "8676    {'romantic': 'False', 'intimate': 'False', 'cl...\n",
       "8677    {'romantic': 'False', 'intimate': 'False', 'cl...\n",
       "8678    {'touristy': 'False', 'hipster': 'False', 'rom...\n",
       "8679    {'romantic': 'False', 'intimate': 'False', 'cl...\n",
       "8680    {'touristy': 'False', 'hipster': 'False', 'rom...\n",
       "Name: Ambience, Length: 8681, dtype: object"
      ]
     },
     "execution_count": 15,
     "metadata": {},
     "output_type": "execute_result"
    }
   ],
   "source": [
    "Resturants.Ambience"
   ]
  },
  {
   "cell_type": "code",
   "execution_count": 16,
   "metadata": {},
   "outputs": [
    {
     "data": {
      "text/plain": [
       "0         NaN\n",
       "1        True\n",
       "2       False\n",
       "3        True\n",
       "4        True\n",
       "        ...  \n",
       "8676     True\n",
       "8677    False\n",
       "8678     True\n",
       "8679    False\n",
       "8680     True\n",
       "Name: BikeParking, Length: 8681, dtype: object"
      ]
     },
     "execution_count": 16,
     "metadata": {},
     "output_type": "execute_result"
    }
   ],
   "source": [
    "Resturants.BikeParking"
   ]
  },
  {
   "cell_type": "code",
   "execution_count": 17,
   "metadata": {},
   "outputs": [
    {
     "data": {
      "text/plain": [
       "0       average\n",
       "1       average\n",
       "2           NaN\n",
       "3          loud\n",
       "4           NaN\n",
       "         ...   \n",
       "8676    average\n",
       "8677    average\n",
       "8678    average\n",
       "8679        NaN\n",
       "8680      quiet\n",
       "Name: NoiseLevel, Length: 8681, dtype: object"
      ]
     },
     "execution_count": 17,
     "metadata": {},
     "output_type": "execute_result"
    }
   ],
   "source": [
    "Resturants.NoiseLevel"
   ]
  },
  {
   "cell_type": "markdown",
   "metadata": {},
   "source": [
    "#### Ambience"
   ]
  },
  {
   "cell_type": "code",
   "execution_count": 18,
   "metadata": {},
   "outputs": [
    {
     "data": {
      "text/plain": [
       "array([<class 'dict'>, <class 'float'>, <class 'str'>], dtype=object)"
      ]
     },
     "execution_count": 18,
     "metadata": {},
     "output_type": "execute_result"
    }
   ],
   "source": [
    "Resturants.Ambience.apply(lambda r: type(r)).unique()"
   ]
  },
  {
   "cell_type": "markdown",
   "metadata": {},
   "source": [
    "We can see that not all values are dictionaries or NaN values."
   ]
  },
  {
   "cell_type": "code",
   "execution_count": 19,
   "metadata": {},
   "outputs": [
    {
     "name": "stdout",
     "output_type": "stream",
     "text": [
      "None\n",
      "None\n",
      "None\n",
      "None\n",
      "None\n",
      "None\n",
      "None\n",
      "None\n",
      "None\n",
      "None\n",
      "None\n",
      "None\n",
      "None\n",
      "None\n",
      "None\n",
      "None\n",
      "None\n",
      "None\n",
      "None\n",
      "None\n",
      "None\n",
      "None\n",
      "None\n",
      "None\n",
      "None\n"
     ]
    }
   ],
   "source": [
    "for a in Resturants.Ambience:\n",
    "    if type(a)==str:\n",
    "        print(a)"
   ]
  },
  {
   "cell_type": "markdown",
   "metadata": {},
   "source": [
    "We see that values such as None are also available. This appear to coorespond well with NaN. We now take a look at the dictionaries."
   ]
  },
  {
   "cell_type": "code",
   "execution_count": 20,
   "metadata": {},
   "outputs": [
    {
     "data": {
      "text/plain": [
       "0        True\n",
       "1        True\n",
       "2       False\n",
       "3       False\n",
       "4        True\n",
       "        ...  \n",
       "8676     True\n",
       "8677     True\n",
       "8678    False\n",
       "8679     True\n",
       "8680    False\n",
       "Name: Ambience, Length: 8681, dtype: bool"
      ]
     },
     "execution_count": 20,
     "metadata": {},
     "output_type": "execute_result"
    }
   ],
   "source": [
    "ambience_keys=set(Resturants.Ambience[0].keys())\n",
    "Resturants.Ambience.apply(lambda d: set(d.keys())==ambience_keys if type(d)==dict else True)"
   ]
  },
  {
   "cell_type": "markdown",
   "metadata": {},
   "source": [
    "We see that not all ambience dictionaries contains the same keys. We therefor collect all keys to get an overview."
   ]
  },
  {
   "cell_type": "code",
   "execution_count": 21,
   "metadata": {},
   "outputs": [
    {
     "name": "stdout",
     "output_type": "stream",
     "text": [
      "The are the following 9 keys used to describe ambience:\n",
      "- intimate\n",
      "- upscale\n",
      "- trendy\n",
      "- hipster\n",
      "- touristy\n",
      "- romantic\n",
      "- divey\n",
      "- classy\n",
      "- casual\n"
     ]
    }
   ],
   "source": [
    "ambience_keys=set([])\n",
    "for d in Resturants.Ambience:\n",
    "    if type(d)==dict:\n",
    "        ambience_keys=ambience_keys.union(set(d.keys()))\n",
    "print(\"The are the following {} keys used to describe ambience:\".format(len(ambience_keys)))\n",
    "for key in ambience_keys:\n",
    "    print(\"- {}\".format(key))"
   ]
  },
  {
   "cell_type": "markdown",
   "metadata": {},
   "source": [
    "Each of the ambiance keys are now represented by a new column, where NaN and None are represented as False. Here 0 and 1 are used."
   ]
  },
  {
   "cell_type": "code",
   "execution_count": 22,
   "metadata": {},
   "outputs": [],
   "source": [
    "for key in ambience_keys:\n",
    "    Resturants[key]=Resturants.Ambience.apply(lambda a:  int(bool(a[key])) if type(a)==dict and (key in a) else 0)\n",
    "Resturants=Resturants.drop(['Ambience'],axis=1)"
   ]
  },
  {
   "cell_type": "code",
   "execution_count": 23,
   "metadata": {},
   "outputs": [
    {
     "name": "stdout",
     "output_type": "stream",
     "text": [
      "Percent of resturants which have ambiance attribute:\n",
      "---------------------------------------------------------\n",
      "intimate: 78.19375647966824%\n",
      "upscale: 77.9172906347195%\n",
      "trendy: 78.19375647966824%\n",
      "hipster: 75.37150097914986%\n",
      "touristy: 78.19375647966824%\n",
      "romantic: 78.19375647966824%\n",
      "divey: 32.76120262642553%\n",
      "classy: 78.19375647966824%\n",
      "casual: 78.19375647966824%\n"
     ]
    }
   ],
   "source": [
    "print(\"Percent of resturants which have ambiance attribute:\")\n",
    "print(\"---------------------------------------------------------\")\n",
    "for ambience in ambience_keys:\n",
    "    HaveAttribute=len(Resturants[Resturants[ambience]==1])        \n",
    "    print(\"{}: {}%\".format(ambience,HaveAttribute/len(Resturants[ambience])*100))"
   ]
  },
  {
   "cell_type": "markdown",
   "metadata": {},
   "source": [
    "#### Wifi"
   ]
  },
  {
   "cell_type": "code",
   "execution_count": 24,
   "metadata": {},
   "outputs": [
    {
     "data": {
      "text/plain": [
       "array(['no', 'free', nan, 'paid', 'None'], dtype=object)"
      ]
     },
     "execution_count": 24,
     "metadata": {},
     "output_type": "execute_result"
    }
   ],
   "source": [
    "Resturants.WiFi.unique()"
   ]
  },
  {
   "cell_type": "markdown",
   "metadata": {},
   "source": [
    "We see that there is an overlap of categories, with no and None meaning the same thing. The values are therefor both set to 'no'. To address the issue of NaN, this is here assumed to be 'no' aswell."
   ]
  },
  {
   "cell_type": "code",
   "execution_count": 25,
   "metadata": {},
   "outputs": [],
   "source": [
    "Resturants.WiFi=Resturants.WiFi.replace(\"None\",\"no\")\n",
    "Resturants.WiFi=Resturants.WiFi.replace(np.nan,\"no\")"
   ]
  },
  {
   "cell_type": "markdown",
   "metadata": {},
   "source": [
    "Wifi can now be one-hot encoded."
   ]
  },
  {
   "cell_type": "code",
   "execution_count": 26,
   "metadata": {},
   "outputs": [],
   "source": [
    "Resturants=pd.concat([Resturants,pd.get_dummies(Resturants.WiFi,prefix='Wifi_',drop_first=False)],axis=1)\n",
    "Resturants=Resturants.drop(['WiFi'],axis=1)"
   ]
  },
  {
   "cell_type": "markdown",
   "metadata": {},
   "source": [
    "#### Noise level"
   ]
  },
  {
   "cell_type": "code",
   "execution_count": 27,
   "metadata": {},
   "outputs": [
    {
     "data": {
      "text/plain": [
       "array(['average', nan, 'loud', 'quiet', 'very_loud', 'None'], dtype=object)"
      ]
     },
     "execution_count": 27,
     "metadata": {},
     "output_type": "execute_result"
    }
   ],
   "source": [
    "Resturants.NoiseLevel.unique()"
   ]
  },
  {
   "cell_type": "markdown",
   "metadata": {},
   "source": [
    "We again see that None and nan is overlapping. When nothing have been mentioned we will here assume average noise level"
   ]
  },
  {
   "cell_type": "code",
   "execution_count": 28,
   "metadata": {},
   "outputs": [],
   "source": [
    "Resturants.NoiseLevel=Resturants.NoiseLevel.replace(\"None\",\"average\")\n",
    "Resturants.NoiseLevel=Resturants.NoiseLevel.replace(np.nan,\"average\")"
   ]
  },
  {
   "cell_type": "code",
   "execution_count": 29,
   "metadata": {},
   "outputs": [],
   "source": [
    "Resturants=pd.concat([Resturants,pd.get_dummies(Resturants.NoiseLevel,prefix='NoiseLevel_',drop_first=False)],axis=1)\n",
    "Resturants=Resturants.drop(['NoiseLevel'],axis=1)"
   ]
  },
  {
   "cell_type": "markdown",
   "metadata": {},
   "source": [
    "#### Outdoor seating"
   ]
  },
  {
   "cell_type": "code",
   "execution_count": 30,
   "metadata": {},
   "outputs": [
    {
     "data": {
      "text/plain": [
       "array(['False', 'True', nan, 'None'], dtype=object)"
      ]
     },
     "execution_count": 30,
     "metadata": {},
     "output_type": "execute_result"
    }
   ],
   "source": [
    "Resturants.OutdoorSeating.unique()"
   ]
  },
  {
   "cell_type": "markdown",
   "metadata": {},
   "source": [
    "Again same pattern can be observed. If nothing is mentioned we are gonna assume False."
   ]
  },
  {
   "cell_type": "code",
   "execution_count": 31,
   "metadata": {},
   "outputs": [],
   "source": [
    "Resturants.OutdoorSeating=Resturants.OutdoorSeating.replace(\"None\",0)\n",
    "Resturants.OutdoorSeating=Resturants.OutdoorSeating.replace(np.nan,0)\n",
    "Resturants.OutdoorSeating=Resturants.OutdoorSeating.replace('False',0)\n",
    "Resturants.OutdoorSeating=Resturants.OutdoorSeating.replace('True',1)"
   ]
  },
  {
   "cell_type": "markdown",
   "metadata": {},
   "source": [
    "#### Takeout"
   ]
  },
  {
   "cell_type": "code",
   "execution_count": 32,
   "metadata": {},
   "outputs": [
    {
     "data": {
      "text/plain": [
       "array(['True', 'False', nan, 'None'], dtype=object)"
      ]
     },
     "execution_count": 32,
     "metadata": {},
     "output_type": "execute_result"
    }
   ],
   "source": [
    "Resturants.RestaurantsTakeOut.unique()"
   ]
  },
  {
   "cell_type": "markdown",
   "metadata": {},
   "source": [
    "Same approach are used, as for the previous attributes"
   ]
  },
  {
   "cell_type": "code",
   "execution_count": 33,
   "metadata": {},
   "outputs": [],
   "source": [
    "Resturants.RestaurantsTakeOut=Resturants.RestaurantsTakeOut.replace(\"None\",0)\n",
    "Resturants.RestaurantsTakeOut=Resturants.RestaurantsTakeOut.replace(np.nan,0)\n",
    "Resturants.RestaurantsTakeOut=Resturants.RestaurantsTakeOut.replace('False',0)\n",
    "Resturants.RestaurantsTakeOut=Resturants.RestaurantsTakeOut.replace('True',1)"
   ]
  },
  {
   "cell_type": "markdown",
   "metadata": {},
   "source": [
    "#### Offers delivery"
   ]
  },
  {
   "cell_type": "code",
   "execution_count": 34,
   "metadata": {},
   "outputs": [
    {
     "data": {
      "text/plain": [
       "array(['False', 'True', nan, 'None'], dtype=object)"
      ]
     },
     "execution_count": 34,
     "metadata": {},
     "output_type": "execute_result"
    }
   ],
   "source": [
    "Resturants.RestaurantsDelivery.unique()"
   ]
  },
  {
   "cell_type": "markdown",
   "metadata": {},
   "source": [
    "If nothing is listed, it is assumed that delivery is not offered"
   ]
  },
  {
   "cell_type": "code",
   "execution_count": 35,
   "metadata": {},
   "outputs": [],
   "source": [
    "Resturants.RestaurantsDelivery=Resturants.RestaurantsDelivery.replace(\"None\",0)\n",
    "Resturants.RestaurantsDelivery=Resturants.RestaurantsDelivery.replace(np.nan,0)\n",
    "Resturants.RestaurantsDelivery=Resturants.RestaurantsDelivery.replace('False',0)\n",
    "Resturants.RestaurantsDelivery=Resturants.RestaurantsDelivery.replace('True',1)"
   ]
  },
  {
   "cell_type": "markdown",
   "metadata": {},
   "source": [
    "#### Reservations"
   ]
  },
  {
   "cell_type": "code",
   "execution_count": 36,
   "metadata": {},
   "outputs": [
    {
     "data": {
      "text/plain": [
       "array(['False', nan, 'True', 'None'], dtype=object)"
      ]
     },
     "execution_count": 36,
     "metadata": {},
     "output_type": "execute_result"
    }
   ],
   "source": [
    "Resturants.RestaurantsReservations.unique()"
   ]
  },
  {
   "cell_type": "code",
   "execution_count": 37,
   "metadata": {},
   "outputs": [],
   "source": [
    "Resturants.RestaurantsReservations=Resturants.RestaurantsReservations.replace(\"None\",0)\n",
    "Resturants.RestaurantsReservations=Resturants.RestaurantsReservations.replace(np.nan,0)\n",
    "Resturants.RestaurantsReservations=Resturants.RestaurantsReservations.replace('False',0)\n",
    "Resturants.RestaurantsReservations=Resturants.RestaurantsReservations.replace('True',1)"
   ]
  },
  {
   "cell_type": "markdown",
   "metadata": {},
   "source": [
    "#### Has TV"
   ]
  },
  {
   "cell_type": "code",
   "execution_count": 38,
   "metadata": {},
   "outputs": [
    {
     "data": {
      "text/plain": [
       "array(['False', 'True', nan, 'None'], dtype=object)"
      ]
     },
     "execution_count": 38,
     "metadata": {},
     "output_type": "execute_result"
    }
   ],
   "source": [
    "Resturants.HasTV.unique()"
   ]
  },
  {
   "cell_type": "code",
   "execution_count": 39,
   "metadata": {},
   "outputs": [],
   "source": [
    "Resturants.HasTV=Resturants.HasTV.replace(\"None\",0)\n",
    "Resturants.HasTV=Resturants.HasTV.replace(np.nan,0)\n",
    "Resturants.HasTV=Resturants.HasTV.replace('False',0)\n",
    "Resturants.HasTV=Resturants.HasTV.replace('True',1)"
   ]
  },
  {
   "cell_type": "markdown",
   "metadata": {},
   "source": [
    "#### Restaurants Price Range"
   ]
  },
  {
   "cell_type": "code",
   "execution_count": 40,
   "metadata": {},
   "outputs": [
    {
     "data": {
      "text/plain": [
       "array(['2', '1', '3', nan, '4', 'None'], dtype=object)"
      ]
     },
     "execution_count": 40,
     "metadata": {},
     "output_type": "execute_result"
    }
   ],
   "source": [
    "Resturants.RestaurantsPriceRange2.unique()"
   ]
  },
  {
   "cell_type": "markdown",
   "metadata": {},
   "source": [
    "None and NaN is assumed to be the most common price range"
   ]
  },
  {
   "cell_type": "code",
   "execution_count": 41,
   "metadata": {},
   "outputs": [],
   "source": [
    "Resturants.RestaurantsPriceRange2=Resturants.RestaurantsPriceRange2.replace('None',np.nan)\n",
    "Resturants.RestaurantsPriceRange2=Resturants.RestaurantsPriceRange2.apply(lambda l: float(l) if type(l)==str else l)"
   ]
  },
  {
   "cell_type": "code",
   "execution_count": 42,
   "metadata": {},
   "outputs": [],
   "source": [
    "common_priceRange=Resturants.RestaurantsPriceRange2.mode()\n",
    "Resturants.RestaurantsPriceRange2=Resturants.RestaurantsPriceRange2.replace(np.nan,float(common_priceRange))"
   ]
  },
  {
   "cell_type": "markdown",
   "metadata": {},
   "source": [
    "#### Alcohol"
   ]
  },
  {
   "cell_type": "code",
   "execution_count": 43,
   "metadata": {
    "scrolled": true
   },
   "outputs": [
    {
     "data": {
      "text/plain": [
       "array(['none', 'beer_and_wine', nan, 'full_bar', 'None'], dtype=object)"
      ]
     },
     "execution_count": 43,
     "metadata": {},
     "output_type": "execute_result"
    }
   ],
   "source": [
    "Resturants.Alcohol.unique()"
   ]
  },
  {
   "cell_type": "markdown",
   "metadata": {},
   "source": [
    "\"None\" and \"none\" are here interpreted to mean that aclohol is not served. Nan is assigned the most common value."
   ]
  },
  {
   "cell_type": "code",
   "execution_count": 44,
   "metadata": {},
   "outputs": [
    {
     "name": "stdout",
     "output_type": "stream",
     "text": [
      "The most common type of status for alcohol serving is:\n",
      "0    full_bar\n",
      "dtype: object\n"
     ]
    }
   ],
   "source": [
    "common_alcohol_serving=Resturants.Alcohol.mode()\n",
    "print(\"The most common type of status for alcohol serving is:\")\n",
    "print(common_alcohol_serving)\n",
    "Resturants.Alcohol=Resturants.Alcohol.replace(np.nan,common_alcohol_serving)\n",
    "Resturants.Alcohol=Resturants.Alcohol.replace('none','None')"
   ]
  },
  {
   "cell_type": "code",
   "execution_count": 45,
   "metadata": {},
   "outputs": [],
   "source": [
    "Resturants=pd.concat([Resturants,pd.get_dummies(Resturants.Alcohol,prefix='Alcohol',drop_first=False)],axis=1)\n",
    "Resturants=Resturants.drop(['Alcohol','Alcohol_None'],axis=1)"
   ]
  },
  {
   "cell_type": "markdown",
   "metadata": {},
   "source": [
    "#### Business parking"
   ]
  },
  {
   "cell_type": "code",
   "execution_count": 46,
   "metadata": {},
   "outputs": [
    {
     "data": {
      "text/plain": [
       "0       {'garage': 'False', 'street': 'False', 'valida...\n",
       "1       {'garage': 'False', 'street': 'True', 'validat...\n",
       "2       {'garage': 'False', 'street': 'False', 'valida...\n",
       "3       {'garage': 'False', 'street': 'False', 'valida...\n",
       "4       {'garage': 'False', 'street': 'False', 'valida...\n",
       "                              ...                        \n",
       "8676    {'garage': 'False', 'street': 'True', 'validat...\n",
       "8677    {'garage': 'False', 'street': 'False', 'valida...\n",
       "8678    {'garage': 'False', 'street': 'True', 'validat...\n",
       "8679                                                  NaN\n",
       "8680    {'garage': 'False', 'street': 'True', 'validat...\n",
       "Name: BusinessParking, Length: 8681, dtype: object"
      ]
     },
     "execution_count": 46,
     "metadata": {},
     "output_type": "execute_result"
    }
   ],
   "source": [
    "Resturants.BusinessParking"
   ]
  },
  {
   "cell_type": "code",
   "execution_count": 47,
   "metadata": {},
   "outputs": [
    {
     "name": "stdout",
     "output_type": "stream",
     "text": [
      "The are the following 5 keys used to discribe parking:\n",
      "-------------------------------------------------------\n",
      "- garage\n",
      "- valet\n",
      "- lot\n",
      "- street\n",
      "- validated\n"
     ]
    }
   ],
   "source": [
    "parking_keys=set([])\n",
    "for d in Resturants.BusinessParking:\n",
    "    if type(d)==dict:\n",
    "        parking_keys=parking_keys.union(set(d.keys()))\n",
    "print(\"The are the following {} keys used to discribe parking:\".format(len(parking_keys)))\n",
    "print(\"-------------------------------------------------------\")\n",
    "for key in parking_keys:\n",
    "    print(\"- {}\".format(key))"
   ]
  },
  {
   "cell_type": "code",
   "execution_count": 48,
   "metadata": {},
   "outputs": [],
   "source": [
    "for key in parking_keys:\n",
    "    Resturants[key]=Resturants.BusinessParking.apply(lambda a:  int(bool(a[key])) if type(a)==dict and (key in a) else 0)\n",
    "Resturants=Resturants.drop(['BusinessParking'],axis=1)"
   ]
  },
  {
   "cell_type": "markdown",
   "metadata": {},
   "source": [
    "#### Kid friendly"
   ]
  },
  {
   "cell_type": "code",
   "execution_count": 49,
   "metadata": {},
   "outputs": [
    {
     "data": {
      "text/plain": [
       "array(['True', nan, 'False', 'None'], dtype=object)"
      ]
     },
     "execution_count": 49,
     "metadata": {},
     "output_type": "execute_result"
    }
   ],
   "source": [
    "Resturants.GoodForKids.unique()"
   ]
  },
  {
   "cell_type": "markdown",
   "metadata": {},
   "source": [
    "In this case it is assumed that if None or NaN then the resturant is not kid friendly.<br>"
   ]
  },
  {
   "cell_type": "code",
   "execution_count": 50,
   "metadata": {},
   "outputs": [],
   "source": [
    "Resturants.GoodForKids=Resturants.GoodForKids.replace(\"None\",0)\n",
    "Resturants.GoodForKids=Resturants.GoodForKids.replace(np.nan,0)\n",
    "Resturants.GoodForKids=Resturants.GoodForKids.replace('False',0)\n",
    "Resturants.GoodForKids=Resturants.GoodForKids.replace('True',1)"
   ]
  },
  {
   "cell_type": "markdown",
   "metadata": {},
   "source": [
    "#### Attire"
   ]
  },
  {
   "cell_type": "code",
   "execution_count": 51,
   "metadata": {},
   "outputs": [
    {
     "data": {
      "text/plain": [
       "array(['casual', nan, 'dressy', 'formal', 'None'], dtype=object)"
      ]
     },
     "execution_count": 51,
     "metadata": {},
     "output_type": "execute_result"
    }
   ],
   "source": [
    "Resturants.RestaurantsAttire.unique()"
   ]
  },
  {
   "cell_type": "markdown",
   "metadata": {},
   "source": [
    "Here we allow for resturants to not have a special attrie listed."
   ]
  },
  {
   "cell_type": "code",
   "execution_count": 52,
   "metadata": {},
   "outputs": [],
   "source": [
    "Resturants.RestaurantsAttire=Resturants.RestaurantsAttire.replace(np.nan,'None')\n",
    "Resturants=pd.concat([Resturants,pd.get_dummies(Resturants.RestaurantsAttire,prefix='Attire',drop_first=False)],axis=1)\n",
    "Resturants=Resturants.drop(['RestaurantsAttire','Attire_None'],axis=1)"
   ]
  },
  {
   "cell_type": "markdown",
   "metadata": {},
   "source": [
    "#### Bike parking"
   ]
  },
  {
   "cell_type": "code",
   "execution_count": 53,
   "metadata": {},
   "outputs": [
    {
     "data": {
      "text/plain": [
       "array([nan, 'True', 'False', 'None'], dtype=object)"
      ]
     },
     "execution_count": 53,
     "metadata": {},
     "output_type": "execute_result"
    }
   ],
   "source": [
    "Resturants.BikeParking.unique()"
   ]
  },
  {
   "cell_type": "markdown",
   "metadata": {},
   "source": [
    "Here NaN and None is interpreted to mean false."
   ]
  },
  {
   "cell_type": "code",
   "execution_count": 54,
   "metadata": {},
   "outputs": [],
   "source": [
    "Resturants.BikeParking=Resturants.BikeParking.replace(\"None\",0)\n",
    "Resturants.BikeParking=Resturants.BikeParking.replace(np.nan,0)\n",
    "Resturants.BikeParking=Resturants.BikeParking.replace('False',0)\n",
    "Resturants.BikeParking=Resturants.BikeParking.replace('True',1)"
   ]
  },
  {
   "cell_type": "markdown",
   "metadata": {},
   "source": [
    "#### Suitable for groups"
   ]
  },
  {
   "cell_type": "code",
   "execution_count": 55,
   "metadata": {},
   "outputs": [
    {
     "data": {
      "text/plain": [
       "array(['True', nan, 'False', 'None'], dtype=object)"
      ]
     },
     "execution_count": 55,
     "metadata": {},
     "output_type": "execute_result"
    }
   ],
   "source": [
    "Resturants.RestaurantsGoodForGroups.unique()"
   ]
  },
  {
   "cell_type": "code",
   "execution_count": 56,
   "metadata": {},
   "outputs": [],
   "source": [
    "Resturants.RestaurantsGoodForGroups=Resturants.RestaurantsGoodForGroups.replace(\"None\",0)\n",
    "Resturants.RestaurantsGoodForGroups=Resturants.RestaurantsGoodForGroups.replace(np.nan,0)\n",
    "Resturants.RestaurantsGoodForGroups=Resturants.RestaurantsGoodForGroups.replace('False',0)\n",
    "Resturants.RestaurantsGoodForGroups=Resturants.RestaurantsGoodForGroups.replace('True',1)"
   ]
  },
  {
   "cell_type": "markdown",
   "metadata": {},
   "source": [
    "### Categories\n",
    "The resturtants has a number of categories listed which needs to be transformed. We start by taking a look at all mentioned categories"
   ]
  },
  {
   "cell_type": "code",
   "execution_count": 57,
   "metadata": {},
   "outputs": [],
   "source": [
    "Resturants.categories=Resturants.categories.str.lower().apply(lambda c: c.split(\", \"))"
   ]
  },
  {
   "cell_type": "code",
   "execution_count": 58,
   "metadata": {},
   "outputs": [
    {
     "name": "stdout",
     "output_type": "stream",
     "text": [
      "The are the following 384 categories exist:\n",
      "--------------------------------------------\n",
      "- chicken shop\n",
      "- meat shops\n",
      "- appliances\n",
      "- hair loss centers\n",
      "- udon\n",
      "- hot pot\n",
      "- cideries\n",
      "- shaved ice\n",
      "- poke\n",
      "- pancakes\n",
      "- plumbing\n",
      "- coffee & tea supplies\n",
      "- fruits & veggies\n",
      "- shopping\n",
      "- lebanese\n",
      "- pubs\n",
      "- russian\n",
      "- active life\n",
      "- it services & computer repair\n",
      "- bistros\n",
      "- hookah bars\n",
      "- yoga\n",
      "- food tours\n",
      "- caterers\n",
      "- wine bars\n",
      "- turkish\n",
      "- wildlife control\n",
      "- basque\n",
      "- convenience stores\n",
      "- desserts\n",
      "- fondue\n",
      "- hostels\n",
      "- delicatessen\n",
      "- jazz & blues\n",
      "- professional services\n",
      "- venezuelan\n",
      "- party & event planning\n",
      "- mediterranean\n",
      "- ethiopian\n",
      "- beer hall\n",
      "- international\n",
      "- skin care\n",
      "- pop-up shops\n",
      "- champagne bars\n",
      "- coffee & tea\n",
      "- dive bars\n",
      "- walking tours\n",
      "- vape shops\n",
      "- tours\n",
      "- sports clubs\n",
      "- chicken wings\n",
      "- polish\n",
      "- tacos\n",
      "- day spas\n",
      "- burmese\n",
      "- vitamins & supplements\n",
      "- festivals\n",
      "- tex-mex\n",
      "- slovakian\n",
      "- chinese\n",
      "- marketing\n",
      "- coffee roasteries\n",
      "- noodles\n",
      "- asian fusion\n",
      "- sandwiches\n",
      "- juice bars & smoothies\n",
      "- personal shopping\n",
      "- vinyl records\n",
      "- japanese\n",
      "- do-it-yourself food\n",
      "- books\n",
      "- irish\n",
      "- indoor playcentre\n",
      "- surf schools\n",
      "- bakeries\n",
      "- airport lounges\n",
      "- vietnamese\n",
      "- bars\n",
      "- greek\n",
      "- nail salons\n",
      "- cards & stationery\n",
      "- head shops\n",
      "- bookstores\n",
      "- acne treatment\n",
      "- cabaret\n",
      "- fast food\n",
      "- seafood\n",
      "- scottish\n",
      "- sri lankan\n",
      "- mongolian\n",
      "- health & medical\n",
      "- bangladeshi\n",
      "- colombian\n",
      "- laser hair removal\n",
      "- cannabis clinics\n",
      "- dinner theater\n",
      "- sports wear\n",
      "- lawyers\n",
      "- steakhouses\n",
      "- comic books\n",
      "- churches\n",
      "- halal\n",
      "- korean\n",
      "- pest control\n",
      "- african\n",
      "- czech\n",
      "- german\n",
      "- pets\n",
      "- comedy clubs\n",
      "- reunion\n",
      "- cantonese\n",
      "- pet boarding\n",
      "- pan asian\n",
      "- karaoke\n",
      "- italian\n",
      "- toy stores\n",
      "- tapas bars\n",
      "- restaurant supplies\n",
      "- discount store\n",
      "- tax services\n",
      "- education\n",
      "- cambodian\n",
      "- egyptian\n",
      "- dumplings\n",
      "- financial services\n",
      "- indonesian\n",
      "- milkshake bars\n",
      "- restaurants\n",
      "- community service/non-profit\n",
      "- animal shelters\n",
      "- irish pub\n",
      "- minho\n",
      "- australian\n",
      "- hair removal\n",
      "- argentine\n",
      "- yelp events\n",
      "- salad\n",
      "- cafes\n",
      "- hungarian\n",
      "- tobacco shops\n",
      "- burgers\n",
      "- home & garden\n",
      "- fish & chips\n",
      "- jewelry\n",
      "- arts & entertainment\n",
      "- mosques\n",
      "- pop-up restaurants\n",
      "- accountants\n",
      "- personal chefs\n",
      "- swimwear\n",
      "- beer\n",
      "- pakistani\n",
      "- canadian (new)\n",
      "- creperies\n",
      "- pasta shops\n",
      "- pool halls\n",
      "- wineries\n",
      "- caribbean\n",
      "- tiki bars\n",
      "- delis\n",
      "- gastropubs\n",
      "- shaved snow\n",
      "- speakeasies\n",
      "- recreation centers\n",
      "- adult entertainment\n",
      "- waxing\n",
      "- south african\n",
      "- tabletop games\n",
      "- eyelash service\n",
      "- pretzels\n",
      "- donairs\n",
      "- acai bowls\n",
      "- mobile phone repair\n",
      "- window washing\n",
      "- home cleaning\n",
      "- iberian\n",
      "- ukrainian\n",
      "- men's clothing\n",
      "- sushi bars\n",
      "- austrian\n",
      "- dim sum\n",
      "- web design\n",
      "- team building activities\n",
      "- soup\n",
      "- cheesesteaks\n",
      "- imported food\n",
      "- french\n",
      "- ice cream & frozen yogurt\n",
      "- tapas/small plates\n",
      "- medical spas\n",
      "- beauty & spas\n",
      "- indian\n",
      "- casinos\n",
      "- brasseries\n",
      "- malaysian\n",
      "- bed & breakfast\n",
      "- wholesalers\n",
      "- furniture stores\n",
      "- wedding planning\n",
      "- barbeque\n",
      "- cajun/creole\n",
      "- gay bars\n",
      "- pet services\n",
      "- diners\n",
      "- whiskey bars\n",
      "- sporting goods\n",
      "- british\n",
      "- shopping centers\n",
      "- salvadoran\n",
      "- automotive\n",
      "- landmarks & historical buildings\n",
      "- investing\n",
      "- breakfast & brunch\n",
      "- venues & event spaces\n",
      "- afghan\n",
      "- hainan\n",
      "- swiss food\n",
      "- supper clubs\n",
      "- flowers & gifts\n",
      "- pet groomers\n",
      "- supernatural readings\n",
      "- gelato\n",
      "- massage\n",
      "- himalayan/nepalese\n",
      "- tea rooms\n",
      "- bubble tea\n",
      "- dog walkers\n",
      "- roofing\n",
      "- dry cleaning & laundry\n",
      "- electronics\n",
      "- candy stores\n",
      "- food trucks\n",
      "- macarons\n",
      "- home decor\n",
      "- peruvian\n",
      "- szechuan\n",
      "- cafeteria\n",
      "- brewpubs\n",
      "- bocce ball\n",
      "- patisserie/cake shop\n",
      "- social clubs\n",
      "- art schools\n",
      "- vegetarian\n",
      "- gluten-free\n",
      "- food delivery services\n",
      "- filipino\n",
      "- sports bars\n",
      "- street vendors\n",
      "- fitness & instruction\n",
      "- hakka\n",
      "- haitian\n",
      "- farmers market\n",
      "- music venues\n",
      "- taiwanese\n",
      "- vegan\n",
      "- playgrounds\n",
      "- alternative medicine\n",
      "- hotels\n",
      "- ethical grocery\n",
      "- meditation centers\n",
      "- laundry services\n",
      "- gas stations\n",
      "- modern european\n",
      "- gift shops\n",
      "- falafel\n",
      "- thai\n",
      "- wine & spirits\n",
      "- art galleries\n",
      "- bowling\n",
      "- health markets\n",
      "- mexican\n",
      "- arts & crafts\n",
      "- spanish\n",
      "- specialty schools\n",
      "- electricians\n",
      "- accessories\n",
      "- portuguese\n",
      "- comfort food\n",
      "- food court\n",
      "- brazilian\n",
      "- bankruptcy law\n",
      "- internet cafes\n",
      "- religious organizations\n",
      "- home services\n",
      "- seafood markets\n",
      "- czech/slovakian\n",
      "- custom cakes\n",
      "- customized merchandise\n",
      "- middle eastern\n",
      "- organic stores\n",
      "- donuts\n",
      "- escape games\n",
      "- mags\n",
      "- video game stores\n",
      "- florists\n",
      "- hotels & travel\n",
      "- dance clubs\n",
      "- public services & government\n",
      "- wigs\n",
      "- fashion\n",
      "- public markets\n",
      "- specialty food\n",
      "- swimming pools\n",
      "- soul food\n",
      "- persian/iranian\n",
      "- waffles\n",
      "- southern\n",
      "- poutineries\n",
      "- local flavor\n",
      "- hobby shops\n",
      "- special education\n",
      "- nightlife\n",
      "- breweries\n",
      "- amusement parks\n",
      "- ethnic food\n",
      "- women's clothing\n",
      "- community centers\n",
      "- live/raw food\n",
      "- scandinavian\n",
      "- singaporean\n",
      "- kombucha\n",
      "- ramen\n",
      "- kebab\n",
      "- cheese shops\n",
      "- arabian\n",
      "- pet sitting\n",
      "- american (new)\n",
      "- beer bar\n",
      "- art classes\n",
      "- department stores\n",
      "- musical instruments & teachers\n",
      "- hawaiian\n",
      "- shanghainese\n",
      "- couriers & delivery services\n",
      "- trinidadian\n",
      "- performing arts\n",
      "- beaches\n",
      "- latin american\n",
      "- cooking classes\n",
      "- moroccan\n",
      "- food\n",
      "- pizza\n",
      "- food stands\n",
      "- bartenders\n",
      "- syrian\n",
      "- hair salons\n",
      "- antiques\n",
      "- smokehouse\n",
      "- music & video\n",
      "- butcher\n",
      "- hot dogs\n",
      "- wraps\n",
      "- resorts\n",
      "- arcades\n",
      "- chocolatiers & shops\n",
      "- business consulting\n",
      "- music & dvds\n",
      "- laotian\n",
      "- cocktail bars\n",
      "- nicaraguan\n",
      "- american (traditional)\n",
      "- ethnic grocery\n",
      "- videos & video game rental\n",
      "- belgian\n",
      "- international grocery\n",
      "- stadiums & arenas\n",
      "- local services\n",
      "- life coach\n",
      "- buffets\n",
      "- event planning & services\n",
      "- cooking schools\n",
      "- kosher\n",
      "- cinema\n",
      "- cuban\n",
      "- kitchen & bath\n",
      "- grocery\n",
      "- izakaya\n",
      "- lounges\n",
      "- hong kong style cafe\n",
      "- nutritionists\n",
      "- laundromat\n",
      "- piano bars\n",
      "- bagels\n",
      "- themed cafes\n"
     ]
    }
   ],
   "source": [
    "categories=set([])\n",
    "for c in Resturants.categories:\n",
    "    categories=categories.union(set(c))\n",
    "print(\"The are the following {} categories exist:\".format(len(categories)))\n",
    "print(\"--------------------------------------------\")\n",
    "for category in categories:\n",
    "    print(\"- {}\".format(category))"
   ]
  },
  {
   "cell_type": "markdown",
   "metadata": {},
   "source": [
    "It is now encoded if each resturant belong to each of the categories"
   ]
  },
  {
   "cell_type": "code",
   "execution_count": 59,
   "metadata": {},
   "outputs": [],
   "source": [
    "for category in categories:\n",
    "    Resturants[category]=Resturants.categories.apply(lambda c:  int(bool(category in c)))\n",
    "Resturants=Resturants.drop(['categories'],axis=1)"
   ]
  },
  {
   "cell_type": "code",
   "execution_count": 60,
   "metadata": {},
   "outputs": [
    {
     "name": "stdout",
     "output_type": "stream",
     "text": [
      "Number of resturants which belong in category:\n",
      "---------------------------------------------------------\n",
      "chicken shop: 87\n",
      "meat shops: 22\n",
      "appliances: 2\n",
      "hair loss centers: 1\n",
      "udon: 1\n",
      "hot pot: 34\n",
      "cideries: 2\n",
      "shaved ice: 1\n",
      "poke: 31\n",
      "pancakes: 2\n",
      "plumbing: 4\n",
      "coffee & tea supplies: 6\n",
      "fruits & veggies: 4\n",
      "shopping: 95\n",
      "lebanese: 34\n",
      "pubs: 280\n",
      "russian: 17\n",
      "active life: 15\n",
      "it services & computer repair: 1\n",
      "bistros: 31\n",
      "hookah bars: 14\n",
      "yoga: 1\n",
      "food tours: 1\n",
      "caterers: 244\n",
      "wine bars: 145\n",
      "turkish: 47\n",
      "wildlife control: 1\n",
      "basque: 2\n",
      "convenience stores: 11\n",
      "desserts: 291\n",
      "fondue: 3\n",
      "hostels: 1\n",
      "delicatessen: 25\n",
      "jazz & blues: 18\n",
      "professional services: 9\n",
      "venezuelan: 8\n",
      "party & event planning: 15\n",
      "mediterranean: 345\n",
      "ethiopian: 31\n",
      "beer hall: 1\n",
      "international: 18\n",
      "skin care: 3\n",
      "pop-up shops: 4\n",
      "champagne bars: 2\n",
      "coffee & tea: 748\n",
      "dive bars: 32\n",
      "walking tours: 1\n",
      "vape shops: 1\n",
      "tours: 1\n",
      "sports clubs: 1\n",
      "chicken wings: 272\n",
      "polish: 21\n",
      "tacos: 2\n",
      "day spas: 4\n",
      "burmese: 2\n",
      "vitamins & supplements: 2\n",
      "festivals: 6\n",
      "tex-mex: 58\n",
      "slovakian: 2\n",
      "chinese: 731\n",
      "marketing: 1\n",
      "coffee roasteries: 27\n",
      "noodles: 122\n",
      "asian fusion: 340\n",
      "sandwiches: 781\n",
      "juice bars & smoothies: 194\n",
      "personal shopping: 1\n",
      "vinyl records: 4\n",
      "japanese: 615\n",
      "do-it-yourself food: 16\n",
      "books: 11\n",
      "irish: 33\n",
      "indoor playcentre: 2\n",
      "surf schools: 1\n",
      "bakeries: 296\n",
      "airport lounges: 1\n",
      "vietnamese: 226\n",
      "bars: 1161\n",
      "greek: 186\n",
      "nail salons: 1\n",
      "cards & stationery: 2\n",
      "head shops: 1\n",
      "bookstores: 4\n",
      "acne treatment: 1\n",
      "cabaret: 1\n",
      "fast food: 634\n",
      "seafood: 279\n",
      "scottish: 2\n",
      "sri lankan: 17\n",
      "mongolian: 2\n",
      "health & medical: 4\n",
      "bangladeshi: 15\n",
      "colombian: 7\n",
      "laser hair removal: 1\n",
      "cannabis clinics: 1\n",
      "dinner theater: 4\n",
      "sports wear: 1\n",
      "lawyers: 1\n",
      "steakhouses: 108\n",
      "comic books: 1\n",
      "churches: 1\n",
      "halal: 182\n",
      "korean: 295\n",
      "pest control: 1\n",
      "african: 42\n",
      "czech: 3\n",
      "german: 19\n",
      "pets: 4\n",
      "comedy clubs: 3\n",
      "reunion: 1\n",
      "cantonese: 15\n",
      "pet boarding: 1\n",
      "pan asian: 13\n",
      "karaoke: 19\n",
      "italian: 670\n",
      "toy stores: 3\n",
      "tapas bars: 108\n",
      "restaurant supplies: 2\n",
      "discount store: 1\n",
      "tax services: 1\n",
      "education: 10\n",
      "cambodian: 3\n",
      "egyptian: 2\n",
      "dumplings: 6\n",
      "financial services: 2\n",
      "indonesian: 9\n",
      "milkshake bars: 1\n",
      "restaurants: 8679\n",
      "community service/non-profit: 2\n",
      "animal shelters: 1\n",
      "irish pub: 10\n",
      "minho: 1\n",
      "australian: 4\n",
      "hair removal: 2\n",
      "argentine: 17\n",
      "yelp events: 2\n",
      "salad: 310\n",
      "cafes: 751\n",
      "hungarian: 7\n",
      "tobacco shops: 3\n",
      "burgers: 501\n",
      "home & garden: 5\n",
      "fish & chips: 61\n",
      "jewelry: 2\n",
      "arts & entertainment: 134\n",
      "mosques: 1\n",
      "pop-up restaurants: 5\n",
      "accountants: 1\n",
      "personal chefs: 4\n",
      "swimwear: 1\n",
      "beer: 129\n",
      "pakistani: 102\n",
      "canadian (new): 712\n",
      "creperies: 40\n",
      "pasta shops: 3\n",
      "pool halls: 14\n",
      "wineries: 1\n",
      "caribbean: 188\n",
      "tiki bars: 1\n",
      "delis: 131\n",
      "gastropubs: 134\n",
      "shaved snow: 2\n",
      "speakeasies: 2\n",
      "recreation centers: 2\n",
      "adult entertainment: 2\n",
      "waxing: 1\n",
      "south african: 10\n",
      "tabletop games: 5\n",
      "eyelash service: 1\n",
      "pretzels: 1\n",
      "donairs: 12\n",
      "acai bowls: 6\n",
      "mobile phone repair: 1\n",
      "window washing: 1\n",
      "home cleaning: 1\n",
      "iberian: 2\n",
      "ukrainian: 10\n",
      "men's clothing: 2\n",
      "sushi bars: 419\n",
      "austrian: 1\n",
      "dim sum: 81\n",
      "web design: 1\n",
      "team building activities: 2\n",
      "soup: 109\n",
      "cheesesteaks: 11\n",
      "imported food: 50\n",
      "french: 199\n",
      "ice cream & frozen yogurt: 120\n",
      "tapas/small plates: 127\n",
      "medical spas: 1\n",
      "beauty & spas: 12\n",
      "indian: 388\n",
      "casinos: 7\n",
      "brasseries: 19\n",
      "malaysian: 24\n",
      "bed & breakfast: 1\n",
      "wholesalers: 2\n",
      "furniture stores: 1\n",
      "wedding planning: 3\n",
      "barbeque: 237\n",
      "cajun/creole: 41\n",
      "gay bars: 4\n",
      "pet services: 2\n",
      "diners: 184\n",
      "whiskey bars: 5\n",
      "sporting goods: 1\n",
      "british: 48\n",
      "shopping centers: 3\n",
      "salvadoran: 8\n",
      "automotive: 3\n",
      "landmarks & historical buildings: 1\n",
      "investing: 1\n",
      "breakfast & brunch: 780\n",
      "venues & event spaces: 77\n",
      "afghan: 34\n",
      "hainan: 1\n",
      "swiss food: 1\n",
      "supper clubs: 3\n",
      "flowers & gifts: 6\n",
      "pet groomers: 1\n",
      "supernatural readings: 1\n",
      "gelato: 3\n",
      "massage: 1\n",
      "himalayan/nepalese: 30\n",
      "tea rooms: 54\n",
      "bubble tea: 56\n",
      "dog walkers: 1\n",
      "roofing: 1\n",
      "dry cleaning & laundry: 3\n",
      "electronics: 2\n",
      "candy stores: 2\n",
      "food trucks: 38\n",
      "macarons: 3\n",
      "home decor: 1\n",
      "peruvian: 22\n",
      "szechuan: 3\n",
      "cafeteria: 3\n",
      "brewpubs: 9\n",
      "bocce ball: 1\n",
      "patisserie/cake shop: 19\n",
      "social clubs: 8\n",
      "art schools: 2\n",
      "vegetarian: 257\n",
      "gluten-free: 173\n",
      "food delivery services: 103\n",
      "filipino: 49\n",
      "sports bars: 130\n",
      "street vendors: 27\n",
      "fitness & instruction: 2\n",
      "hakka: 20\n",
      "haitian: 2\n",
      "farmers market: 5\n",
      "music venues: 57\n",
      "taiwanese: 59\n",
      "vegan: 222\n",
      "playgrounds: 3\n",
      "alternative medicine: 1\n",
      "hotels: 16\n",
      "ethical grocery: 4\n",
      "meditation centers: 1\n",
      "laundry services: 1\n",
      "gas stations: 1\n",
      "modern european: 60\n",
      "gift shops: 3\n",
      "falafel: 41\n",
      "thai: 316\n",
      "wine & spirits: 129\n",
      "art galleries: 14\n",
      "bowling: 2\n",
      "health markets: 35\n",
      "mexican: 299\n",
      "arts & crafts: 7\n",
      "spanish: 38\n",
      "specialty schools: 6\n",
      "electricians: 1\n",
      "accessories: 1\n",
      "portuguese: 81\n",
      "comfort food: 197\n",
      "food court: 69\n",
      "brazilian: 19\n",
      "bankruptcy law: 1\n",
      "internet cafes: 14\n",
      "religious organizations: 4\n",
      "home services: 6\n",
      "seafood markets: 7\n",
      "czech/slovakian: 1\n",
      "custom cakes: 4\n",
      "customized merchandise: 1\n",
      "middle eastern: 361\n",
      "organic stores: 21\n",
      "donuts: 34\n",
      "escape games: 1\n",
      "mags: 11\n",
      "video game stores: 1\n",
      "florists: 1\n",
      "hotels & travel: 20\n",
      "dance clubs: 27\n",
      "public services & government: 3\n",
      "wigs: 8\n",
      "fashion: 6\n",
      "public markets: 7\n",
      "specialty food: 367\n",
      "swimming pools: 2\n",
      "soul food: 23\n",
      "persian/iranian: 51\n",
      "waffles: 23\n",
      "southern: 39\n",
      "poutineries: 55\n",
      "local flavor: 45\n",
      "hobby shops: 5\n",
      "special education: 1\n",
      "nightlife: 1213\n",
      "breweries: 25\n",
      "amusement parks: 1\n",
      "ethnic food: 155\n",
      "women's clothing: 4\n",
      "community centers: 2\n",
      "live/raw food: 17\n",
      "scandinavian: 4\n",
      "singaporean: 4\n",
      "kombucha: 1\n",
      "ramen: 69\n",
      "kebab: 24\n",
      "cheese shops: 18\n",
      "arabian: 15\n",
      "pet sitting: 1\n",
      "american (new): 268\n",
      "beer bar: 46\n",
      "art classes: 4\n",
      "department stores: 1\n",
      "musical instruments & teachers: 1\n",
      "hawaiian: 22\n",
      "shanghainese: 1\n",
      "couriers & delivery services: 1\n",
      "trinidadian: 1\n",
      "performing arts: 7\n",
      "beaches: 1\n",
      "latin american: 90\n",
      "cooking classes: 3\n",
      "moroccan: 15\n",
      "food: 2311\n",
      "pizza: 625\n",
      "food stands: 49\n",
      "bartenders: 1\n",
      "syrian: 4\n",
      "hair salons: 3\n",
      "antiques: 2\n",
      "smokehouse: 8\n",
      "music & video: 11\n",
      "butcher: 14\n",
      "hot dogs: 47\n",
      "wraps: 2\n",
      "resorts: 2\n",
      "arcades: 12\n",
      "chocolatiers & shops: 10\n",
      "business consulting: 1\n",
      "music & dvds: 1\n",
      "laotian: 3\n",
      "cocktail bars: 189\n",
      "nicaraguan: 1\n",
      "american (traditional): 419\n",
      "ethnic grocery: 3\n",
      "videos & video game rental: 1\n",
      "belgian: 11\n",
      "international grocery: 6\n",
      "stadiums & arenas: 2\n",
      "local services: 11\n",
      "life coach: 1\n",
      "buffets: 47\n",
      "event planning & services: 341\n",
      "cooking schools: 2\n",
      "kosher: 31\n",
      "cinema: 3\n",
      "cuban: 9\n",
      "kitchen & bath: 1\n",
      "grocery: 60\n",
      "izakaya: 1\n",
      "lounges: 170\n",
      "hong kong style cafe: 5\n",
      "nutritionists: 1\n",
      "laundromat: 1\n",
      "piano bars: 2\n",
      "bagels: 42\n",
      "themed cafes: 2\n"
     ]
    }
   ],
   "source": [
    "print(\"Number of resturants which belong in category:\")\n",
    "print(\"---------------------------------------------------------\")\n",
    "for category in categories:\n",
    "    InCategory=len(Resturants[Resturants[category]==1])        \n",
    "    print(\"{}: {}\".format(category,InCategory))"
   ]
  },
  {
   "cell_type": "markdown",
   "metadata": {},
   "source": [
    "Since certain categories only have very few resturants beloning to them this can allow the category to function as an identifier for resturants, categories with less than 10 resturants are not included."
   ]
  },
  {
   "cell_type": "code",
   "execution_count": 61,
   "metadata": {},
   "outputs": [
    {
     "name": "stdout",
     "output_type": "stream",
     "text": [
      "Categories disgarded:\n",
      "appliances\n",
      "hair loss centers\n",
      "gay bars\n",
      "pet services\n",
      "whiskey bars\n",
      "sporting goods\n",
      "udon\n",
      "cideries\n",
      "shaved ice\n",
      "pancakes\n",
      "shopping centers\n",
      "plumbing\n",
      "salvadoran\n",
      "automotive\n",
      "landmarks & historical buildings\n",
      "investing\n",
      "coffee & tea supplies\n",
      "fruits & veggies\n",
      "furniture stores\n",
      "hainan\n",
      "swiss food\n",
      "it services & computer repair\n",
      "supper clubs\n",
      "flowers & gifts\n",
      "yoga\n",
      "food tours\n",
      "pet groomers\n",
      "supernatural readings\n",
      "gelato\n",
      "massage\n",
      "wildlife control\n",
      "basque\n",
      "dog walkers\n",
      "roofing\n",
      "dry cleaning & laundry\n",
      "electronics\n",
      "candy stores\n",
      "fondue\n",
      "hostels\n",
      "macarons\n",
      "home decor\n",
      "professional services\n",
      "szechuan\n",
      "venezuelan\n",
      "skin care\n",
      "cafeteria\n",
      "beer hall\n",
      "brewpubs\n",
      "bocce ball\n",
      "pop-up shops\n",
      "social clubs\n",
      "art schools\n",
      "champagne bars\n",
      "walking tours\n",
      "vape shops\n",
      "fitness & instruction\n",
      "haitian\n",
      "tours\n",
      "farmers market\n",
      "sports clubs\n",
      "playgrounds\n",
      "tacos\n",
      "alternative medicine\n",
      "day spas\n",
      "ethical grocery\n",
      "burmese\n",
      "meditation centers\n",
      "vitamins & supplements\n",
      "festivals\n",
      "slovakian\n",
      "laundry services\n",
      "gas stations\n",
      "marketing\n",
      "gift shops\n",
      "bowling\n",
      "arts & crafts\n",
      "personal shopping\n",
      "specialty schools\n",
      "vinyl records\n",
      "indoor playcentre\n",
      "electricians\n",
      "surf schools\n",
      "accessories\n",
      "airport lounges\n",
      "bankruptcy law\n",
      "nail salons\n",
      "cards & stationery\n",
      "head shops\n",
      "religious organizations\n",
      "bookstores\n",
      "acne treatment\n",
      "cabaret\n",
      "home services\n",
      "seafood markets\n",
      "czech/slovakian\n",
      "custom cakes\n",
      "piano bars\n",
      "customized merchandise\n",
      "scottish\n",
      "colombian\n",
      "mongolian\n",
      "health & medical\n",
      "laser hair removal\n",
      "escape games\n",
      "cannabis clinics\n",
      "video game stores\n",
      "florists\n",
      "dinner theater\n",
      "sports wear\n",
      "public services & government\n",
      "wigs\n",
      "lawyers\n",
      "fashion\n",
      "comic books\n",
      "churches\n",
      "public markets\n",
      "swimming pools\n",
      "pest control\n",
      "hobby shops\n",
      "special education\n",
      "czech\n",
      "pets\n",
      "comedy clubs\n",
      "amusement parks\n",
      "reunion\n",
      "women's clothing\n",
      "community centers\n",
      "scandinavian\n",
      "singaporean\n",
      "pet boarding\n",
      "kombucha\n",
      "pet sitting\n",
      "toy stores\n",
      "restaurant supplies\n",
      "discount store\n",
      "tax services\n",
      "education\n",
      "cambodian\n",
      "art classes\n",
      "egyptian\n",
      "department stores\n",
      "musical instruments & teachers\n",
      "dumplings\n",
      "financial services\n",
      "indonesian\n",
      "shanghainese\n",
      "couriers & delivery services\n",
      "milkshake bars\n",
      "trinidadian\n",
      "performing arts\n",
      "community service/non-profit\n",
      "animal shelters\n",
      "irish pub\n",
      "beaches\n",
      "minho\n",
      "australian\n",
      "hair removal\n",
      "cooking classes\n",
      "yelp events\n",
      "hungarian\n",
      "tobacco shops\n",
      "home & garden\n",
      "jewelry\n",
      "bartenders\n",
      "syrian\n",
      "mosques\n",
      "pop-up restaurants\n",
      "hair salons\n",
      "accountants\n",
      "personal chefs\n",
      "swimwear\n",
      "antiques\n",
      "smokehouse\n",
      "pasta shops\n",
      "wineries\n",
      "tiki bars\n",
      "shaved snow\n",
      "wraps\n",
      "speakeasies\n",
      "recreation centers\n",
      "adult entertainment\n",
      "waxing\n",
      "resorts\n",
      "chocolatiers & shops\n",
      "business consulting\n",
      "south african\n",
      "music & dvds\n",
      "tabletop games\n",
      "laotian\n",
      "eyelash service\n",
      "pretzels\n",
      "nicaraguan\n",
      "acai bowls\n",
      "mobile phone repair\n",
      "window washing\n",
      "home cleaning\n",
      "ethnic grocery\n",
      "iberian\n",
      "videos & video game rental\n",
      "ukrainian\n",
      "men's clothing\n",
      "international grocery\n",
      "austrian\n",
      "stadiums & arenas\n",
      "web design\n",
      "team building activities\n",
      "life coach\n",
      "cooking schools\n",
      "cinema\n",
      "cuban\n",
      "kitchen & bath\n",
      "izakaya\n",
      "medical spas\n",
      "hong kong style cafe\n",
      "nutritionists\n",
      "laundromat\n",
      "casinos\n",
      "wholesalers\n",
      "bed & breakfast\n",
      "wedding planning\n",
      "themed cafes\n",
      "-----------------------------\n",
      "There are 163 remaing categories\n"
     ]
    }
   ],
   "source": [
    "disgarded_categories=set([])\n",
    "for category in categories:\n",
    "    InCategory=len(Resturants[Resturants[category]==1]) \n",
    "    if InCategory<=10:\n",
    "        Resturants=Resturants.drop([category],axis=1)\n",
    "        disgarded_categories=disgarded_categories.union(set([category]))\n",
    "categories.difference_update(disgarded_categories)        \n",
    "print(\"Categories disgarded:\")\n",
    "for a in disgarded_categories:\n",
    "      print(a) \n",
    "print(\"-----------------------------\")\n",
    "print(\"There are {} remaing categories\".format(len(categories)))"
   ]
  },
  {
   "cell_type": "markdown",
   "metadata": {},
   "source": [
    "### Opening hourse\n",
    "The last bit of information available is concerning the opening hours of the resturants. "
   ]
  },
  {
   "cell_type": "code",
   "execution_count": 62,
   "metadata": {},
   "outputs": [
    {
     "data": {
      "text/plain": [
       "0                                                      {}\n",
       "1       {\"Monday\": \"11:00-22:00\", \"Tuesday\": \"11:00-22...\n",
       "2                                                      {}\n",
       "3                                                      {}\n",
       "4       {\"Monday\": \"0:00-0:00\", \"Tuesday\": \"7:30-17:00...\n",
       "                              ...                        \n",
       "8676    {\"Monday\": \"12:00-23:00\", \"Tuesday\": \"12:00-23...\n",
       "8677    {\"Monday\": \"11:00-23:00\", \"Tuesday\": \"11:00-23...\n",
       "8678    {\"Monday\": \"11:30-22:00\", \"Tuesday\": \"11:30-22...\n",
       "8679    {\"Monday\": \"11:00-21:00\", \"Tuesday\": \"11:00-21...\n",
       "8680                                                   {}\n",
       "Name: hours, Length: 8681, dtype: object"
      ]
     },
     "execution_count": 62,
     "metadata": {},
     "output_type": "execute_result"
    }
   ],
   "source": [
    "Resturants.hours"
   ]
  },
  {
   "cell_type": "code",
   "execution_count": 63,
   "metadata": {},
   "outputs": [
    {
     "name": "stdout",
     "output_type": "stream",
     "text": [
      "Is resturants opending hours known:\n"
     ]
    },
    {
     "data": {
      "text/plain": [
       "True     6720\n",
       "False    1961\n",
       "Name: hours, dtype: int64"
      ]
     },
     "execution_count": 63,
     "metadata": {},
     "output_type": "execute_result"
    }
   ],
   "source": [
    "print(\"Is resturants opending hours known:\")\n",
    "Resturants.hours.apply(lambda h: h!='{}').value_counts()"
   ]
  },
  {
   "cell_type": "markdown",
   "metadata": {},
   "source": [
    "The opening hours when unknown will be the same as most common for remining resturants."
   ]
  },
  {
   "cell_type": "markdown",
   "metadata": {},
   "source": [
    "To get a better overview of a resturants opening hours each day is divided into five time intervals, this allows some of the details to be captured, while abstracting for the finer details, to keep down the number of attributes.<br>\n",
    "- Early Morning: 0:00-5:59\n",
    "- Morning: 6:00-9:59.\n",
    "- Midday: 10:00-16:59.\n",
    "- Evening: 17:00-21:59.\n",
    "- Night: 22:00-23:59."
   ]
  },
  {
   "cell_type": "markdown",
   "metadata": {},
   "source": [
    "For resturants, which have opening hours that partially fall within some time period, the resturants will be considered open in that period."
   ]
  },
  {
   "cell_type": "code",
   "execution_count": 64,
   "metadata": {},
   "outputs": [],
   "source": [
    "Resturants.hours=Resturants.hours.apply(lambda h: eval(h)) #trasform into dictionary format"
   ]
  },
  {
   "cell_type": "code",
   "execution_count": 65,
   "metadata": {},
   "outputs": [],
   "source": [
    "import datetime\n",
    "\n",
    "#Adding openinghourscategories to data frame, with default value 0 for closed in all entries.\n",
    "days=['Monday','Tuesday','Wednesday','Thursday','Friday','Saturday','Sunday']\n",
    "timeIntervals={\"Early Morning\":(datetime.time(0,0,0),datetime.time(5,59,0)),\n",
    "               \"Morning\":(datetime.time(6,0,0),datetime.time(9,59,0)),\n",
    "               \"Midday\":(datetime.time(10,0,0),datetime.time(16,59,0)),\n",
    "               \"Evening\":(datetime.time(17,0,0),datetime.time(23,50,0))}\n",
    "for day in days:\n",
    "    for time in timeIntervals.keys():\n",
    "        Resturants['open_'+day+\"_\"+time]=0 #default closed"
   ]
  },
  {
   "cell_type": "code",
   "execution_count": 66,
   "metadata": {},
   "outputs": [
    {
     "name": "stderr",
     "output_type": "stream",
     "text": [
      "c:\\users\\clara\\appdata\\local\\programs\\python\\python36-32\\lib\\site-packages\\ipykernel_launcher.py:11: SettingWithCopyWarning: \n",
      "A value is trying to be set on a copy of a slice from a DataFrame\n",
      "\n",
      "See the caveats in the documentation: http://pandas.pydata.org/pandas-docs/stable/user_guide/indexing.html#returning-a-view-versus-a-copy\n",
      "  # This is added back by InteractiveShellApp.init_path()\n"
     ]
    }
   ],
   "source": [
    "#If opening hours are listed, then for each day it is tested if returant is open in the different time intervals.\n",
    "for index, resturant in Resturants.iterrows():\n",
    "    if resturant.hours !={}:\n",
    "        for day in days:\n",
    "            if day in resturant.hours.keys():\n",
    "                opening_hours=resturant.hours[day].split(\"-\")\n",
    "                open_hour=pd.to_datetime(opening_hours[0]).time()\n",
    "                close_hour=pd.to_datetime(opening_hours[1]).time()\n",
    "                for time in timeIntervals.keys():\n",
    "                    if not (timeIntervals[time][1]<open_hour or close_hour<timeIntervals[time][0]): # opening hours overlap with time interval\n",
    "                     Resturants['open_'+day+\"_\"+time][index]=1 "
   ]
  },
  {
   "cell_type": "markdown",
   "metadata": {},
   "source": [
    "For resturants where no opening hours are listed, the values are now set to include the most common opening hours."
   ]
  },
  {
   "cell_type": "code",
   "execution_count": 67,
   "metadata": {},
   "outputs": [
    {
     "name": "stderr",
     "output_type": "stream",
     "text": [
      "c:\\users\\clara\\appdata\\local\\programs\\python\\python36-32\\lib\\site-packages\\ipykernel_launcher.py:6: SettingWithCopyWarning: \n",
      "A value is trying to be set on a copy of a slice from a DataFrame\n",
      "\n",
      "See the caveats in the documentation: http://pandas.pydata.org/pandas-docs/stable/user_guide/indexing.html#returning-a-view-versus-a-copy\n",
      "  \n"
     ]
    }
   ],
   "source": [
    "resturants_with_openhours=Resturants[Resturants.hours!={}]\n",
    "for index, resturant in Resturants.iterrows():\n",
    "    if resturant.hours =={}:\n",
    "        for day in days:\n",
    "            for time in timeIntervals.keys():\n",
    "                Resturants['open_'+day+\"_\"+time][index]=resturants_with_openhours['open_'+day+\"_\"+time].mode()"
   ]
  },
  {
   "cell_type": "code",
   "execution_count": 68,
   "metadata": {},
   "outputs": [],
   "source": [
    "Resturants=Resturants.drop([\"hours\"],axis=1)"
   ]
  },
  {
   "cell_type": "markdown",
   "metadata": {},
   "source": [
    "### Standardization"
   ]
  },
  {
   "cell_type": "markdown",
   "metadata": {},
   "source": [
    "After the transformation there are 229 attributes listed for each resturant. However it is clear that the scale of the attributes are very different in terms of range. In order to be able to interpret the influence of the attributes, based on the constructed classifiers it is therefore necessary to normalize the data."
   ]
  },
  {
   "cell_type": "code",
   "execution_count": 69,
   "metadata": {},
   "outputs": [
    {
     "data": {
      "text/html": [
       "<div>\n",
       "<style scoped>\n",
       "    .dataframe tbody tr th:only-of-type {\n",
       "        vertical-align: middle;\n",
       "    }\n",
       "\n",
       "    .dataframe tbody tr th {\n",
       "        vertical-align: top;\n",
       "    }\n",
       "\n",
       "    .dataframe thead th {\n",
       "        text-align: right;\n",
       "    }\n",
       "</style>\n",
       "<table border=\"1\" class=\"dataframe\">\n",
       "  <thead>\n",
       "    <tr style=\"text-align: right;\">\n",
       "      <th></th>\n",
       "      <th>stars</th>\n",
       "      <th>review_count</th>\n",
       "      <th>is_open</th>\n",
       "      <th>RestaurantsReservations</th>\n",
       "      <th>GoodForKids</th>\n",
       "      <th>RestaurantsGoodForGroups</th>\n",
       "      <th>RestaurantsTakeOut</th>\n",
       "      <th>RestaurantsDelivery</th>\n",
       "      <th>RestaurantsPriceRange2</th>\n",
       "      <th>HasTV</th>\n",
       "      <th>...</th>\n",
       "      <th>open_Friday_Midday</th>\n",
       "      <th>open_Friday_Evening</th>\n",
       "      <th>open_Saturday_Early Morning</th>\n",
       "      <th>open_Saturday_Morning</th>\n",
       "      <th>open_Saturday_Midday</th>\n",
       "      <th>open_Saturday_Evening</th>\n",
       "      <th>open_Sunday_Early Morning</th>\n",
       "      <th>open_Sunday_Morning</th>\n",
       "      <th>open_Sunday_Midday</th>\n",
       "      <th>open_Sunday_Evening</th>\n",
       "    </tr>\n",
       "  </thead>\n",
       "  <tbody>\n",
       "    <tr>\n",
       "      <td>0</td>\n",
       "      <td>3.0</td>\n",
       "      <td>13</td>\n",
       "      <td>0</td>\n",
       "      <td>0</td>\n",
       "      <td>1</td>\n",
       "      <td>1</td>\n",
       "      <td>1</td>\n",
       "      <td>0</td>\n",
       "      <td>2.0</td>\n",
       "      <td>0</td>\n",
       "      <td>...</td>\n",
       "      <td>1</td>\n",
       "      <td>1</td>\n",
       "      <td>0</td>\n",
       "      <td>0</td>\n",
       "      <td>1</td>\n",
       "      <td>1</td>\n",
       "      <td>0</td>\n",
       "      <td>0</td>\n",
       "      <td>1</td>\n",
       "      <td>1</td>\n",
       "    </tr>\n",
       "    <tr>\n",
       "      <td>1</td>\n",
       "      <td>4.0</td>\n",
       "      <td>116</td>\n",
       "      <td>1</td>\n",
       "      <td>0</td>\n",
       "      <td>1</td>\n",
       "      <td>1</td>\n",
       "      <td>1</td>\n",
       "      <td>0</td>\n",
       "      <td>1.0</td>\n",
       "      <td>1</td>\n",
       "      <td>...</td>\n",
       "      <td>1</td>\n",
       "      <td>1</td>\n",
       "      <td>0</td>\n",
       "      <td>0</td>\n",
       "      <td>1</td>\n",
       "      <td>1</td>\n",
       "      <td>0</td>\n",
       "      <td>0</td>\n",
       "      <td>1</td>\n",
       "      <td>1</td>\n",
       "    </tr>\n",
       "    <tr>\n",
       "      <td>2</td>\n",
       "      <td>3.0</td>\n",
       "      <td>8</td>\n",
       "      <td>1</td>\n",
       "      <td>0</td>\n",
       "      <td>1</td>\n",
       "      <td>1</td>\n",
       "      <td>1</td>\n",
       "      <td>0</td>\n",
       "      <td>1.0</td>\n",
       "      <td>1</td>\n",
       "      <td>...</td>\n",
       "      <td>1</td>\n",
       "      <td>1</td>\n",
       "      <td>0</td>\n",
       "      <td>0</td>\n",
       "      <td>1</td>\n",
       "      <td>1</td>\n",
       "      <td>0</td>\n",
       "      <td>0</td>\n",
       "      <td>1</td>\n",
       "      <td>1</td>\n",
       "    </tr>\n",
       "    <tr>\n",
       "      <td>3</td>\n",
       "      <td>3.0</td>\n",
       "      <td>11</td>\n",
       "      <td>1</td>\n",
       "      <td>0</td>\n",
       "      <td>1</td>\n",
       "      <td>1</td>\n",
       "      <td>1</td>\n",
       "      <td>1</td>\n",
       "      <td>2.0</td>\n",
       "      <td>1</td>\n",
       "      <td>...</td>\n",
       "      <td>1</td>\n",
       "      <td>1</td>\n",
       "      <td>0</td>\n",
       "      <td>0</td>\n",
       "      <td>1</td>\n",
       "      <td>1</td>\n",
       "      <td>0</td>\n",
       "      <td>0</td>\n",
       "      <td>1</td>\n",
       "      <td>1</td>\n",
       "    </tr>\n",
       "    <tr>\n",
       "      <td>4</td>\n",
       "      <td>4.5</td>\n",
       "      <td>24</td>\n",
       "      <td>1</td>\n",
       "      <td>0</td>\n",
       "      <td>0</td>\n",
       "      <td>0</td>\n",
       "      <td>1</td>\n",
       "      <td>0</td>\n",
       "      <td>1.0</td>\n",
       "      <td>0</td>\n",
       "      <td>...</td>\n",
       "      <td>1</td>\n",
       "      <td>1</td>\n",
       "      <td>0</td>\n",
       "      <td>1</td>\n",
       "      <td>1</td>\n",
       "      <td>1</td>\n",
       "      <td>0</td>\n",
       "      <td>1</td>\n",
       "      <td>1</td>\n",
       "      <td>1</td>\n",
       "    </tr>\n",
       "    <tr>\n",
       "      <td>...</td>\n",
       "      <td>...</td>\n",
       "      <td>...</td>\n",
       "      <td>...</td>\n",
       "      <td>...</td>\n",
       "      <td>...</td>\n",
       "      <td>...</td>\n",
       "      <td>...</td>\n",
       "      <td>...</td>\n",
       "      <td>...</td>\n",
       "      <td>...</td>\n",
       "      <td>...</td>\n",
       "      <td>...</td>\n",
       "      <td>...</td>\n",
       "      <td>...</td>\n",
       "      <td>...</td>\n",
       "      <td>...</td>\n",
       "      <td>...</td>\n",
       "      <td>...</td>\n",
       "      <td>...</td>\n",
       "      <td>...</td>\n",
       "      <td>...</td>\n",
       "    </tr>\n",
       "    <tr>\n",
       "      <td>8676</td>\n",
       "      <td>4.0</td>\n",
       "      <td>104</td>\n",
       "      <td>1</td>\n",
       "      <td>1</td>\n",
       "      <td>1</td>\n",
       "      <td>1</td>\n",
       "      <td>1</td>\n",
       "      <td>1</td>\n",
       "      <td>2.0</td>\n",
       "      <td>1</td>\n",
       "      <td>...</td>\n",
       "      <td>1</td>\n",
       "      <td>1</td>\n",
       "      <td>0</td>\n",
       "      <td>0</td>\n",
       "      <td>1</td>\n",
       "      <td>1</td>\n",
       "      <td>0</td>\n",
       "      <td>0</td>\n",
       "      <td>1</td>\n",
       "      <td>1</td>\n",
       "    </tr>\n",
       "    <tr>\n",
       "      <td>8677</td>\n",
       "      <td>3.5</td>\n",
       "      <td>43</td>\n",
       "      <td>1</td>\n",
       "      <td>0</td>\n",
       "      <td>1</td>\n",
       "      <td>1</td>\n",
       "      <td>1</td>\n",
       "      <td>1</td>\n",
       "      <td>2.0</td>\n",
       "      <td>1</td>\n",
       "      <td>...</td>\n",
       "      <td>1</td>\n",
       "      <td>1</td>\n",
       "      <td>0</td>\n",
       "      <td>0</td>\n",
       "      <td>1</td>\n",
       "      <td>1</td>\n",
       "      <td>0</td>\n",
       "      <td>0</td>\n",
       "      <td>1</td>\n",
       "      <td>1</td>\n",
       "    </tr>\n",
       "    <tr>\n",
       "      <td>8678</td>\n",
       "      <td>4.0</td>\n",
       "      <td>177</td>\n",
       "      <td>1</td>\n",
       "      <td>1</td>\n",
       "      <td>1</td>\n",
       "      <td>1</td>\n",
       "      <td>1</td>\n",
       "      <td>1</td>\n",
       "      <td>2.0</td>\n",
       "      <td>0</td>\n",
       "      <td>...</td>\n",
       "      <td>1</td>\n",
       "      <td>1</td>\n",
       "      <td>0</td>\n",
       "      <td>0</td>\n",
       "      <td>1</td>\n",
       "      <td>1</td>\n",
       "      <td>0</td>\n",
       "      <td>0</td>\n",
       "      <td>1</td>\n",
       "      <td>1</td>\n",
       "    </tr>\n",
       "    <tr>\n",
       "      <td>8679</td>\n",
       "      <td>4.0</td>\n",
       "      <td>16</td>\n",
       "      <td>1</td>\n",
       "      <td>0</td>\n",
       "      <td>1</td>\n",
       "      <td>1</td>\n",
       "      <td>1</td>\n",
       "      <td>0</td>\n",
       "      <td>2.0</td>\n",
       "      <td>1</td>\n",
       "      <td>...</td>\n",
       "      <td>1</td>\n",
       "      <td>1</td>\n",
       "      <td>0</td>\n",
       "      <td>0</td>\n",
       "      <td>1</td>\n",
       "      <td>1</td>\n",
       "      <td>0</td>\n",
       "      <td>0</td>\n",
       "      <td>0</td>\n",
       "      <td>0</td>\n",
       "    </tr>\n",
       "    <tr>\n",
       "      <td>8680</td>\n",
       "      <td>2.5</td>\n",
       "      <td>21</td>\n",
       "      <td>1</td>\n",
       "      <td>0</td>\n",
       "      <td>1</td>\n",
       "      <td>1</td>\n",
       "      <td>1</td>\n",
       "      <td>0</td>\n",
       "      <td>1.0</td>\n",
       "      <td>1</td>\n",
       "      <td>...</td>\n",
       "      <td>1</td>\n",
       "      <td>1</td>\n",
       "      <td>0</td>\n",
       "      <td>0</td>\n",
       "      <td>1</td>\n",
       "      <td>1</td>\n",
       "      <td>0</td>\n",
       "      <td>0</td>\n",
       "      <td>1</td>\n",
       "      <td>1</td>\n",
       "    </tr>\n",
       "  </tbody>\n",
       "</table>\n",
       "<p>8681 rows × 229 columns</p>\n",
       "</div>"
      ],
      "text/plain": [
       "      stars  review_count  is_open  RestaurantsReservations  GoodForKids  \\\n",
       "0       3.0            13        0                        0            1   \n",
       "1       4.0           116        1                        0            1   \n",
       "2       3.0             8        1                        0            1   \n",
       "3       3.0            11        1                        0            1   \n",
       "4       4.5            24        1                        0            0   \n",
       "...     ...           ...      ...                      ...          ...   \n",
       "8676    4.0           104        1                        1            1   \n",
       "8677    3.5            43        1                        0            1   \n",
       "8678    4.0           177        1                        1            1   \n",
       "8679    4.0            16        1                        0            1   \n",
       "8680    2.5            21        1                        0            1   \n",
       "\n",
       "      RestaurantsGoodForGroups  RestaurantsTakeOut  RestaurantsDelivery  \\\n",
       "0                            1                   1                    0   \n",
       "1                            1                   1                    0   \n",
       "2                            1                   1                    0   \n",
       "3                            1                   1                    1   \n",
       "4                            0                   1                    0   \n",
       "...                        ...                 ...                  ...   \n",
       "8676                         1                   1                    1   \n",
       "8677                         1                   1                    1   \n",
       "8678                         1                   1                    1   \n",
       "8679                         1                   1                    0   \n",
       "8680                         1                   1                    0   \n",
       "\n",
       "      RestaurantsPriceRange2  HasTV  ...  open_Friday_Midday  \\\n",
       "0                        2.0      0  ...                   1   \n",
       "1                        1.0      1  ...                   1   \n",
       "2                        1.0      1  ...                   1   \n",
       "3                        2.0      1  ...                   1   \n",
       "4                        1.0      0  ...                   1   \n",
       "...                      ...    ...  ...                 ...   \n",
       "8676                     2.0      1  ...                   1   \n",
       "8677                     2.0      1  ...                   1   \n",
       "8678                     2.0      0  ...                   1   \n",
       "8679                     2.0      1  ...                   1   \n",
       "8680                     1.0      1  ...                   1   \n",
       "\n",
       "      open_Friday_Evening  open_Saturday_Early Morning  open_Saturday_Morning  \\\n",
       "0                       1                            0                      0   \n",
       "1                       1                            0                      0   \n",
       "2                       1                            0                      0   \n",
       "3                       1                            0                      0   \n",
       "4                       1                            0                      1   \n",
       "...                   ...                          ...                    ...   \n",
       "8676                    1                            0                      0   \n",
       "8677                    1                            0                      0   \n",
       "8678                    1                            0                      0   \n",
       "8679                    1                            0                      0   \n",
       "8680                    1                            0                      0   \n",
       "\n",
       "      open_Saturday_Midday  open_Saturday_Evening  open_Sunday_Early Morning  \\\n",
       "0                        1                      1                          0   \n",
       "1                        1                      1                          0   \n",
       "2                        1                      1                          0   \n",
       "3                        1                      1                          0   \n",
       "4                        1                      1                          0   \n",
       "...                    ...                    ...                        ...   \n",
       "8676                     1                      1                          0   \n",
       "8677                     1                      1                          0   \n",
       "8678                     1                      1                          0   \n",
       "8679                     1                      1                          0   \n",
       "8680                     1                      1                          0   \n",
       "\n",
       "      open_Sunday_Morning  open_Sunday_Midday  open_Sunday_Evening  \n",
       "0                       0                   1                    1  \n",
       "1                       0                   1                    1  \n",
       "2                       0                   1                    1  \n",
       "3                       0                   1                    1  \n",
       "4                       1                   1                    1  \n",
       "...                   ...                 ...                  ...  \n",
       "8676                    0                   1                    1  \n",
       "8677                    0                   1                    1  \n",
       "8678                    0                   1                    1  \n",
       "8679                    0                   0                    0  \n",
       "8680                    0                   1                    1  \n",
       "\n",
       "[8681 rows x 229 columns]"
      ]
     },
     "execution_count": 69,
     "metadata": {},
     "output_type": "execute_result"
    }
   ],
   "source": [
    "Resturants"
   ]
  },
  {
   "cell_type": "code",
   "execution_count": 70,
   "metadata": {},
   "outputs": [
    {
     "data": {
      "text/html": [
       "<div>\n",
       "<style scoped>\n",
       "    .dataframe tbody tr th:only-of-type {\n",
       "        vertical-align: middle;\n",
       "    }\n",
       "\n",
       "    .dataframe tbody tr th {\n",
       "        vertical-align: top;\n",
       "    }\n",
       "\n",
       "    .dataframe thead th {\n",
       "        text-align: right;\n",
       "    }\n",
       "</style>\n",
       "<table border=\"1\" class=\"dataframe\">\n",
       "  <thead>\n",
       "    <tr style=\"text-align: right;\">\n",
       "      <th></th>\n",
       "      <th>stars</th>\n",
       "      <th>review_count</th>\n",
       "      <th>is_open</th>\n",
       "      <th>RestaurantsReservations</th>\n",
       "      <th>GoodForKids</th>\n",
       "      <th>RestaurantsGoodForGroups</th>\n",
       "      <th>RestaurantsTakeOut</th>\n",
       "      <th>RestaurantsDelivery</th>\n",
       "      <th>RestaurantsPriceRange2</th>\n",
       "      <th>HasTV</th>\n",
       "      <th>...</th>\n",
       "      <th>open_Friday_Midday</th>\n",
       "      <th>open_Friday_Evening</th>\n",
       "      <th>open_Saturday_Early Morning</th>\n",
       "      <th>open_Saturday_Morning</th>\n",
       "      <th>open_Saturday_Midday</th>\n",
       "      <th>open_Saturday_Evening</th>\n",
       "      <th>open_Sunday_Early Morning</th>\n",
       "      <th>open_Sunday_Morning</th>\n",
       "      <th>open_Sunday_Midday</th>\n",
       "      <th>open_Sunday_Evening</th>\n",
       "    </tr>\n",
       "  </thead>\n",
       "  <tbody>\n",
       "    <tr>\n",
       "      <td>0</td>\n",
       "      <td>0.500</td>\n",
       "      <td>0.003630</td>\n",
       "      <td>0.0</td>\n",
       "      <td>0.0</td>\n",
       "      <td>1.0</td>\n",
       "      <td>1.0</td>\n",
       "      <td>1.0</td>\n",
       "      <td>0.0</td>\n",
       "      <td>0.333333</td>\n",
       "      <td>0.0</td>\n",
       "      <td>...</td>\n",
       "      <td>1.0</td>\n",
       "      <td>1.0</td>\n",
       "      <td>0.0</td>\n",
       "      <td>0.0</td>\n",
       "      <td>1.0</td>\n",
       "      <td>1.0</td>\n",
       "      <td>0.0</td>\n",
       "      <td>0.0</td>\n",
       "      <td>1.0</td>\n",
       "      <td>1.0</td>\n",
       "    </tr>\n",
       "    <tr>\n",
       "      <td>1</td>\n",
       "      <td>0.750</td>\n",
       "      <td>0.041016</td>\n",
       "      <td>1.0</td>\n",
       "      <td>0.0</td>\n",
       "      <td>1.0</td>\n",
       "      <td>1.0</td>\n",
       "      <td>1.0</td>\n",
       "      <td>0.0</td>\n",
       "      <td>0.000000</td>\n",
       "      <td>1.0</td>\n",
       "      <td>...</td>\n",
       "      <td>1.0</td>\n",
       "      <td>1.0</td>\n",
       "      <td>0.0</td>\n",
       "      <td>0.0</td>\n",
       "      <td>1.0</td>\n",
       "      <td>1.0</td>\n",
       "      <td>0.0</td>\n",
       "      <td>0.0</td>\n",
       "      <td>1.0</td>\n",
       "      <td>1.0</td>\n",
       "    </tr>\n",
       "    <tr>\n",
       "      <td>2</td>\n",
       "      <td>0.500</td>\n",
       "      <td>0.001815</td>\n",
       "      <td>1.0</td>\n",
       "      <td>0.0</td>\n",
       "      <td>1.0</td>\n",
       "      <td>1.0</td>\n",
       "      <td>1.0</td>\n",
       "      <td>0.0</td>\n",
       "      <td>0.000000</td>\n",
       "      <td>1.0</td>\n",
       "      <td>...</td>\n",
       "      <td>1.0</td>\n",
       "      <td>1.0</td>\n",
       "      <td>0.0</td>\n",
       "      <td>0.0</td>\n",
       "      <td>1.0</td>\n",
       "      <td>1.0</td>\n",
       "      <td>0.0</td>\n",
       "      <td>0.0</td>\n",
       "      <td>1.0</td>\n",
       "      <td>1.0</td>\n",
       "    </tr>\n",
       "    <tr>\n",
       "      <td>3</td>\n",
       "      <td>0.500</td>\n",
       "      <td>0.002904</td>\n",
       "      <td>1.0</td>\n",
       "      <td>0.0</td>\n",
       "      <td>1.0</td>\n",
       "      <td>1.0</td>\n",
       "      <td>1.0</td>\n",
       "      <td>1.0</td>\n",
       "      <td>0.333333</td>\n",
       "      <td>1.0</td>\n",
       "      <td>...</td>\n",
       "      <td>1.0</td>\n",
       "      <td>1.0</td>\n",
       "      <td>0.0</td>\n",
       "      <td>0.0</td>\n",
       "      <td>1.0</td>\n",
       "      <td>1.0</td>\n",
       "      <td>0.0</td>\n",
       "      <td>0.0</td>\n",
       "      <td>1.0</td>\n",
       "      <td>1.0</td>\n",
       "    </tr>\n",
       "    <tr>\n",
       "      <td>4</td>\n",
       "      <td>0.875</td>\n",
       "      <td>0.007623</td>\n",
       "      <td>1.0</td>\n",
       "      <td>0.0</td>\n",
       "      <td>0.0</td>\n",
       "      <td>0.0</td>\n",
       "      <td>1.0</td>\n",
       "      <td>0.0</td>\n",
       "      <td>0.000000</td>\n",
       "      <td>0.0</td>\n",
       "      <td>...</td>\n",
       "      <td>1.0</td>\n",
       "      <td>1.0</td>\n",
       "      <td>0.0</td>\n",
       "      <td>1.0</td>\n",
       "      <td>1.0</td>\n",
       "      <td>1.0</td>\n",
       "      <td>0.0</td>\n",
       "      <td>1.0</td>\n",
       "      <td>1.0</td>\n",
       "      <td>1.0</td>\n",
       "    </tr>\n",
       "    <tr>\n",
       "      <td>...</td>\n",
       "      <td>...</td>\n",
       "      <td>...</td>\n",
       "      <td>...</td>\n",
       "      <td>...</td>\n",
       "      <td>...</td>\n",
       "      <td>...</td>\n",
       "      <td>...</td>\n",
       "      <td>...</td>\n",
       "      <td>...</td>\n",
       "      <td>...</td>\n",
       "      <td>...</td>\n",
       "      <td>...</td>\n",
       "      <td>...</td>\n",
       "      <td>...</td>\n",
       "      <td>...</td>\n",
       "      <td>...</td>\n",
       "      <td>...</td>\n",
       "      <td>...</td>\n",
       "      <td>...</td>\n",
       "      <td>...</td>\n",
       "      <td>...</td>\n",
       "    </tr>\n",
       "    <tr>\n",
       "      <td>8676</td>\n",
       "      <td>0.750</td>\n",
       "      <td>0.036661</td>\n",
       "      <td>1.0</td>\n",
       "      <td>1.0</td>\n",
       "      <td>1.0</td>\n",
       "      <td>1.0</td>\n",
       "      <td>1.0</td>\n",
       "      <td>1.0</td>\n",
       "      <td>0.333333</td>\n",
       "      <td>1.0</td>\n",
       "      <td>...</td>\n",
       "      <td>1.0</td>\n",
       "      <td>1.0</td>\n",
       "      <td>0.0</td>\n",
       "      <td>0.0</td>\n",
       "      <td>1.0</td>\n",
       "      <td>1.0</td>\n",
       "      <td>0.0</td>\n",
       "      <td>0.0</td>\n",
       "      <td>1.0</td>\n",
       "      <td>1.0</td>\n",
       "    </tr>\n",
       "    <tr>\n",
       "      <td>8677</td>\n",
       "      <td>0.625</td>\n",
       "      <td>0.014519</td>\n",
       "      <td>1.0</td>\n",
       "      <td>0.0</td>\n",
       "      <td>1.0</td>\n",
       "      <td>1.0</td>\n",
       "      <td>1.0</td>\n",
       "      <td>1.0</td>\n",
       "      <td>0.333333</td>\n",
       "      <td>1.0</td>\n",
       "      <td>...</td>\n",
       "      <td>1.0</td>\n",
       "      <td>1.0</td>\n",
       "      <td>0.0</td>\n",
       "      <td>0.0</td>\n",
       "      <td>1.0</td>\n",
       "      <td>1.0</td>\n",
       "      <td>0.0</td>\n",
       "      <td>0.0</td>\n",
       "      <td>1.0</td>\n",
       "      <td>1.0</td>\n",
       "    </tr>\n",
       "    <tr>\n",
       "      <td>8678</td>\n",
       "      <td>0.750</td>\n",
       "      <td>0.063158</td>\n",
       "      <td>1.0</td>\n",
       "      <td>1.0</td>\n",
       "      <td>1.0</td>\n",
       "      <td>1.0</td>\n",
       "      <td>1.0</td>\n",
       "      <td>1.0</td>\n",
       "      <td>0.333333</td>\n",
       "      <td>0.0</td>\n",
       "      <td>...</td>\n",
       "      <td>1.0</td>\n",
       "      <td>1.0</td>\n",
       "      <td>0.0</td>\n",
       "      <td>0.0</td>\n",
       "      <td>1.0</td>\n",
       "      <td>1.0</td>\n",
       "      <td>0.0</td>\n",
       "      <td>0.0</td>\n",
       "      <td>1.0</td>\n",
       "      <td>1.0</td>\n",
       "    </tr>\n",
       "    <tr>\n",
       "      <td>8679</td>\n",
       "      <td>0.750</td>\n",
       "      <td>0.004719</td>\n",
       "      <td>1.0</td>\n",
       "      <td>0.0</td>\n",
       "      <td>1.0</td>\n",
       "      <td>1.0</td>\n",
       "      <td>1.0</td>\n",
       "      <td>0.0</td>\n",
       "      <td>0.333333</td>\n",
       "      <td>1.0</td>\n",
       "      <td>...</td>\n",
       "      <td>1.0</td>\n",
       "      <td>1.0</td>\n",
       "      <td>0.0</td>\n",
       "      <td>0.0</td>\n",
       "      <td>1.0</td>\n",
       "      <td>1.0</td>\n",
       "      <td>0.0</td>\n",
       "      <td>0.0</td>\n",
       "      <td>0.0</td>\n",
       "      <td>0.0</td>\n",
       "    </tr>\n",
       "    <tr>\n",
       "      <td>8680</td>\n",
       "      <td>0.375</td>\n",
       "      <td>0.006534</td>\n",
       "      <td>1.0</td>\n",
       "      <td>0.0</td>\n",
       "      <td>1.0</td>\n",
       "      <td>1.0</td>\n",
       "      <td>1.0</td>\n",
       "      <td>0.0</td>\n",
       "      <td>0.000000</td>\n",
       "      <td>1.0</td>\n",
       "      <td>...</td>\n",
       "      <td>1.0</td>\n",
       "      <td>1.0</td>\n",
       "      <td>0.0</td>\n",
       "      <td>0.0</td>\n",
       "      <td>1.0</td>\n",
       "      <td>1.0</td>\n",
       "      <td>0.0</td>\n",
       "      <td>0.0</td>\n",
       "      <td>1.0</td>\n",
       "      <td>1.0</td>\n",
       "    </tr>\n",
       "  </tbody>\n",
       "</table>\n",
       "<p>8681 rows × 229 columns</p>\n",
       "</div>"
      ],
      "text/plain": [
       "      stars  review_count  is_open  RestaurantsReservations  GoodForKids  \\\n",
       "0     0.500      0.003630      0.0                      0.0          1.0   \n",
       "1     0.750      0.041016      1.0                      0.0          1.0   \n",
       "2     0.500      0.001815      1.0                      0.0          1.0   \n",
       "3     0.500      0.002904      1.0                      0.0          1.0   \n",
       "4     0.875      0.007623      1.0                      0.0          0.0   \n",
       "...     ...           ...      ...                      ...          ...   \n",
       "8676  0.750      0.036661      1.0                      1.0          1.0   \n",
       "8677  0.625      0.014519      1.0                      0.0          1.0   \n",
       "8678  0.750      0.063158      1.0                      1.0          1.0   \n",
       "8679  0.750      0.004719      1.0                      0.0          1.0   \n",
       "8680  0.375      0.006534      1.0                      0.0          1.0   \n",
       "\n",
       "      RestaurantsGoodForGroups  RestaurantsTakeOut  RestaurantsDelivery  \\\n",
       "0                          1.0                 1.0                  0.0   \n",
       "1                          1.0                 1.0                  0.0   \n",
       "2                          1.0                 1.0                  0.0   \n",
       "3                          1.0                 1.0                  1.0   \n",
       "4                          0.0                 1.0                  0.0   \n",
       "...                        ...                 ...                  ...   \n",
       "8676                       1.0                 1.0                  1.0   \n",
       "8677                       1.0                 1.0                  1.0   \n",
       "8678                       1.0                 1.0                  1.0   \n",
       "8679                       1.0                 1.0                  0.0   \n",
       "8680                       1.0                 1.0                  0.0   \n",
       "\n",
       "      RestaurantsPriceRange2  HasTV  ...  open_Friday_Midday  \\\n",
       "0                   0.333333    0.0  ...                 1.0   \n",
       "1                   0.000000    1.0  ...                 1.0   \n",
       "2                   0.000000    1.0  ...                 1.0   \n",
       "3                   0.333333    1.0  ...                 1.0   \n",
       "4                   0.000000    0.0  ...                 1.0   \n",
       "...                      ...    ...  ...                 ...   \n",
       "8676                0.333333    1.0  ...                 1.0   \n",
       "8677                0.333333    1.0  ...                 1.0   \n",
       "8678                0.333333    0.0  ...                 1.0   \n",
       "8679                0.333333    1.0  ...                 1.0   \n",
       "8680                0.000000    1.0  ...                 1.0   \n",
       "\n",
       "      open_Friday_Evening  open_Saturday_Early Morning  open_Saturday_Morning  \\\n",
       "0                     1.0                          0.0                    0.0   \n",
       "1                     1.0                          0.0                    0.0   \n",
       "2                     1.0                          0.0                    0.0   \n",
       "3                     1.0                          0.0                    0.0   \n",
       "4                     1.0                          0.0                    1.0   \n",
       "...                   ...                          ...                    ...   \n",
       "8676                  1.0                          0.0                    0.0   \n",
       "8677                  1.0                          0.0                    0.0   \n",
       "8678                  1.0                          0.0                    0.0   \n",
       "8679                  1.0                          0.0                    0.0   \n",
       "8680                  1.0                          0.0                    0.0   \n",
       "\n",
       "      open_Saturday_Midday  open_Saturday_Evening  open_Sunday_Early Morning  \\\n",
       "0                      1.0                    1.0                        0.0   \n",
       "1                      1.0                    1.0                        0.0   \n",
       "2                      1.0                    1.0                        0.0   \n",
       "3                      1.0                    1.0                        0.0   \n",
       "4                      1.0                    1.0                        0.0   \n",
       "...                    ...                    ...                        ...   \n",
       "8676                   1.0                    1.0                        0.0   \n",
       "8677                   1.0                    1.0                        0.0   \n",
       "8678                   1.0                    1.0                        0.0   \n",
       "8679                   1.0                    1.0                        0.0   \n",
       "8680                   1.0                    1.0                        0.0   \n",
       "\n",
       "      open_Sunday_Morning  open_Sunday_Midday  open_Sunday_Evening  \n",
       "0                     0.0                 1.0                  1.0  \n",
       "1                     0.0                 1.0                  1.0  \n",
       "2                     0.0                 1.0                  1.0  \n",
       "3                     0.0                 1.0                  1.0  \n",
       "4                     1.0                 1.0                  1.0  \n",
       "...                   ...                 ...                  ...  \n",
       "8676                  0.0                 1.0                  1.0  \n",
       "8677                  0.0                 1.0                  1.0  \n",
       "8678                  0.0                 1.0                  1.0  \n",
       "8679                  0.0                 0.0                  0.0  \n",
       "8680                  0.0                 1.0                  1.0  \n",
       "\n",
       "[8681 rows x 229 columns]"
      ]
     },
     "execution_count": 70,
     "metadata": {},
     "output_type": "execute_result"
    }
   ],
   "source": [
    "Resturants_normalized=(Resturants-Resturants.min())/(Resturants.max()-Resturants.min())\n",
    "Resturants_normalized"
   ]
  },
  {
   "cell_type": "markdown",
   "metadata": {},
   "source": [
    "## Defining training and test sets"
   ]
  },
  {
   "cell_type": "markdown",
   "metadata": {},
   "source": [
    "Before the data set is divided, the target value is seperated from the rest of the attributes. As the overall goal is to be able to determine whether a resturant is closed, the target is created based on the attribute *is_open*, which is transformed into *is_closed*."
   ]
  },
  {
   "cell_type": "code",
   "execution_count": 71,
   "metadata": {},
   "outputs": [],
   "source": [
    "isClosed=Resturants_normalized.is_open.apply(lambda l: 0 if l==1 else 1)\n",
    "Resturants_normalized=Resturants_normalized.drop(['is_open'],axis=1)"
   ]
  },
  {
   "cell_type": "code",
   "execution_count": 72,
   "metadata": {},
   "outputs": [],
   "source": [
    "from sklearn.model_selection import train_test_split\n",
    "X_train, X_test, y_train, y_test = train_test_split(Resturants_normalized, isClosed, test_size=0.2, random_state=42)"
   ]
  },
  {
   "cell_type": "markdown",
   "metadata": {},
   "source": [
    "The test set is defined to contain 20 per cent of the available data."
   ]
  },
  {
   "cell_type": "code",
   "execution_count": 73,
   "metadata": {},
   "outputs": [
    {
     "name": "stdout",
     "output_type": "stream",
     "text": [
      "Number of train samples: 6944\n",
      "Number of test samples: 1737\n"
     ]
    }
   ],
   "source": [
    "print(\"Number of train samples: {}\".format(len(y_train)))\n",
    "print(\"Number of test samples: {}\".format(len(y_test)))"
   ]
  },
  {
   "cell_type": "markdown",
   "metadata": {},
   "source": [
    "## Predicting if a resturant close"
   ]
  },
  {
   "cell_type": "markdown",
   "metadata": {},
   "source": [
    "To predict which resturants close, we build a classifyer, predicting whether or not a business is closed or open."
   ]
  },
  {
   "cell_type": "markdown",
   "metadata": {},
   "source": [
    "### Baseline"
   ]
  },
  {
   "cell_type": "markdown",
   "metadata": {},
   "source": [
    "To be able to measure the performance of the classifiers, a basline model is constructed. The following basline model, uses random selection to classify each case"
   ]
  },
  {
   "cell_type": "code",
   "execution_count": 74,
   "metadata": {},
   "outputs": [],
   "source": [
    "from sklearn.dummy import DummyClassifier\n",
    "from sklearn.metrics import recall_score, accuracy_score, precision_score, f1_score"
   ]
  },
  {
   "cell_type": "code",
   "execution_count": 75,
   "metadata": {},
   "outputs": [
    {
     "name": "stdout",
     "output_type": "stream",
     "text": [
      "Basline\n",
      "---------------------------------------\n",
      "Accuracy: 0.4985607369027058\n",
      "Recall: 0.4976671850699845\n",
      "Precision: 0.3686635944700461\n",
      "F1-score: 0.42356055592322966\n"
     ]
    }
   ],
   "source": [
    "BaselineClf = DummyClassifier(strategy=\"uniform\") # using random classification\n",
    "BaselineClf.fit(X_train,y_train)\n",
    "baselinePred=BaselineClf.predict(X_test)\n",
    "print(\"Basline\")\n",
    "print(\"---------------------------------------\")\n",
    "print(\"Accuracy: {}\".format(accuracy_score(y_test,baselinePred)))\n",
    "print(\"Recall: {}\".format(recall_score(y_test,baselinePred)))\n",
    "print(\"Precision: {}\".format(precision_score(y_test,baselinePred)))\n",
    "print(\"F1-score: {}\".format(f1_score(y_test,baselinePred)))"
   ]
  },
  {
   "cell_type": "markdown",
   "metadata": {},
   "source": [
    "As expected the baseline have an accuracy colse to 50%."
   ]
  },
  {
   "cell_type": "markdown",
   "metadata": {},
   "source": [
    "### Logistic regression"
   ]
  },
  {
   "cell_type": "markdown",
   "metadata": {},
   "source": [
    "For the model to be useful, it is important that interpretablety is high. As the first alternative to the basline model, logistic regression is therefore choosen."
   ]
  },
  {
   "cell_type": "code",
   "execution_count": 76,
   "metadata": {},
   "outputs": [],
   "source": [
    "from sklearn.linear_model import LogisticRegression"
   ]
  },
  {
   "cell_type": "code",
   "execution_count": 77,
   "metadata": {},
   "outputs": [
    {
     "name": "stdout",
     "output_type": "stream",
     "text": [
      "Logistic regression classifer:\n",
      "---------------------------------------\n",
      "Accuracy: 0.7432354634427173\n",
      "Recall: 0.5583203732503889\n",
      "Precision: 0.6890595009596929\n",
      "F1-score: 0.6168384879725086\n"
     ]
    }
   ],
   "source": [
    "LogisticRegressionClf = LogisticRegression(solver='liblinear') #liblinear, the size of the data set is small enough that the memory saving default is not neccessary. By not limiting the memory convergences is reach with a lower number of itterations.\n",
    "LogisticRegressionClf.fit(X_train,y_train)\n",
    "LRPred=LogisticRegressionClf.predict(X_test)\n",
    "print(\"Logistic regression classifer:\")\n",
    "print(\"---------------------------------------\")\n",
    "print(\"Accuracy: {}\".format(accuracy_score(y_test,LRPred)))\n",
    "print(\"Recall: {}\".format(recall_score(y_test,LRPred)))\n",
    "print(\"Precision: {}\".format(precision_score(y_test,LRPred)))\n",
    "print(\"F1-score: {}\".format(f1_score(y_test,LRPred)))"
   ]
  },
  {
   "cell_type": "code",
   "execution_count": 78,
   "metadata": {},
   "outputs": [
    {
     "data": {
      "text/plain": [
       "(1, 228)"
      ]
     },
     "execution_count": 78,
     "metadata": {},
     "output_type": "execute_result"
    }
   ],
   "source": [
    "LogisticRegressionClf.coef_.shape"
   ]
  },
  {
   "cell_type": "code",
   "execution_count": 79,
   "metadata": {},
   "outputs": [
    {
     "data": {
      "text/plain": [
       "(6944, 228)"
      ]
     },
     "execution_count": 79,
     "metadata": {},
     "output_type": "execute_result"
    }
   ],
   "source": [
    "X_train.shape"
   ]
  },
  {
   "cell_type": "markdown",
   "metadata": {},
   "source": [
    "As expected the classifier based on logistic regression performs better than basliine model with an accuracy of just over 74%."
   ]
  },
  {
   "cell_type": "markdown",
   "metadata": {},
   "source": [
    "### Decision tree"
   ]
  },
  {
   "cell_type": "markdown",
   "metadata": {},
   "source": [
    "The tuning of the hyper parameters are based on the following article:<br>\n",
    "Mithrakumar, M. (11.11.2019)*How to tune a Decision Tree*. Towards data science:https://towardsdatascience.com/how-to-tune-a-decision-tree-f03721801680. visited 17.5.2020."
   ]
  },
  {
   "cell_type": "markdown",
   "metadata": {},
   "source": [
    "As a next possible approach a decision tree is used, again allowing easy interpretation of the model.<br>\n",
    "Decisions trees have a number of parameters which can be adjuste. To do this a validation set is defined, constisting of 20% of the training data."
   ]
  },
  {
   "cell_type": "code",
   "execution_count": 80,
   "metadata": {},
   "outputs": [
    {
     "name": "stdout",
     "output_type": "stream",
     "text": [
      "Number of train samples: 5555\n",
      "Number of validation samples: 1389\n"
     ]
    }
   ],
   "source": [
    "X_train_tree, X_valid, y_train_tree, y_valid = train_test_split(X_train, y_train, test_size=0.2, random_state=43)\n",
    "print(\"Number of train samples: {}\".format(len(y_train_tree)))\n",
    "print(\"Number of validation samples: {}\".format(len(y_valid)))"
   ]
  },
  {
   "cell_type": "code",
   "execution_count": 81,
   "metadata": {},
   "outputs": [],
   "source": [
    "from sklearn.tree import DecisionTreeClassifier"
   ]
  },
  {
   "cell_type": "code",
   "execution_count": 82,
   "metadata": {},
   "outputs": [
    {
     "name": "stdout",
     "output_type": "stream",
     "text": [
      "Decision tree classifer 1:\n",
      "---------------------------------------\n",
      "Validation:\n",
      "Accuracy: 0.7141828653707704\n",
      "Recall: 0.587426326129666\n",
      "Precision: 0.6152263374485597\n",
      "F1-score: 0.6010050251256283\n",
      "\n",
      "Train:\n",
      "Accuracy: 0.9994599459945994\n",
      "Recall: 0.9990314769975787\n",
      "Precision: 0.999515503875969\n",
      "F1-score: 0.9992734318236861\n"
     ]
    }
   ],
   "source": [
    "TreeClf1=DecisionTreeClassifier()\n",
    "TreeClf1.fit(X_train_tree,y_train_tree)\n",
    "Tree1pred=TreeClf1.predict(X_valid)\n",
    "Tree1pred_train=TreeClf1.predict(X_train_tree)\n",
    "print(\"Decision tree classifer 1:\")\n",
    "print(\"---------------------------------------\")\n",
    "print(\"Validation:\")\n",
    "print(\"Accuracy: {}\".format(accuracy_score(y_valid,Tree1pred)))\n",
    "print(\"Recall: {}\".format(recall_score(y_valid,Tree1pred)))\n",
    "print(\"Precision: {}\".format(precision_score(y_valid,Tree1pred)))\n",
    "print(\"F1-score: {}\".format(f1_score(y_valid,Tree1pred)))\n",
    "print()\n",
    "print(\"Train:\")\n",
    "print(\"Accuracy: {}\".format(accuracy_score(y_train_tree,Tree1pred_train)))\n",
    "print(\"Recall: {}\".format(recall_score(y_train_tree,Tree1pred_train)))\n",
    "print(\"Precision: {}\".format(precision_score(y_train_tree,Tree1pred_train)))\n",
    "print(\"F1-score: {}\".format(f1_score(y_train_tree,Tree1pred_train)))"
   ]
  },
  {
   "cell_type": "markdown",
   "metadata": {},
   "source": [
    "We see that both in terms of the accuracy and the F1-score the tree-based classifier perform wors than the model based on logistic regression. When taking a look at the performance on the traing set it self, it appear that the model is overfitting. To address this issue the the minimum number of samples allowed in leaft of the three is raised from 1 to 5."
   ]
  },
  {
   "cell_type": "code",
   "execution_count": 83,
   "metadata": {},
   "outputs": [
    {
     "name": "stdout",
     "output_type": "stream",
     "text": [
      "Decision tree classifer 2:\n",
      "---------------------------------------\n",
      "Validation:\n",
      "Accuracy: 0.7350611951043916\n",
      "Recall: 0.5854616895874263\n",
      "Precision: 0.654945054945055\n",
      "F1-score: 0.6182572614107884\n",
      "\n",
      "Train:\n",
      "Accuracy: 0.8586858685868587\n",
      "Recall: 0.7549636803874092\n",
      "Precision: 0.8482045701849836\n",
      "F1-score: 0.7988726620548297\n"
     ]
    }
   ],
   "source": [
    "TreeClf2=DecisionTreeClassifier(min_samples_leaf=5)\n",
    "TreeClf2.fit(X_train_tree,y_train_tree)\n",
    "Tree2pred=TreeClf2.predict(X_valid)\n",
    "Tree2pred_train=TreeClf2.predict(X_train_tree)\n",
    "print(\"Decision tree classifer 2:\")\n",
    "print(\"---------------------------------------\")\n",
    "print(\"Validation:\")\n",
    "print(\"Accuracy: {}\".format(accuracy_score(y_valid,Tree2pred)))\n",
    "print(\"Recall: {}\".format(recall_score(y_valid,Tree2pred)))\n",
    "print(\"Precision: {}\".format(precision_score(y_valid,Tree2pred)))\n",
    "print(\"F1-score: {}\".format(f1_score(y_valid,Tree2pred)))\n",
    "print()\n",
    "print(\"Train:\")\n",
    "print(\"Accuracy: {}\".format(accuracy_score(y_train_tree,Tree2pred_train)))\n",
    "print(\"Recall: {}\".format(recall_score(y_train_tree,Tree2pred_train)))\n",
    "print(\"Precision: {}\".format(precision_score(y_train_tree,Tree2pred_train)))\n",
    "print(\"F1-score: {}\".format(f1_score(y_train_tree,Tree2pred_train)))"
   ]
  },
  {
   "cell_type": "code",
   "execution_count": 84,
   "metadata": {},
   "outputs": [
    {
     "name": "stdout",
     "output_type": "stream",
     "text": [
      "Depth of decision tree 2 is 24.\n"
     ]
    }
   ],
   "source": [
    "print(\"Depth of decision tree 2 is {}.\".format(TreeClf2.get_depth()))"
   ]
  },
  {
   "cell_type": "markdown",
   "metadata": {},
   "source": [
    "The smaller difference between training and test scores, indicates that the increase in the minimum number of samples required in leaf nodes, have helped to decress overfitting. However there is still room for improvment. As the next step we try to increase the minimum decreas in impurity that must be obtained for a split in the tree to be allowed. The default value is zero and is here set to 0.001"
   ]
  },
  {
   "cell_type": "code",
   "execution_count": 85,
   "metadata": {},
   "outputs": [
    {
     "name": "stdout",
     "output_type": "stream",
     "text": [
      "Decision tree classifer 3:\n",
      "---------------------------------------\n",
      "Validation:\n",
      "Accuracy: 0.761699064074874\n",
      "Recall: 0.6051080550098232\n",
      "Precision: 0.7031963470319634\n",
      "F1-score: 0.6504751847940866\n",
      "\n",
      "Train:\n",
      "Accuracy: 0.7634563456345634\n",
      "Recall: 0.6329297820823244\n",
      "Precision: 0.701556629092861\n",
      "F1-score: 0.665478615071283\n"
     ]
    }
   ],
   "source": [
    "TreeClf3=DecisionTreeClassifier(min_samples_leaf=5,min_impurity_decrease=0.001)\n",
    "TreeClf3.fit(X_train_tree,y_train_tree)\n",
    "Tree3pred=TreeClf3.predict(X_valid)\n",
    "Tree3pred_train=TreeClf3.predict(X_train_tree)\n",
    "print(\"Decision tree classifer 3:\")\n",
    "print(\"---------------------------------------\")\n",
    "print(\"Validation:\")\n",
    "print(\"Accuracy: {}\".format(accuracy_score(y_valid,Tree3pred)))\n",
    "print(\"Recall: {}\".format(recall_score(y_valid,Tree3pred)))\n",
    "print(\"Precision: {}\".format(precision_score(y_valid,Tree3pred)))\n",
    "print(\"F1-score: {}\".format(f1_score(y_valid,Tree3pred)))\n",
    "print()\n",
    "print(\"Train:\")\n",
    "print(\"Accuracy: {}\".format(accuracy_score(y_train_tree,Tree3pred_train)))\n",
    "print(\"Recall: {}\".format(recall_score(y_train_tree,Tree3pred_train)))\n",
    "print(\"Precision: {}\".format(precision_score(y_train_tree,Tree3pred_train)))\n",
    "print(\"F1-score: {}\".format(f1_score(y_train_tree,Tree3pred_train)))"
   ]
  },
  {
   "cell_type": "markdown",
   "metadata": {},
   "source": [
    "With the training and test error being very close the model appear to generalize well. The third version overall performe the best on the validation set, and is therefore now tested on the test set."
   ]
  },
  {
   "cell_type": "code",
   "execution_count": 86,
   "metadata": {},
   "outputs": [
    {
     "name": "stdout",
     "output_type": "stream",
     "text": [
      "Decision tree classifer:\n",
      "---------------------------------------\n",
      "Test:\n",
      "Accuracy: 0.7305699481865285\n",
      "Recall: 0.5769828926905132\n",
      "Precision: 0.654320987654321\n",
      "F1-score: 0.6132231404958677\n"
     ]
    }
   ],
   "source": [
    "Tree3pred=TreeClf3.predict(X_test)\n",
    "print(\"Decision tree classifer:\")\n",
    "print(\"---------------------------------------\")\n",
    "print(\"Test:\")\n",
    "print(\"Accuracy: {}\".format(accuracy_score(y_test,Tree3pred)))\n",
    "print(\"Recall: {}\".format(recall_score(y_test,Tree3pred)))\n",
    "print(\"Precision: {}\".format(precision_score(y_test,Tree3pred)))\n",
    "print(\"F1-score: {}\".format(f1_score(y_test,Tree3pred)))"
   ]
  },
  {
   "cell_type": "markdown",
   "metadata": {},
   "source": [
    "The tree based classifier clearly outperforms the basline model. However the decision tree classifier does not perform better than the logistic regression classifier, measured on any of the performance matrixes. When continuing the work with the classefier the focus will therefore be on the logistic regression classifier."
   ]
  },
  {
   "cell_type": "markdown",
   "metadata": {},
   "source": [
    "## Interpreting factors influencing prediction"
   ]
  },
  {
   "cell_type": "markdown",
   "metadata": {},
   "source": [
    "Having constructed a succesful classifer predicting if a resturant is closed or open, we will in this section focus on what influences the classifier to gain a understanding of what factors are the most important to be aware of, to avoid a resturant close.<br>\n",
    "To do this we start by calculating the odds ratio based on the cofficients of the logistic regression classifier."
   ]
  },
  {
   "cell_type": "code",
   "execution_count": 87,
   "metadata": {},
   "outputs": [
    {
     "data": {
      "text/html": [
       "<div>\n",
       "<style scoped>\n",
       "    .dataframe tbody tr th:only-of-type {\n",
       "        vertical-align: middle;\n",
       "    }\n",
       "\n",
       "    .dataframe tbody tr th {\n",
       "        vertical-align: top;\n",
       "    }\n",
       "\n",
       "    .dataframe thead th {\n",
       "        text-align: right;\n",
       "    }\n",
       "</style>\n",
       "<table border=\"1\" class=\"dataframe\">\n",
       "  <thead>\n",
       "    <tr style=\"text-align: right;\">\n",
       "      <th></th>\n",
       "      <th>attribute</th>\n",
       "      <th>odds ratio</th>\n",
       "      <th>weight</th>\n",
       "    </tr>\n",
       "  </thead>\n",
       "  <tbody>\n",
       "    <tr>\n",
       "      <td>0</td>\n",
       "      <td>stars</td>\n",
       "      <td>0.782288</td>\n",
       "      <td>-0.245533</td>\n",
       "    </tr>\n",
       "    <tr>\n",
       "      <td>1</td>\n",
       "      <td>review_count</td>\n",
       "      <td>0.000149</td>\n",
       "      <td>-8.809615</td>\n",
       "    </tr>\n",
       "    <tr>\n",
       "      <td>2</td>\n",
       "      <td>RestaurantsReservations</td>\n",
       "      <td>1.412855</td>\n",
       "      <td>0.345612</td>\n",
       "    </tr>\n",
       "    <tr>\n",
       "      <td>3</td>\n",
       "      <td>GoodForKids</td>\n",
       "      <td>0.977803</td>\n",
       "      <td>-0.022447</td>\n",
       "    </tr>\n",
       "    <tr>\n",
       "      <td>4</td>\n",
       "      <td>RestaurantsGoodForGroups</td>\n",
       "      <td>1.439600</td>\n",
       "      <td>0.364365</td>\n",
       "    </tr>\n",
       "    <tr>\n",
       "      <td>...</td>\n",
       "      <td>...</td>\n",
       "      <td>...</td>\n",
       "      <td>...</td>\n",
       "    </tr>\n",
       "    <tr>\n",
       "      <td>223</td>\n",
       "      <td>open_Saturday_Evening</td>\n",
       "      <td>0.656462</td>\n",
       "      <td>-0.420890</td>\n",
       "    </tr>\n",
       "    <tr>\n",
       "      <td>224</td>\n",
       "      <td>open_Sunday_Early Morning</td>\n",
       "      <td>1.586239</td>\n",
       "      <td>0.461366</td>\n",
       "    </tr>\n",
       "    <tr>\n",
       "      <td>225</td>\n",
       "      <td>open_Sunday_Morning</td>\n",
       "      <td>1.049455</td>\n",
       "      <td>0.048271</td>\n",
       "    </tr>\n",
       "    <tr>\n",
       "      <td>226</td>\n",
       "      <td>open_Sunday_Midday</td>\n",
       "      <td>1.149704</td>\n",
       "      <td>0.139505</td>\n",
       "    </tr>\n",
       "    <tr>\n",
       "      <td>227</td>\n",
       "      <td>open_Sunday_Evening</td>\n",
       "      <td>0.792902</td>\n",
       "      <td>-0.232055</td>\n",
       "    </tr>\n",
       "  </tbody>\n",
       "</table>\n",
       "<p>228 rows × 3 columns</p>\n",
       "</div>"
      ],
      "text/plain": [
       "                     attribute  odds ratio    weight\n",
       "0                        stars    0.782288 -0.245533\n",
       "1                 review_count    0.000149 -8.809615\n",
       "2      RestaurantsReservations    1.412855  0.345612\n",
       "3                  GoodForKids    0.977803 -0.022447\n",
       "4     RestaurantsGoodForGroups    1.439600  0.364365\n",
       "..                         ...         ...       ...\n",
       "223      open_Saturday_Evening    0.656462 -0.420890\n",
       "224  open_Sunday_Early Morning    1.586239  0.461366\n",
       "225        open_Sunday_Morning    1.049455  0.048271\n",
       "226         open_Sunday_Midday    1.149704  0.139505\n",
       "227        open_Sunday_Evening    0.792902 -0.232055\n",
       "\n",
       "[228 rows x 3 columns]"
      ]
     },
     "execution_count": 87,
     "metadata": {},
     "output_type": "execute_result"
    }
   ],
   "source": [
    "InterpretationOverview = pd.concat([pd.DataFrame(X_train.columns),pd.DataFrame(np.transpose(np.exp(LogisticRegressionClf.coef_)))], axis = 1)\n",
    "InterpretationOverview=pd.concat([InterpretationOverview,pd.DataFrame(np.transpose(LogisticRegressionClf.coef_))],axis=1)\n",
    "InterpretationOverview.columns=['attribute','odds ratio','weight']\n",
    "InterpretationOverview"
   ]
  },
  {
   "cell_type": "markdown",
   "metadata": {},
   "source": [
    "With 228 different attributes it is not easy to get an immediate overview. We therefore start by ordering the attributed based on the odds ratio values."
   ]
  },
  {
   "cell_type": "code",
   "execution_count": 88,
   "metadata": {},
   "outputs": [
    {
     "data": {
      "text/html": [
       "<div>\n",
       "<style scoped>\n",
       "    .dataframe tbody tr th:only-of-type {\n",
       "        vertical-align: middle;\n",
       "    }\n",
       "\n",
       "    .dataframe tbody tr th {\n",
       "        vertical-align: top;\n",
       "    }\n",
       "\n",
       "    .dataframe thead th {\n",
       "        text-align: right;\n",
       "    }\n",
       "</style>\n",
       "<table border=\"1\" class=\"dataframe\">\n",
       "  <thead>\n",
       "    <tr style=\"text-align: right;\">\n",
       "      <th></th>\n",
       "      <th>attribute</th>\n",
       "      <th>odds ratio</th>\n",
       "      <th>weight</th>\n",
       "    </tr>\n",
       "  </thead>\n",
       "  <tbody>\n",
       "    <tr>\n",
       "      <td>36</td>\n",
       "      <td>Attire_formal</td>\n",
       "      <td>4.961547</td>\n",
       "      <td>1.601718</td>\n",
       "    </tr>\n",
       "    <tr>\n",
       "      <td>34</td>\n",
       "      <td>Attire_casual</td>\n",
       "      <td>3.775848</td>\n",
       "      <td>1.328625</td>\n",
       "    </tr>\n",
       "    <tr>\n",
       "      <td>17</td>\n",
       "      <td>divey</td>\n",
       "      <td>3.180984</td>\n",
       "      <td>1.157191</td>\n",
       "    </tr>\n",
       "    <tr>\n",
       "      <td>58</td>\n",
       "      <td>international</td>\n",
       "      <td>2.842133</td>\n",
       "      <td>1.044555</td>\n",
       "    </tr>\n",
       "    <tr>\n",
       "      <td>140</td>\n",
       "      <td>music venues</td>\n",
       "      <td>2.780455</td>\n",
       "      <td>1.022615</td>\n",
       "    </tr>\n",
       "    <tr>\n",
       "      <td>...</td>\n",
       "      <td>...</td>\n",
       "      <td>...</td>\n",
       "      <td>...</td>\n",
       "    </tr>\n",
       "    <tr>\n",
       "      <td>171</td>\n",
       "      <td>breweries</td>\n",
       "      <td>0.267735</td>\n",
       "      <td>-1.317758</td>\n",
       "    </tr>\n",
       "    <tr>\n",
       "      <td>159</td>\n",
       "      <td>donuts</td>\n",
       "      <td>0.214845</td>\n",
       "      <td>-1.537836</td>\n",
       "    </tr>\n",
       "    <tr>\n",
       "      <td>8</td>\n",
       "      <td>HasTV</td>\n",
       "      <td>0.196224</td>\n",
       "      <td>-1.628500</td>\n",
       "    </tr>\n",
       "    <tr>\n",
       "      <td>14</td>\n",
       "      <td>hipster</td>\n",
       "      <td>0.108494</td>\n",
       "      <td>-2.221064</td>\n",
       "    </tr>\n",
       "    <tr>\n",
       "      <td>1</td>\n",
       "      <td>review_count</td>\n",
       "      <td>0.000149</td>\n",
       "      <td>-8.809615</td>\n",
       "    </tr>\n",
       "  </tbody>\n",
       "</table>\n",
       "<p>228 rows × 3 columns</p>\n",
       "</div>"
      ],
      "text/plain": [
       "         attribute  odds ratio    weight\n",
       "36   Attire_formal    4.961547  1.601718\n",
       "34   Attire_casual    3.775848  1.328625\n",
       "17           divey    3.180984  1.157191\n",
       "58   international    2.842133  1.044555\n",
       "140   music venues    2.780455  1.022615\n",
       "..             ...         ...       ...\n",
       "171      breweries    0.267735 -1.317758\n",
       "159         donuts    0.214845 -1.537836\n",
       "8            HasTV    0.196224 -1.628500\n",
       "14         hipster    0.108494 -2.221064\n",
       "1     review_count    0.000149 -8.809615\n",
       "\n",
       "[228 rows x 3 columns]"
      ]
     },
     "execution_count": 88,
     "metadata": {},
     "output_type": "execute_result"
    }
   ],
   "source": [
    "InterpretationOverview.sort_values(by=['odds ratio'],ascending=False)"
   ]
  },
  {
   "cell_type": "markdown",
   "metadata": {},
   "source": [
    "We start by focusing on the five attributes with the highest odds ratio scores, as seen in the above tabel.<br>\n",
    "\n",
    "**Attire_formal:** Formal attire has the highest odds ratio value with 4.96. This means that when all other attributes of a resturant stays the same the odds of a resturant closing increase with a factor of 4.96 when formal attrie is required.<br>\n",
    "**Attire_casual:** The second highest odds ratio is found for casual attire. For resturants with a casual attire the odds of closing is 3.78 higher compared with resturants where all other attributes are the same.<br>\n",
    "**divey:** For resturants that are considered divey[1], the ratio for closing is 3.18 times higher, than for resturants where all other factors are the same.<br>\n",
    "**International:** International resturants have 2.84 times higher odds for closing, in comparison to resturants where all other attributes remain the same.<br>\n",
    "**music venues:** For resturants that are also music venues, the odds of closing are 2.78 times higher.\n",
    "\n",
    "At the other end of the scale, we look at the five attributes with the lowest odds ratio.<br>\n",
    "\n",
    "**review count:** with a very low odds ratio, increasing the reviewcountlowers the odds of a resturant closing. This indicate that resturants which have a higher amount of interaction are less likly to close.<br>\n",
    "**hipster:** With an odds ratio of 0.11, resturants which are considered to have a hipster atmosphere has lower odd for closing. The odds of closing is decressed by a factor of 0.11 compared to resturants where all other attributes are the same.<br>\n",
    "**HasTV:** Having a TV is the attribute with the thrid lowest odds ratio at 0.2. This again indicates that having a TV decrease the odds of a resturant closing.<br>\n",
    "**donuts:** With an odds ratio of 0.21 it is indicated that resturants serving donuts have lower odds of closing, than similar resturants.<br>\n",
    "**breweries:** At last breweries have odds ratio of 0.26. This indicate that the odds of closing is lowered by a factor of 0.26 for breweries, compared to resturants where all other features are the same.<br>\n",
    "\n",
    "\n",
    "[1] Snesdude(September 04, 2014).*divey*. Urban dictionary: https://www.urbandictionary.com/define.php?term=divey visited 17.5.2020."
   ]
  },
  {
   "cell_type": "markdown",
   "metadata": {},
   "source": [
    "While it is cleare that the condition for all other factors to remain the same, makes the precis effect of resturant attributes, on the risk of a resturant having to close, it does provide some general indications of which factors are important. Above we only took at look at the five attributes that if all things equal, would lead to the biggest increas in the odds of a resturant closing, as well as the attributes that lower the odds the most. However a lot of attributes are still available, and to understand there influence better, we here take a look at the different attributes focusing on the different categories of attributes."
   ]
  },
  {
   "cell_type": "markdown",
   "metadata": {},
   "source": [
    "### Opening hours"
   ]
  },
  {
   "cell_type": "markdown",
   "metadata": {},
   "source": [
    "When focusing on the opening hours of the resturants there is no clear overall pattern in their influence on on whether a resturant close or not. However a few time periods stand out. With a high odds ratio of 2.28 resturant which are open early friday morning appear to be more likly to end up closing than resturants where all other factors stay the same. At the other end of the scale being open at early morning on Monday and Tuesday appear to lower the odds of a resturant having to close with odds ratios of 0.46 and 0.49 respectivly."
   ]
  },
  {
   "cell_type": "code",
   "execution_count": 89,
   "metadata": {
    "scrolled": true
   },
   "outputs": [
    {
     "data": {
      "text/html": [
       "<div>\n",
       "<style scoped>\n",
       "    .dataframe tbody tr th:only-of-type {\n",
       "        vertical-align: middle;\n",
       "    }\n",
       "\n",
       "    .dataframe tbody tr th {\n",
       "        vertical-align: top;\n",
       "    }\n",
       "\n",
       "    .dataframe thead th {\n",
       "        text-align: right;\n",
       "    }\n",
       "</style>\n",
       "<table border=\"1\" class=\"dataframe\">\n",
       "  <thead>\n",
       "    <tr style=\"text-align: right;\">\n",
       "      <th></th>\n",
       "      <th>attribute</th>\n",
       "      <th>odds ratio</th>\n",
       "      <th>weight</th>\n",
       "    </tr>\n",
       "  </thead>\n",
       "  <tbody>\n",
       "    <tr>\n",
       "      <td>200</td>\n",
       "      <td>open_Monday_Early Morning</td>\n",
       "      <td>0.457458</td>\n",
       "      <td>-0.782071</td>\n",
       "    </tr>\n",
       "    <tr>\n",
       "      <td>201</td>\n",
       "      <td>open_Monday_Morning</td>\n",
       "      <td>0.659345</td>\n",
       "      <td>-0.416509</td>\n",
       "    </tr>\n",
       "    <tr>\n",
       "      <td>202</td>\n",
       "      <td>open_Monday_Midday</td>\n",
       "      <td>1.167715</td>\n",
       "      <td>0.155049</td>\n",
       "    </tr>\n",
       "    <tr>\n",
       "      <td>203</td>\n",
       "      <td>open_Monday_Evening</td>\n",
       "      <td>0.803101</td>\n",
       "      <td>-0.219275</td>\n",
       "    </tr>\n",
       "    <tr>\n",
       "      <td>204</td>\n",
       "      <td>open_Tuesday_Early Morning</td>\n",
       "      <td>0.485043</td>\n",
       "      <td>-0.723517</td>\n",
       "    </tr>\n",
       "    <tr>\n",
       "      <td>205</td>\n",
       "      <td>open_Tuesday_Morning</td>\n",
       "      <td>0.905623</td>\n",
       "      <td>-0.099132</td>\n",
       "    </tr>\n",
       "    <tr>\n",
       "      <td>206</td>\n",
       "      <td>open_Tuesday_Midday</td>\n",
       "      <td>1.228025</td>\n",
       "      <td>0.205407</td>\n",
       "    </tr>\n",
       "    <tr>\n",
       "      <td>207</td>\n",
       "      <td>open_Tuesday_Evening</td>\n",
       "      <td>0.979642</td>\n",
       "      <td>-0.020568</td>\n",
       "    </tr>\n",
       "    <tr>\n",
       "      <td>208</td>\n",
       "      <td>open_Wednesday_Early Morning</td>\n",
       "      <td>0.526661</td>\n",
       "      <td>-0.641198</td>\n",
       "    </tr>\n",
       "    <tr>\n",
       "      <td>209</td>\n",
       "      <td>open_Wednesday_Morning</td>\n",
       "      <td>1.365971</td>\n",
       "      <td>0.311866</td>\n",
       "    </tr>\n",
       "    <tr>\n",
       "      <td>210</td>\n",
       "      <td>open_Wednesday_Midday</td>\n",
       "      <td>0.721280</td>\n",
       "      <td>-0.326728</td>\n",
       "    </tr>\n",
       "    <tr>\n",
       "      <td>211</td>\n",
       "      <td>open_Wednesday_Evening</td>\n",
       "      <td>1.573104</td>\n",
       "      <td>0.453051</td>\n",
       "    </tr>\n",
       "    <tr>\n",
       "      <td>212</td>\n",
       "      <td>open_Thursday_Early Morning</td>\n",
       "      <td>0.999997</td>\n",
       "      <td>-0.000003</td>\n",
       "    </tr>\n",
       "    <tr>\n",
       "      <td>213</td>\n",
       "      <td>open_Thursday_Morning</td>\n",
       "      <td>0.872666</td>\n",
       "      <td>-0.136202</td>\n",
       "    </tr>\n",
       "    <tr>\n",
       "      <td>214</td>\n",
       "      <td>open_Thursday_Midday</td>\n",
       "      <td>1.050571</td>\n",
       "      <td>0.049333</td>\n",
       "    </tr>\n",
       "    <tr>\n",
       "      <td>215</td>\n",
       "      <td>open_Thursday_Evening</td>\n",
       "      <td>1.356609</td>\n",
       "      <td>0.304988</td>\n",
       "    </tr>\n",
       "    <tr>\n",
       "      <td>216</td>\n",
       "      <td>open_Friday_Early Morning</td>\n",
       "      <td>2.282046</td>\n",
       "      <td>0.825073</td>\n",
       "    </tr>\n",
       "    <tr>\n",
       "      <td>217</td>\n",
       "      <td>open_Friday_Morning</td>\n",
       "      <td>0.981746</td>\n",
       "      <td>-0.018423</td>\n",
       "    </tr>\n",
       "    <tr>\n",
       "      <td>218</td>\n",
       "      <td>open_Friday_Midday</td>\n",
       "      <td>0.939964</td>\n",
       "      <td>-0.061914</td>\n",
       "    </tr>\n",
       "    <tr>\n",
       "      <td>219</td>\n",
       "      <td>open_Friday_Evening</td>\n",
       "      <td>1.134355</td>\n",
       "      <td>0.126065</td>\n",
       "    </tr>\n",
       "    <tr>\n",
       "      <td>220</td>\n",
       "      <td>open_Saturday_Early Morning</td>\n",
       "      <td>1.094518</td>\n",
       "      <td>0.090314</td>\n",
       "    </tr>\n",
       "    <tr>\n",
       "      <td>221</td>\n",
       "      <td>open_Saturday_Morning</td>\n",
       "      <td>0.846100</td>\n",
       "      <td>-0.167118</td>\n",
       "    </tr>\n",
       "    <tr>\n",
       "      <td>222</td>\n",
       "      <td>open_Saturday_Midday</td>\n",
       "      <td>1.405135</td>\n",
       "      <td>0.340134</td>\n",
       "    </tr>\n",
       "    <tr>\n",
       "      <td>223</td>\n",
       "      <td>open_Saturday_Evening</td>\n",
       "      <td>0.656462</td>\n",
       "      <td>-0.420890</td>\n",
       "    </tr>\n",
       "    <tr>\n",
       "      <td>224</td>\n",
       "      <td>open_Sunday_Early Morning</td>\n",
       "      <td>1.586239</td>\n",
       "      <td>0.461366</td>\n",
       "    </tr>\n",
       "    <tr>\n",
       "      <td>225</td>\n",
       "      <td>open_Sunday_Morning</td>\n",
       "      <td>1.049455</td>\n",
       "      <td>0.048271</td>\n",
       "    </tr>\n",
       "    <tr>\n",
       "      <td>226</td>\n",
       "      <td>open_Sunday_Midday</td>\n",
       "      <td>1.149704</td>\n",
       "      <td>0.139505</td>\n",
       "    </tr>\n",
       "    <tr>\n",
       "      <td>227</td>\n",
       "      <td>open_Sunday_Evening</td>\n",
       "      <td>0.792902</td>\n",
       "      <td>-0.232055</td>\n",
       "    </tr>\n",
       "  </tbody>\n",
       "</table>\n",
       "</div>"
      ],
      "text/plain": [
       "                        attribute  odds ratio    weight\n",
       "200     open_Monday_Early Morning    0.457458 -0.782071\n",
       "201           open_Monday_Morning    0.659345 -0.416509\n",
       "202            open_Monday_Midday    1.167715  0.155049\n",
       "203           open_Monday_Evening    0.803101 -0.219275\n",
       "204    open_Tuesday_Early Morning    0.485043 -0.723517\n",
       "205          open_Tuesday_Morning    0.905623 -0.099132\n",
       "206           open_Tuesday_Midday    1.228025  0.205407\n",
       "207          open_Tuesday_Evening    0.979642 -0.020568\n",
       "208  open_Wednesday_Early Morning    0.526661 -0.641198\n",
       "209        open_Wednesday_Morning    1.365971  0.311866\n",
       "210         open_Wednesday_Midday    0.721280 -0.326728\n",
       "211        open_Wednesday_Evening    1.573104  0.453051\n",
       "212   open_Thursday_Early Morning    0.999997 -0.000003\n",
       "213         open_Thursday_Morning    0.872666 -0.136202\n",
       "214          open_Thursday_Midday    1.050571  0.049333\n",
       "215         open_Thursday_Evening    1.356609  0.304988\n",
       "216     open_Friday_Early Morning    2.282046  0.825073\n",
       "217           open_Friday_Morning    0.981746 -0.018423\n",
       "218            open_Friday_Midday    0.939964 -0.061914\n",
       "219           open_Friday_Evening    1.134355  0.126065\n",
       "220   open_Saturday_Early Morning    1.094518  0.090314\n",
       "221         open_Saturday_Morning    0.846100 -0.167118\n",
       "222          open_Saturday_Midday    1.405135  0.340134\n",
       "223         open_Saturday_Evening    0.656462 -0.420890\n",
       "224     open_Sunday_Early Morning    1.586239  0.461366\n",
       "225           open_Sunday_Morning    1.049455  0.048271\n",
       "226            open_Sunday_Midday    1.149704  0.139505\n",
       "227           open_Sunday_Evening    0.792902 -0.232055"
      ]
     },
     "execution_count": 89,
     "metadata": {},
     "output_type": "execute_result"
    }
   ],
   "source": [
    "InterpretationOverview[InterpretationOverview.attribute.str.contains(\"open_\")]"
   ]
  },
  {
   "cell_type": "markdown",
   "metadata": {},
   "source": [
    "### Attire"
   ]
  },
  {
   "cell_type": "markdown",
   "metadata": {},
   "source": [
    "The next category which we focus on is that off required attire for the resturants.<br>\n",
    "As could be observed earlier two of the three attire categories where among the attributes with one of the five highest odds ratio values. Here it can be observed that also resturants wit a dressy attire have a high odds ratio."
   ]
  },
  {
   "cell_type": "code",
   "execution_count": 90,
   "metadata": {},
   "outputs": [
    {
     "data": {
      "text/html": [
       "<div>\n",
       "<style scoped>\n",
       "    .dataframe tbody tr th:only-of-type {\n",
       "        vertical-align: middle;\n",
       "    }\n",
       "\n",
       "    .dataframe tbody tr th {\n",
       "        vertical-align: top;\n",
       "    }\n",
       "\n",
       "    .dataframe thead th {\n",
       "        text-align: right;\n",
       "    }\n",
       "</style>\n",
       "<table border=\"1\" class=\"dataframe\">\n",
       "  <thead>\n",
       "    <tr style=\"text-align: right;\">\n",
       "      <th></th>\n",
       "      <th>attribute</th>\n",
       "      <th>odds ratio</th>\n",
       "      <th>weight</th>\n",
       "    </tr>\n",
       "  </thead>\n",
       "  <tbody>\n",
       "    <tr>\n",
       "      <td>34</td>\n",
       "      <td>Attire_casual</td>\n",
       "      <td>3.775848</td>\n",
       "      <td>1.328625</td>\n",
       "    </tr>\n",
       "    <tr>\n",
       "      <td>35</td>\n",
       "      <td>Attire_dressy</td>\n",
       "      <td>2.366118</td>\n",
       "      <td>0.861250</td>\n",
       "    </tr>\n",
       "    <tr>\n",
       "      <td>36</td>\n",
       "      <td>Attire_formal</td>\n",
       "      <td>4.961547</td>\n",
       "      <td>1.601718</td>\n",
       "    </tr>\n",
       "  </tbody>\n",
       "</table>\n",
       "</div>"
      ],
      "text/plain": [
       "        attribute  odds ratio    weight\n",
       "34  Attire_casual    3.775848  1.328625\n",
       "35  Attire_dressy    2.366118  0.861250\n",
       "36  Attire_formal    4.961547  1.601718"
      ]
     },
     "execution_count": 90,
     "metadata": {},
     "output_type": "execute_result"
    }
   ],
   "source": [
    "InterpretationOverview=InterpretationOverview.drop(InterpretationOverview[InterpretationOverview.attribute.str.contains(\"open_\")].index)\n",
    "InterpretationOverview[InterpretationOverview.attribute.str.contains(\"Attire\")]"
   ]
  },
  {
   "cell_type": "markdown",
   "metadata": {},
   "source": [
    "### Ambiance"
   ]
  },
  {
   "cell_type": "code",
   "execution_count": 91,
   "metadata": {},
   "outputs": [
    {
     "data": {
      "text/html": [
       "<div>\n",
       "<style scoped>\n",
       "    .dataframe tbody tr th:only-of-type {\n",
       "        vertical-align: middle;\n",
       "    }\n",
       "\n",
       "    .dataframe tbody tr th {\n",
       "        vertical-align: top;\n",
       "    }\n",
       "\n",
       "    .dataframe thead th {\n",
       "        text-align: right;\n",
       "    }\n",
       "</style>\n",
       "<table border=\"1\" class=\"dataframe\">\n",
       "  <thead>\n",
       "    <tr style=\"text-align: right;\">\n",
       "      <th></th>\n",
       "      <th>attribute</th>\n",
       "      <th>odds ratio</th>\n",
       "      <th>weight</th>\n",
       "    </tr>\n",
       "  </thead>\n",
       "  <tbody>\n",
       "    <tr>\n",
       "      <td>11</td>\n",
       "      <td>intimate</td>\n",
       "      <td>1.248999</td>\n",
       "      <td>0.222342</td>\n",
       "    </tr>\n",
       "    <tr>\n",
       "      <td>12</td>\n",
       "      <td>upscale</td>\n",
       "      <td>0.863006</td>\n",
       "      <td>-0.147333</td>\n",
       "    </tr>\n",
       "    <tr>\n",
       "      <td>13</td>\n",
       "      <td>trendy</td>\n",
       "      <td>1.248999</td>\n",
       "      <td>0.222342</td>\n",
       "    </tr>\n",
       "    <tr>\n",
       "      <td>14</td>\n",
       "      <td>hipster</td>\n",
       "      <td>0.108494</td>\n",
       "      <td>-2.221064</td>\n",
       "    </tr>\n",
       "    <tr>\n",
       "      <td>15</td>\n",
       "      <td>touristy</td>\n",
       "      <td>1.248999</td>\n",
       "      <td>0.222342</td>\n",
       "    </tr>\n",
       "    <tr>\n",
       "      <td>16</td>\n",
       "      <td>romantic</td>\n",
       "      <td>1.248999</td>\n",
       "      <td>0.222342</td>\n",
       "    </tr>\n",
       "    <tr>\n",
       "      <td>17</td>\n",
       "      <td>divey</td>\n",
       "      <td>3.180984</td>\n",
       "      <td>1.157191</td>\n",
       "    </tr>\n",
       "    <tr>\n",
       "      <td>18</td>\n",
       "      <td>classy</td>\n",
       "      <td>1.248999</td>\n",
       "      <td>0.222342</td>\n",
       "    </tr>\n",
       "    <tr>\n",
       "      <td>19</td>\n",
       "      <td>casual</td>\n",
       "      <td>1.248999</td>\n",
       "      <td>0.222342</td>\n",
       "    </tr>\n",
       "  </tbody>\n",
       "</table>\n",
       "</div>"
      ],
      "text/plain": [
       "   attribute  odds ratio    weight\n",
       "11  intimate    1.248999  0.222342\n",
       "12   upscale    0.863006 -0.147333\n",
       "13    trendy    1.248999  0.222342\n",
       "14   hipster    0.108494 -2.221064\n",
       "15  touristy    1.248999  0.222342\n",
       "16  romantic    1.248999  0.222342\n",
       "17     divey    3.180984  1.157191\n",
       "18    classy    1.248999  0.222342\n",
       "19    casual    1.248999  0.222342"
      ]
     },
     "execution_count": 91,
     "metadata": {},
     "output_type": "execute_result"
    }
   ],
   "source": [
    "InterpretationOverview=InterpretationOverview.drop(InterpretationOverview[InterpretationOverview.attribute.str.contains(\"Attire\")].index)\n",
    "InterpretationOverview[InterpretationOverview.attribute.isin(['classy','upscale','trendy','hipster','romantic','intimate','divey','touristy','casual'])]"
   ]
  },
  {
   "cell_type": "markdown",
   "metadata": {},
   "source": [
    "### Parking"
   ]
  },
  {
   "cell_type": "code",
   "execution_count": 96,
   "metadata": {},
   "outputs": [
    {
     "data": {
      "text/html": [
       "<div>\n",
       "<style scoped>\n",
       "    .dataframe tbody tr th:only-of-type {\n",
       "        vertical-align: middle;\n",
       "    }\n",
       "\n",
       "    .dataframe tbody tr th {\n",
       "        vertical-align: top;\n",
       "    }\n",
       "\n",
       "    .dataframe thead th {\n",
       "        text-align: right;\n",
       "    }\n",
       "</style>\n",
       "<table border=\"1\" class=\"dataframe\">\n",
       "  <thead>\n",
       "    <tr style=\"text-align: right;\">\n",
       "      <th></th>\n",
       "      <th>attribute</th>\n",
       "      <th>odds ratio</th>\n",
       "      <th>weight</th>\n",
       "    </tr>\n",
       "  </thead>\n",
       "  <tbody>\n",
       "    <tr>\n",
       "      <td>9</td>\n",
       "      <td>BikeParking</td>\n",
       "      <td>0.505477</td>\n",
       "      <td>-0.682253</td>\n",
       "    </tr>\n",
       "    <tr>\n",
       "      <td>29</td>\n",
       "      <td>garage</td>\n",
       "      <td>1.037596</td>\n",
       "      <td>0.036907</td>\n",
       "    </tr>\n",
       "    <tr>\n",
       "      <td>30</td>\n",
       "      <td>valet</td>\n",
       "      <td>1.037596</td>\n",
       "      <td>0.036907</td>\n",
       "    </tr>\n",
       "    <tr>\n",
       "      <td>31</td>\n",
       "      <td>lot</td>\n",
       "      <td>1.037596</td>\n",
       "      <td>0.036907</td>\n",
       "    </tr>\n",
       "    <tr>\n",
       "      <td>32</td>\n",
       "      <td>street</td>\n",
       "      <td>1.037596</td>\n",
       "      <td>0.036907</td>\n",
       "    </tr>\n",
       "    <tr>\n",
       "      <td>33</td>\n",
       "      <td>validated</td>\n",
       "      <td>1.037596</td>\n",
       "      <td>0.036907</td>\n",
       "    </tr>\n",
       "  </tbody>\n",
       "</table>\n",
       "</div>"
      ],
      "text/plain": [
       "      attribute  odds ratio    weight\n",
       "9   BikeParking    0.505477 -0.682253\n",
       "29       garage    1.037596  0.036907\n",
       "30        valet    1.037596  0.036907\n",
       "31          lot    1.037596  0.036907\n",
       "32       street    1.037596  0.036907\n",
       "33    validated    1.037596  0.036907"
      ]
     },
     "execution_count": 96,
     "metadata": {},
     "output_type": "execute_result"
    }
   ],
   "source": [
    "InterpretationOverview=InterpretationOverview.drop(InterpretationOverview[InterpretationOverview.attribute.isin(['classy','upscale','trendy','hipster','romantic','intimate','divey','touristy','casual'])].index)\n",
    "InterpretationOverview[(InterpretationOverview.attribute.isin(parking_keys)) | (InterpretationOverview.attribute=='BikeParking')]"
   ]
  },
  {
   "cell_type": "markdown",
   "metadata": {},
   "source": [
    "With all attributes describing all types of car parking having odds ratio values very close to 1, there is no indication of having certain parking options available will change the odds of a resturant having to close. One thing that does stand out is that with a odds ratio of 0.5 it is indicated that having biking available will decress the odds of a resturant having to close."
   ]
  },
  {
   "cell_type": "markdown",
   "metadata": {},
   "source": [
    "### Wifi"
   ]
  },
  {
   "cell_type": "code",
   "execution_count": 129,
   "metadata": {},
   "outputs": [
    {
     "data": {
      "text/html": [
       "<div>\n",
       "<style scoped>\n",
       "    .dataframe tbody tr th:only-of-type {\n",
       "        vertical-align: middle;\n",
       "    }\n",
       "\n",
       "    .dataframe tbody tr th {\n",
       "        vertical-align: top;\n",
       "    }\n",
       "\n",
       "    .dataframe thead th {\n",
       "        text-align: right;\n",
       "    }\n",
       "</style>\n",
       "<table border=\"1\" class=\"dataframe\">\n",
       "  <thead>\n",
       "    <tr style=\"text-align: right;\">\n",
       "      <th></th>\n",
       "      <th>attribute</th>\n",
       "      <th>odds ratio</th>\n",
       "      <th>weight</th>\n",
       "    </tr>\n",
       "  </thead>\n",
       "  <tbody>\n",
       "  </tbody>\n",
       "</table>\n",
       "</div>"
      ],
      "text/plain": [
       "Empty DataFrame\n",
       "Columns: [attribute, odds ratio, weight]\n",
       "Index: []"
      ]
     },
     "execution_count": 129,
     "metadata": {},
     "output_type": "execute_result"
    }
   ],
   "source": [
    "InterpretationOverview=InterpretationOverview.drop(InterpretationOverview[(InterpretationOverview.attribute.isin(parking_keys)) | (InterpretationOverview.attribute.str=='BikeParking')].index)\n",
    "InterpretationOverview[InterpretationOverview.attribute.str.contains('Wifi_')]"
   ]
  },
  {
   "cell_type": "markdown",
   "metadata": {},
   "source": [
    "All attributes describing the wifi option for the resturant is below a little below 1. When at the same time it is not possible to have nether free, paid and no internet, this overall doesn't indicate that the wifi options are important for whether or not a resturant has to close."
   ]
  },
  {
   "cell_type": "markdown",
   "metadata": {},
   "source": [
    "### Takeout and delivery"
   ]
  },
  {
   "cell_type": "markdown",
   "metadata": {},
   "source": [
    "With odds ratios very close to 1 there is not indication of resturants offering takeaway or delivery are more or less likely to close than other similar resturants."
   ]
  },
  {
   "cell_type": "code",
   "execution_count": 98,
   "metadata": {},
   "outputs": [
    {
     "data": {
      "text/html": [
       "<div>\n",
       "<style scoped>\n",
       "    .dataframe tbody tr th:only-of-type {\n",
       "        vertical-align: middle;\n",
       "    }\n",
       "\n",
       "    .dataframe tbody tr th {\n",
       "        vertical-align: top;\n",
       "    }\n",
       "\n",
       "    .dataframe thead th {\n",
       "        text-align: right;\n",
       "    }\n",
       "</style>\n",
       "<table border=\"1\" class=\"dataframe\">\n",
       "  <thead>\n",
       "    <tr style=\"text-align: right;\">\n",
       "      <th></th>\n",
       "      <th>attribute</th>\n",
       "      <th>odds ratio</th>\n",
       "      <th>weight</th>\n",
       "    </tr>\n",
       "  </thead>\n",
       "  <tbody>\n",
       "    <tr>\n",
       "      <td>5</td>\n",
       "      <td>RestaurantsTakeOut</td>\n",
       "      <td>1.007264</td>\n",
       "      <td>0.007237</td>\n",
       "    </tr>\n",
       "    <tr>\n",
       "      <td>6</td>\n",
       "      <td>RestaurantsDelivery</td>\n",
       "      <td>0.936055</td>\n",
       "      <td>-0.066081</td>\n",
       "    </tr>\n",
       "  </tbody>\n",
       "</table>\n",
       "</div>"
      ],
      "text/plain": [
       "             attribute  odds ratio    weight\n",
       "5   RestaurantsTakeOut    1.007264  0.007237\n",
       "6  RestaurantsDelivery    0.936055 -0.066081"
      ]
     },
     "execution_count": 98,
     "metadata": {},
     "output_type": "execute_result"
    }
   ],
   "source": [
    "InterpretationOverview=InterpretationOverview.drop(InterpretationOverview[InterpretationOverview.attribute.str.contains('Wifi_')].index)\n",
    "InterpretationOverview[InterpretationOverview.attribute.isin(['RestaurantsDelivery','RestaurantsTakeOut'])]"
   ]
  },
  {
   "cell_type": "markdown",
   "metadata": {},
   "source": [
    "### NoiseLevel"
   ]
  },
  {
   "cell_type": "markdown",
   "metadata": {},
   "source": [
    "Based on the odds ratios for attributes describing the noise levels, noise levels by them self does not appear to be very important for the odds of a resturant having to close."
   ]
  },
  {
   "cell_type": "code",
   "execution_count": 101,
   "metadata": {},
   "outputs": [
    {
     "data": {
      "text/html": [
       "<div>\n",
       "<style scoped>\n",
       "    .dataframe tbody tr th:only-of-type {\n",
       "        vertical-align: middle;\n",
       "    }\n",
       "\n",
       "    .dataframe tbody tr th {\n",
       "        vertical-align: top;\n",
       "    }\n",
       "\n",
       "    .dataframe thead th {\n",
       "        text-align: right;\n",
       "    }\n",
       "</style>\n",
       "<table border=\"1\" class=\"dataframe\">\n",
       "  <thead>\n",
       "    <tr style=\"text-align: right;\">\n",
       "      <th></th>\n",
       "      <th>attribute</th>\n",
       "      <th>odds ratio</th>\n",
       "      <th>weight</th>\n",
       "    </tr>\n",
       "  </thead>\n",
       "  <tbody>\n",
       "    <tr>\n",
       "      <td>23</td>\n",
       "      <td>NoiseLevel__average</td>\n",
       "      <td>0.826705</td>\n",
       "      <td>-0.190308</td>\n",
       "    </tr>\n",
       "    <tr>\n",
       "      <td>24</td>\n",
       "      <td>NoiseLevel__loud</td>\n",
       "      <td>0.712830</td>\n",
       "      <td>-0.338513</td>\n",
       "    </tr>\n",
       "    <tr>\n",
       "      <td>25</td>\n",
       "      <td>NoiseLevel__quiet</td>\n",
       "      <td>1.344420</td>\n",
       "      <td>0.295963</td>\n",
       "    </tr>\n",
       "    <tr>\n",
       "      <td>26</td>\n",
       "      <td>NoiseLevel__very_loud</td>\n",
       "      <td>0.751533</td>\n",
       "      <td>-0.285641</td>\n",
       "    </tr>\n",
       "  </tbody>\n",
       "</table>\n",
       "</div>"
      ],
      "text/plain": [
       "                attribute  odds ratio    weight\n",
       "23    NoiseLevel__average    0.826705 -0.190308\n",
       "24       NoiseLevel__loud    0.712830 -0.338513\n",
       "25      NoiseLevel__quiet    1.344420  0.295963\n",
       "26  NoiseLevel__very_loud    0.751533 -0.285641"
      ]
     },
     "execution_count": 101,
     "metadata": {},
     "output_type": "execute_result"
    }
   ],
   "source": [
    "InterpretationOverview=InterpretationOverview.drop(InterpretationOverview[InterpretationOverview.attribute.isin(['RestaurantsDelivery','RestaurantsTakeOut'])].index)\n",
    "InterpretationOverview[InterpretationOverview.attribute.str.contains('NoiseLevel')]"
   ]
  },
  {
   "cell_type": "markdown",
   "metadata": {},
   "source": [
    "### Alcohol"
   ]
  },
  {
   "cell_type": "markdown",
   "metadata": {},
   "source": [
    "Resturants which have a full bar, appear to have slightly higher odds for closing, compared to a similar resturant which does not have a full bar."
   ]
  },
  {
   "cell_type": "code",
   "execution_count": 106,
   "metadata": {},
   "outputs": [
    {
     "data": {
      "text/html": [
       "<div>\n",
       "<style scoped>\n",
       "    .dataframe tbody tr th:only-of-type {\n",
       "        vertical-align: middle;\n",
       "    }\n",
       "\n",
       "    .dataframe tbody tr th {\n",
       "        vertical-align: top;\n",
       "    }\n",
       "\n",
       "    .dataframe thead th {\n",
       "        text-align: right;\n",
       "    }\n",
       "</style>\n",
       "<table border=\"1\" class=\"dataframe\">\n",
       "  <thead>\n",
       "    <tr style=\"text-align: right;\">\n",
       "      <th></th>\n",
       "      <th>attribute</th>\n",
       "      <th>odds ratio</th>\n",
       "      <th>weight</th>\n",
       "    </tr>\n",
       "  </thead>\n",
       "  <tbody>\n",
       "    <tr>\n",
       "      <td>27</td>\n",
       "      <td>Alcohol_beer_and_wine</td>\n",
       "      <td>0.998578</td>\n",
       "      <td>-0.001423</td>\n",
       "    </tr>\n",
       "    <tr>\n",
       "      <td>28</td>\n",
       "      <td>Alcohol_full_bar</td>\n",
       "      <td>1.430657</td>\n",
       "      <td>0.358134</td>\n",
       "    </tr>\n",
       "  </tbody>\n",
       "</table>\n",
       "</div>"
      ],
      "text/plain": [
       "                attribute  odds ratio    weight\n",
       "27  Alcohol_beer_and_wine    0.998578 -0.001423\n",
       "28       Alcohol_full_bar    1.430657  0.358134"
      ]
     },
     "execution_count": 106,
     "metadata": {},
     "output_type": "execute_result"
    }
   ],
   "source": [
    "InterpretationOverview=InterpretationOverview.drop(InterpretationOverview[InterpretationOverview.attribute.str.contains('NoiseLevel')].index)\n",
    "InterpretationOverview[InterpretationOverview.attribute.str.contains('Alcohol')]"
   ]
  },
  {
   "cell_type": "markdown",
   "metadata": {},
   "source": [
    "### Groups and kids"
   ]
  },
  {
   "cell_type": "code",
   "execution_count": 108,
   "metadata": {},
   "outputs": [
    {
     "data": {
      "text/html": [
       "<div>\n",
       "<style scoped>\n",
       "    .dataframe tbody tr th:only-of-type {\n",
       "        vertical-align: middle;\n",
       "    }\n",
       "\n",
       "    .dataframe tbody tr th {\n",
       "        vertical-align: top;\n",
       "    }\n",
       "\n",
       "    .dataframe thead th {\n",
       "        text-align: right;\n",
       "    }\n",
       "</style>\n",
       "<table border=\"1\" class=\"dataframe\">\n",
       "  <thead>\n",
       "    <tr style=\"text-align: right;\">\n",
       "      <th></th>\n",
       "      <th>attribute</th>\n",
       "      <th>odds ratio</th>\n",
       "      <th>weight</th>\n",
       "    </tr>\n",
       "  </thead>\n",
       "  <tbody>\n",
       "    <tr>\n",
       "      <td>3</td>\n",
       "      <td>GoodForKids</td>\n",
       "      <td>0.977803</td>\n",
       "      <td>-0.022447</td>\n",
       "    </tr>\n",
       "    <tr>\n",
       "      <td>4</td>\n",
       "      <td>RestaurantsGoodForGroups</td>\n",
       "      <td>1.439600</td>\n",
       "      <td>0.364365</td>\n",
       "    </tr>\n",
       "  </tbody>\n",
       "</table>\n",
       "</div>"
      ],
      "text/plain": [
       "                  attribute  odds ratio    weight\n",
       "3               GoodForKids    0.977803 -0.022447\n",
       "4  RestaurantsGoodForGroups    1.439600  0.364365"
      ]
     },
     "execution_count": 108,
     "metadata": {},
     "output_type": "execute_result"
    }
   ],
   "source": [
    "InterpretationOverview=InterpretationOverview.drop(InterpretationOverview[InterpretationOverview.attribute.str.contains('Alcohol')].index)\n",
    "len(InterpretationOverview)\n",
    "InterpretationOverview[InterpretationOverview.attribute.isin(['RestaurantsGoodForGroups','GoodForKids'])]"
   ]
  },
  {
   "cell_type": "markdown",
   "metadata": {},
   "source": [
    "Being a resturant considered good for groups or good for kids does not by it self appear to have a large influence on the"
   ]
  },
  {
   "cell_type": "markdown",
   "metadata": {},
   "source": [
    "### Price, outdoor seating and reservations"
   ]
  },
  {
   "cell_type": "markdown",
   "metadata": {},
   "source": [
    "When taking a look at the last three attributes there which where originally listed as attributes of resturants, it can be observed that resturants that allow for reservations, appear to have higher odds for closing."
   ]
  },
  {
   "cell_type": "code",
   "execution_count": 112,
   "metadata": {},
   "outputs": [
    {
     "data": {
      "text/html": [
       "<div>\n",
       "<style scoped>\n",
       "    .dataframe tbody tr th:only-of-type {\n",
       "        vertical-align: middle;\n",
       "    }\n",
       "\n",
       "    .dataframe tbody tr th {\n",
       "        vertical-align: top;\n",
       "    }\n",
       "\n",
       "    .dataframe thead th {\n",
       "        text-align: right;\n",
       "    }\n",
       "</style>\n",
       "<table border=\"1\" class=\"dataframe\">\n",
       "  <thead>\n",
       "    <tr style=\"text-align: right;\">\n",
       "      <th></th>\n",
       "      <th>attribute</th>\n",
       "      <th>odds ratio</th>\n",
       "      <th>weight</th>\n",
       "    </tr>\n",
       "  </thead>\n",
       "  <tbody>\n",
       "    <tr>\n",
       "      <td>2</td>\n",
       "      <td>RestaurantsReservations</td>\n",
       "      <td>1.412855</td>\n",
       "      <td>0.345612</td>\n",
       "    </tr>\n",
       "    <tr>\n",
       "      <td>7</td>\n",
       "      <td>RestaurantsPriceRange2</td>\n",
       "      <td>0.819725</td>\n",
       "      <td>-0.198787</td>\n",
       "    </tr>\n",
       "    <tr>\n",
       "      <td>10</td>\n",
       "      <td>OutdoorSeating</td>\n",
       "      <td>1.256174</td>\n",
       "      <td>0.228070</td>\n",
       "    </tr>\n",
       "  </tbody>\n",
       "</table>\n",
       "</div>"
      ],
      "text/plain": [
       "                  attribute  odds ratio    weight\n",
       "2   RestaurantsReservations    1.412855  0.345612\n",
       "7    RestaurantsPriceRange2    0.819725 -0.198787\n",
       "10           OutdoorSeating    1.256174  0.228070"
      ]
     },
     "execution_count": 112,
     "metadata": {},
     "output_type": "execute_result"
    }
   ],
   "source": [
    "InterpretationOverview=InterpretationOverview.drop(InterpretationOverview[InterpretationOverview.attribute.isin(['RestaurantsGoodForGroups','GoodForKids'])].index)\n",
    "len(InterpretationOverview)\n",
    "InterpretationOverview[InterpretationOverview.attribute.isin(['RestaurantsPriceRange2','OutdoorSeating','RestaurantsReservations'])]"
   ]
  },
  {
   "cell_type": "markdown",
   "metadata": {},
   "source": [
    "### Reviews"
   ]
  },
  {
   "cell_type": "markdown",
   "metadata": {},
   "source": [
    "Earlier we already saw that the review count have the lowest odds ratio of all the attributes. However when looking at the odds ratio of stars we see that the odds of a resturant closing also appear to be lowered when the number of stars are increased. While this is not supprising it is not a parameter which can be directly taken into account, when trying to avoid closure."
   ]
  },
  {
   "cell_type": "code",
   "execution_count": 118,
   "metadata": {},
   "outputs": [
    {
     "data": {
      "text/html": [
       "<div>\n",
       "<style scoped>\n",
       "    .dataframe tbody tr th:only-of-type {\n",
       "        vertical-align: middle;\n",
       "    }\n",
       "\n",
       "    .dataframe tbody tr th {\n",
       "        vertical-align: top;\n",
       "    }\n",
       "\n",
       "    .dataframe thead th {\n",
       "        text-align: right;\n",
       "    }\n",
       "</style>\n",
       "<table border=\"1\" class=\"dataframe\">\n",
       "  <thead>\n",
       "    <tr style=\"text-align: right;\">\n",
       "      <th></th>\n",
       "      <th>attribute</th>\n",
       "      <th>odds ratio</th>\n",
       "      <th>weight</th>\n",
       "    </tr>\n",
       "  </thead>\n",
       "  <tbody>\n",
       "    <tr>\n",
       "      <td>0</td>\n",
       "      <td>stars</td>\n",
       "      <td>0.782288</td>\n",
       "      <td>-0.245533</td>\n",
       "    </tr>\n",
       "    <tr>\n",
       "      <td>1</td>\n",
       "      <td>review_count</td>\n",
       "      <td>0.000149</td>\n",
       "      <td>-8.809615</td>\n",
       "    </tr>\n",
       "  </tbody>\n",
       "</table>\n",
       "</div>"
      ],
      "text/plain": [
       "      attribute  odds ratio    weight\n",
       "0         stars    0.782288 -0.245533\n",
       "1  review_count    0.000149 -8.809615"
      ]
     },
     "execution_count": 118,
     "metadata": {},
     "output_type": "execute_result"
    }
   ],
   "source": [
    "InterpretationOverview=InterpretationOverview.drop(InterpretationOverview[InterpretationOverview.attribute.isin(['RestaurantsPriceRange2','OutdoorSeating','RestaurantsReservations'])].index)\n",
    "InterpretationOverview[InterpretationOverview.attribute.isin(['stars','review_count'])]"
   ]
  },
  {
   "cell_type": "markdown",
   "metadata": {},
   "source": [
    "### Resturant categories"
   ]
  },
  {
   "cell_type": "code",
   "execution_count": 164,
   "metadata": {},
   "outputs": [
    {
     "name": "stdout",
     "output_type": "stream",
     "text": [
      "163 attributes still remains\n"
     ]
    }
   ],
   "source": [
    "InterpretationOverview=InterpretationOverview.drop(InterpretationOverview[InterpretationOverview.attribute.isin(['stars','review_count','HasTV','BikeParking'])].index)\n",
    "print(\"{} attributes still remains\".format(len(InterpretationOverview)))"
   ]
  },
  {
   "cell_type": "markdown",
   "metadata": {},
   "source": [
    "We have yet to look into 164 attributes, representing different categories for resturants. To allow for a better overview of the very divers attributes we are here going to take a look at the attributes with the 20 highest and 20 lowest odds ratio scores.<br>\n",
    "For the highest score there appear to be no overall trend in general categories for which resturants appear to be more likly to close. Off categories with very high odds ice cream & frozen yogurt, waffles, peruvian, lounges and cheese shops can be noted. Beloning to each of these resutant is indicated to increase the odds of a resturant having to close, if all other factors remain the same."
   ]
  },
  {
   "cell_type": "code",
   "execution_count": 162,
   "metadata": {},
   "outputs": [
    {
     "data": {
      "text/html": [
       "<div>\n",
       "<style scoped>\n",
       "    .dataframe tbody tr th:only-of-type {\n",
       "        vertical-align: middle;\n",
       "    }\n",
       "\n",
       "    .dataframe tbody tr th {\n",
       "        vertical-align: top;\n",
       "    }\n",
       "\n",
       "    .dataframe thead th {\n",
       "        text-align: right;\n",
       "    }\n",
       "</style>\n",
       "<table border=\"1\" class=\"dataframe\">\n",
       "  <thead>\n",
       "    <tr style=\"text-align: right;\">\n",
       "      <th></th>\n",
       "      <th>attribute</th>\n",
       "      <th>odds ratio</th>\n",
       "      <th>weight</th>\n",
       "    </tr>\n",
       "  </thead>\n",
       "  <tbody>\n",
       "    <tr>\n",
       "      <td>58</td>\n",
       "      <td>international</td>\n",
       "      <td>2.842133</td>\n",
       "      <td>1.044555</td>\n",
       "    </tr>\n",
       "    <tr>\n",
       "      <td>140</td>\n",
       "      <td>music venues</td>\n",
       "      <td>2.780455</td>\n",
       "      <td>1.022615</td>\n",
       "    </tr>\n",
       "    <tr>\n",
       "      <td>114</td>\n",
       "      <td>ice cream &amp; frozen yogurt</td>\n",
       "      <td>2.569470</td>\n",
       "      <td>0.943700</td>\n",
       "    </tr>\n",
       "    <tr>\n",
       "      <td>166</td>\n",
       "      <td>waffles</td>\n",
       "      <td>2.526237</td>\n",
       "      <td>0.926731</td>\n",
       "    </tr>\n",
       "    <tr>\n",
       "      <td>131</td>\n",
       "      <td>peruvian</td>\n",
       "      <td>2.516727</td>\n",
       "      <td>0.922959</td>\n",
       "    </tr>\n",
       "    <tr>\n",
       "      <td>198</td>\n",
       "      <td>lounges</td>\n",
       "      <td>2.256915</td>\n",
       "      <td>0.813999</td>\n",
       "    </tr>\n",
       "    <tr>\n",
       "      <td>176</td>\n",
       "      <td>cheese shops</td>\n",
       "      <td>2.109254</td>\n",
       "      <td>0.746334</td>\n",
       "    </tr>\n",
       "    <tr>\n",
       "      <td>73</td>\n",
       "      <td>irish</td>\n",
       "      <td>2.007509</td>\n",
       "      <td>0.696895</td>\n",
       "    </tr>\n",
       "    <tr>\n",
       "      <td>47</td>\n",
       "      <td>hookah bars</td>\n",
       "      <td>1.951337</td>\n",
       "      <td>0.668515</td>\n",
       "    </tr>\n",
       "    <tr>\n",
       "      <td>189</td>\n",
       "      <td>arcades</td>\n",
       "      <td>1.915038</td>\n",
       "      <td>0.649737</td>\n",
       "    </tr>\n",
       "    <tr>\n",
       "      <td>156</td>\n",
       "      <td>internet cafes</td>\n",
       "      <td>1.909198</td>\n",
       "      <td>0.646683</td>\n",
       "    </tr>\n",
       "    <tr>\n",
       "      <td>63</td>\n",
       "      <td>tex-mex</td>\n",
       "      <td>1.889295</td>\n",
       "      <td>0.636204</td>\n",
       "    </tr>\n",
       "    <tr>\n",
       "      <td>170</td>\n",
       "      <td>nightlife</td>\n",
       "      <td>1.810683</td>\n",
       "      <td>0.593704</td>\n",
       "    </tr>\n",
       "    <tr>\n",
       "      <td>182</td>\n",
       "      <td>moroccan</td>\n",
       "      <td>1.778094</td>\n",
       "      <td>0.575542</td>\n",
       "    </tr>\n",
       "    <tr>\n",
       "      <td>188</td>\n",
       "      <td>hot dogs</td>\n",
       "      <td>1.701293</td>\n",
       "      <td>0.531389</td>\n",
       "    </tr>\n",
       "    <tr>\n",
       "      <td>138</td>\n",
       "      <td>street vendors</td>\n",
       "      <td>1.673707</td>\n",
       "      <td>0.515041</td>\n",
       "    </tr>\n",
       "    <tr>\n",
       "      <td>128</td>\n",
       "      <td>tea rooms</td>\n",
       "      <td>1.624563</td>\n",
       "      <td>0.485239</td>\n",
       "    </tr>\n",
       "    <tr>\n",
       "      <td>107</td>\n",
       "      <td>donairs</td>\n",
       "      <td>1.582435</td>\n",
       "      <td>0.458965</td>\n",
       "    </tr>\n",
       "    <tr>\n",
       "      <td>96</td>\n",
       "      <td>burgers</td>\n",
       "      <td>1.499439</td>\n",
       "      <td>0.405091</td>\n",
       "    </tr>\n",
       "    <tr>\n",
       "      <td>71</td>\n",
       "      <td>do-it-yourself food</td>\n",
       "      <td>1.485761</td>\n",
       "      <td>0.395927</td>\n",
       "    </tr>\n",
       "  </tbody>\n",
       "</table>\n",
       "</div>"
      ],
      "text/plain": [
       "                     attribute  odds ratio    weight\n",
       "58               international    2.842133  1.044555\n",
       "140               music venues    2.780455  1.022615\n",
       "114  ice cream & frozen yogurt    2.569470  0.943700\n",
       "166                    waffles    2.526237  0.926731\n",
       "131                   peruvian    2.516727  0.922959\n",
       "198                    lounges    2.256915  0.813999\n",
       "176               cheese shops    2.109254  0.746334\n",
       "73                       irish    2.007509  0.696895\n",
       "47                 hookah bars    1.951337  0.668515\n",
       "189                    arcades    1.915038  0.649737\n",
       "156             internet cafes    1.909198  0.646683\n",
       "63                     tex-mex    1.889295  0.636204\n",
       "170                  nightlife    1.810683  0.593704\n",
       "182                   moroccan    1.778094  0.575542\n",
       "188                   hot dogs    1.701293  0.531389\n",
       "138             street vendors    1.673707  0.515041\n",
       "128                  tea rooms    1.624563  0.485239\n",
       "107                    donairs    1.582435  0.458965\n",
       "96                     burgers    1.499439  0.405091\n",
       "71         do-it-yourself food    1.485761  0.395927"
      ]
     },
     "execution_count": 162,
     "metadata": {},
     "output_type": "execute_result"
    }
   ],
   "source": [
    "InterpretationOverview=InterpretationOverview.sort_values(by=\"odds ratio\",ascending=False)\n",
    "InterpretationOverview[:20]"
   ]
  },
  {
   "cell_type": "markdown",
   "metadata": {},
   "source": [
    "Next we take a look at the categories with the 20 lowest odds ratio values.<br>\n",
    "As we have already seen earlier breweries and resturants with donuts have very low odds ratio scores, indicating that beloning to one of those categories lowers the odds of a resturant being closed. Also fast food, filipino and imported food apear to be lowering the odds of a resturant closing."
   ]
  },
  {
   "cell_type": "code",
   "execution_count": 163,
   "metadata": {},
   "outputs": [
    {
     "data": {
      "text/html": [
       "<div>\n",
       "<style scoped>\n",
       "    .dataframe tbody tr th:only-of-type {\n",
       "        vertical-align: middle;\n",
       "    }\n",
       "\n",
       "    .dataframe tbody tr th {\n",
       "        vertical-align: top;\n",
       "    }\n",
       "\n",
       "    .dataframe thead th {\n",
       "        text-align: right;\n",
       "    }\n",
       "</style>\n",
       "<table border=\"1\" class=\"dataframe\">\n",
       "  <thead>\n",
       "    <tr style=\"text-align: right;\">\n",
       "      <th></th>\n",
       "      <th>attribute</th>\n",
       "      <th>odds ratio</th>\n",
       "      <th>weight</th>\n",
       "    </tr>\n",
       "  </thead>\n",
       "  <tbody>\n",
       "    <tr>\n",
       "      <td>184</td>\n",
       "      <td>pizza</td>\n",
       "      <td>0.554911</td>\n",
       "      <td>-0.588948</td>\n",
       "    </tr>\n",
       "    <tr>\n",
       "      <td>139</td>\n",
       "      <td>hakka</td>\n",
       "      <td>0.553298</td>\n",
       "      <td>-0.591858</td>\n",
       "    </tr>\n",
       "    <tr>\n",
       "      <td>175</td>\n",
       "      <td>kebab</td>\n",
       "      <td>0.546759</td>\n",
       "      <td>-0.603747</td>\n",
       "    </tr>\n",
       "    <tr>\n",
       "      <td>65</td>\n",
       "      <td>coffee roasteries</td>\n",
       "      <td>0.532661</td>\n",
       "      <td>-0.629871</td>\n",
       "    </tr>\n",
       "    <tr>\n",
       "      <td>179</td>\n",
       "      <td>beer bar</td>\n",
       "      <td>0.524510</td>\n",
       "      <td>-0.645292</td>\n",
       "    </tr>\n",
       "    <tr>\n",
       "      <td>9</td>\n",
       "      <td>BikeParking</td>\n",
       "      <td>0.505477</td>\n",
       "      <td>-0.682253</td>\n",
       "    </tr>\n",
       "    <tr>\n",
       "      <td>193</td>\n",
       "      <td>local services</td>\n",
       "      <td>0.504114</td>\n",
       "      <td>-0.684952</td>\n",
       "    </tr>\n",
       "    <tr>\n",
       "      <td>196</td>\n",
       "      <td>kosher</td>\n",
       "      <td>0.472354</td>\n",
       "      <td>-0.750026</td>\n",
       "    </tr>\n",
       "    <tr>\n",
       "      <td>116</td>\n",
       "      <td>beauty &amp; spas</td>\n",
       "      <td>0.462191</td>\n",
       "      <td>-0.771777</td>\n",
       "    </tr>\n",
       "    <tr>\n",
       "      <td>152</td>\n",
       "      <td>portuguese</td>\n",
       "      <td>0.438704</td>\n",
       "      <td>-0.823930</td>\n",
       "    </tr>\n",
       "    <tr>\n",
       "      <td>38</td>\n",
       "      <td>meat shops</td>\n",
       "      <td>0.425422</td>\n",
       "      <td>-0.854674</td>\n",
       "    </tr>\n",
       "    <tr>\n",
       "      <td>185</td>\n",
       "      <td>food stands</td>\n",
       "      <td>0.412946</td>\n",
       "      <td>-0.884440</td>\n",
       "    </tr>\n",
       "    <tr>\n",
       "      <td>161</td>\n",
       "      <td>hotels &amp; travel</td>\n",
       "      <td>0.412151</td>\n",
       "      <td>-0.886365</td>\n",
       "    </tr>\n",
       "    <tr>\n",
       "      <td>154</td>\n",
       "      <td>food court</td>\n",
       "      <td>0.411424</td>\n",
       "      <td>-0.888132</td>\n",
       "    </tr>\n",
       "    <tr>\n",
       "      <td>88</td>\n",
       "      <td>pan asian</td>\n",
       "      <td>0.407839</td>\n",
       "      <td>-0.896883</td>\n",
       "    </tr>\n",
       "    <tr>\n",
       "      <td>112</td>\n",
       "      <td>imported food</td>\n",
       "      <td>0.373500</td>\n",
       "      <td>-0.984838</td>\n",
       "    </tr>\n",
       "    <tr>\n",
       "      <td>136</td>\n",
       "      <td>filipino</td>\n",
       "      <td>0.361454</td>\n",
       "      <td>-1.017621</td>\n",
       "    </tr>\n",
       "    <tr>\n",
       "      <td>78</td>\n",
       "      <td>fast food</td>\n",
       "      <td>0.297963</td>\n",
       "      <td>-1.210786</td>\n",
       "    </tr>\n",
       "    <tr>\n",
       "      <td>171</td>\n",
       "      <td>breweries</td>\n",
       "      <td>0.267735</td>\n",
       "      <td>-1.317758</td>\n",
       "    </tr>\n",
       "    <tr>\n",
       "      <td>159</td>\n",
       "      <td>donuts</td>\n",
       "      <td>0.214845</td>\n",
       "      <td>-1.537836</td>\n",
       "    </tr>\n",
       "  </tbody>\n",
       "</table>\n",
       "</div>"
      ],
      "text/plain": [
       "             attribute  odds ratio    weight\n",
       "184              pizza    0.554911 -0.588948\n",
       "139              hakka    0.553298 -0.591858\n",
       "175              kebab    0.546759 -0.603747\n",
       "65   coffee roasteries    0.532661 -0.629871\n",
       "179           beer bar    0.524510 -0.645292\n",
       "9          BikeParking    0.505477 -0.682253\n",
       "193     local services    0.504114 -0.684952\n",
       "196             kosher    0.472354 -0.750026\n",
       "116      beauty & spas    0.462191 -0.771777\n",
       "152         portuguese    0.438704 -0.823930\n",
       "38          meat shops    0.425422 -0.854674\n",
       "185        food stands    0.412946 -0.884440\n",
       "161    hotels & travel    0.412151 -0.886365\n",
       "154         food court    0.411424 -0.888132\n",
       "88           pan asian    0.407839 -0.896883\n",
       "112      imported food    0.373500 -0.984838\n",
       "136           filipino    0.361454 -1.017621\n",
       "78           fast food    0.297963 -1.210786\n",
       "171          breweries    0.267735 -1.317758\n",
       "159             donuts    0.214845 -1.537836"
      ]
     },
     "execution_count": 163,
     "metadata": {},
     "output_type": "execute_result"
    }
   ],
   "source": [
    "InterpretationOverview.iloc[-20:]"
   ]
  },
  {
   "cell_type": "markdown",
   "metadata": {},
   "source": [
    "## Conclusion"
   ]
  },
  {
   "cell_type": "markdown",
   "metadata": {},
   "source": []
  }
 ],
 "metadata": {
  "kernelspec": {
   "display_name": "Python 3",
   "language": "python",
   "name": "python3"
  },
  "language_info": {
   "codemirror_mode": {
    "name": "ipython",
    "version": 3
   },
   "file_extension": ".py",
   "mimetype": "text/x-python",
   "name": "python",
   "nbconvert_exporter": "python",
   "pygments_lexer": "ipython3",
   "version": "3.6.5"
  }
 },
 "nbformat": 4,
 "nbformat_minor": 4
}
