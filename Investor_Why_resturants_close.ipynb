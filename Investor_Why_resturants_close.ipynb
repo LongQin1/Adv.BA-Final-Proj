{
 "cells": [
  {
   "cell_type": "markdown",
   "metadata": {},
   "source": [
    "# What makes resturants close"
   ]
  },
  {
   "cell_type": "markdown",
   "metadata": {},
   "source": [
    "In this part of the analysis we wish to investigate what factors makes resturants close."
   ]
  },
  {
   "cell_type": "markdown",
   "metadata": {},
   "source": [
    "# Load data"
   ]
  },
  {
   "cell_type": "code",
   "execution_count": 138,
   "metadata": {},
   "outputs": [],
   "source": [
    "import pandas as pd\n",
    "import numpy as np"
   ]
  },
  {
   "cell_type": "code",
   "execution_count": 146,
   "metadata": {},
   "outputs": [],
   "source": [
    "Resturants=pd.read_csv('data/toronto_restaurant_business.csv',encoding=\"utf8\")"
   ]
  },
  {
   "cell_type": "code",
   "execution_count": 30,
   "metadata": {},
   "outputs": [
    {
     "data": {
      "text/plain": [
       "8681"
      ]
     },
     "execution_count": 30,
     "metadata": {},
     "output_type": "execute_result"
    }
   ],
   "source": [
    "len(Resturants)"
   ]
  },
  {
   "cell_type": "markdown",
   "metadata": {},
   "source": [
    "## Data preparation"
   ]
  },
  {
   "cell_type": "markdown",
   "metadata": {},
   "source": [
    "First we remove data columns which decribe information which is only specific for the individual resturant. This will be the business id, the name of the resturant, address and since we are only intrested in resturants in Toronto also city and state. While longitude and latitude provide more precises information the information is overlapping with the postal_code, however the postal code provide a more general indication of the area and are therefore choosen to represent location."
   ]
  },
  {
   "cell_type": "code",
   "execution_count": 147,
   "metadata": {},
   "outputs": [
    {
     "data": {
      "text/html": [
       "<div>\n",
       "<style scoped>\n",
       "    .dataframe tbody tr th:only-of-type {\n",
       "        vertical-align: middle;\n",
       "    }\n",
       "\n",
       "    .dataframe tbody tr th {\n",
       "        vertical-align: top;\n",
       "    }\n",
       "\n",
       "    .dataframe thead th {\n",
       "        text-align: right;\n",
       "    }\n",
       "</style>\n",
       "<table border=\"1\" class=\"dataframe\">\n",
       "  <thead>\n",
       "    <tr style=\"text-align: right;\">\n",
       "      <th></th>\n",
       "      <th>business_id</th>\n",
       "      <th>name</th>\n",
       "      <th>address</th>\n",
       "      <th>city</th>\n",
       "      <th>state</th>\n",
       "      <th>postal_code</th>\n",
       "      <th>latitude</th>\n",
       "      <th>longitude</th>\n",
       "      <th>stars</th>\n",
       "      <th>review_count</th>\n",
       "      <th>is_open</th>\n",
       "      <th>attributes</th>\n",
       "      <th>categories</th>\n",
       "      <th>hours</th>\n",
       "    </tr>\n",
       "  </thead>\n",
       "  <tbody>\n",
       "    <tr>\n",
       "      <td>0</td>\n",
       "      <td>rVBPQdeayMYht4Uv_FOLHg</td>\n",
       "      <td>Gourmet Burger Company</td>\n",
       "      <td>843 Kipling Avenue</td>\n",
       "      <td>Toronto</td>\n",
       "      <td>ON</td>\n",
       "      <td>M8Z 5G9</td>\n",
       "      <td>43.633291</td>\n",
       "      <td>-79.531768</td>\n",
       "      <td>3.0</td>\n",
       "      <td>13</td>\n",
       "      <td>0</td>\n",
       "      <td>{\"RestaurantsPriceRange2\": \"2\", \"RestaurantsAt...</td>\n",
       "      <td>Restaurants, Burgers, Food</td>\n",
       "      <td>{}</td>\n",
       "    </tr>\n",
       "    <tr>\n",
       "      <td>1</td>\n",
       "      <td>0QjROMVW9ACKjhSEfHqNCQ</td>\n",
       "      <td>Mi Mi Restaurant</td>\n",
       "      <td>688 Gerrard Street E</td>\n",
       "      <td>Toronto</td>\n",
       "      <td>ON</td>\n",
       "      <td>M4M 1Y3</td>\n",
       "      <td>43.666376</td>\n",
       "      <td>-79.348773</td>\n",
       "      <td>4.0</td>\n",
       "      <td>116</td>\n",
       "      <td>1</td>\n",
       "      <td>{\"RestaurantsTakeOut\": \"True\", \"Alcohol\": \"bee...</td>\n",
       "      <td>Vietnamese, Restaurants</td>\n",
       "      <td>{\"Monday\": \"11:00-22:00\", \"Tuesday\": \"11:00-22...</td>\n",
       "    </tr>\n",
       "    <tr>\n",
       "      <td>2</td>\n",
       "      <td>8k62wYhDVq1-652YbJi5eg</td>\n",
       "      <td>Tim Hortons</td>\n",
       "      <td>90 Adelaide Street W</td>\n",
       "      <td>Toronto</td>\n",
       "      <td>ON</td>\n",
       "      <td>M5H 3V9</td>\n",
       "      <td>43.649859</td>\n",
       "      <td>-79.382060</td>\n",
       "      <td>3.0</td>\n",
       "      <td>8</td>\n",
       "      <td>1</td>\n",
       "      <td>{\"OutdoorSeating\": \"False\", \"RestaurantsDelive...</td>\n",
       "      <td>Bagels, Donuts, Food, Cafes, Coffee &amp; Tea, Res...</td>\n",
       "      <td>{}</td>\n",
       "    </tr>\n",
       "    <tr>\n",
       "      <td>3</td>\n",
       "      <td>0DnQh8SE8BSnvJltGCCiWg</td>\n",
       "      <td>Chick-N-Joy</td>\n",
       "      <td>3-1265 York Mills Road</td>\n",
       "      <td>Toronto</td>\n",
       "      <td>ON</td>\n",
       "      <td>M3A 1Z3</td>\n",
       "      <td>43.765279</td>\n",
       "      <td>-79.326248</td>\n",
       "      <td>3.0</td>\n",
       "      <td>11</td>\n",
       "      <td>1</td>\n",
       "      <td>{\"NoiseLevel\": \"loud\", \"BusinessParking\": {\"ga...</td>\n",
       "      <td>Fast Food, Restaurants, Chicken Shop</td>\n",
       "      <td>{}</td>\n",
       "    </tr>\n",
       "    <tr>\n",
       "      <td>4</td>\n",
       "      <td>NLaK58WvlNQdUunSIkt-jA</td>\n",
       "      <td>Zav Coffee Shop &amp; Gallery</td>\n",
       "      <td>2048 Danforth Avenue</td>\n",
       "      <td>Toronto</td>\n",
       "      <td>ON</td>\n",
       "      <td>M4C 1J6</td>\n",
       "      <td>43.685608</td>\n",
       "      <td>-79.313936</td>\n",
       "      <td>4.5</td>\n",
       "      <td>24</td>\n",
       "      <td>1</td>\n",
       "      <td>{\"DogsAllowed\": \"False\", \"OutdoorSeating\": \"Tr...</td>\n",
       "      <td>Coffee &amp; Tea, Restaurants, Sandwiches, Food</td>\n",
       "      <td>{\"Monday\": \"0:00-0:00\", \"Tuesday\": \"7:30-17:00...</td>\n",
       "    </tr>\n",
       "    <tr>\n",
       "      <td>...</td>\n",
       "      <td>...</td>\n",
       "      <td>...</td>\n",
       "      <td>...</td>\n",
       "      <td>...</td>\n",
       "      <td>...</td>\n",
       "      <td>...</td>\n",
       "      <td>...</td>\n",
       "      <td>...</td>\n",
       "      <td>...</td>\n",
       "      <td>...</td>\n",
       "      <td>...</td>\n",
       "      <td>...</td>\n",
       "      <td>...</td>\n",
       "      <td>...</td>\n",
       "    </tr>\n",
       "    <tr>\n",
       "      <td>8676</td>\n",
       "      <td>thzyiQZb16zD8wMliaEfRQ</td>\n",
       "      <td>Sushi Supreme</td>\n",
       "      <td>1995 Yonge Street</td>\n",
       "      <td>Toronto</td>\n",
       "      <td>ON</td>\n",
       "      <td>M4S 1Z8</td>\n",
       "      <td>43.700617</td>\n",
       "      <td>-79.396762</td>\n",
       "      <td>4.0</td>\n",
       "      <td>104</td>\n",
       "      <td>1</td>\n",
       "      <td>{\"Ambience\": {\"romantic\": \"False\", \"intimate\":...</td>\n",
       "      <td>Sushi Bars, Restaurants, Japanese</td>\n",
       "      <td>{\"Monday\": \"12:00-23:00\", \"Tuesday\": \"12:00-23...</td>\n",
       "    </tr>\n",
       "    <tr>\n",
       "      <td>8677</td>\n",
       "      <td>eUi3O-8Gqh_nJ_ZhO-25gQ</td>\n",
       "      <td>Get &amp; Go Burrito</td>\n",
       "      <td>1077 Wilson Avenue, Unit 8</td>\n",
       "      <td>Toronto</td>\n",
       "      <td>ON</td>\n",
       "      <td>M3K 1G7</td>\n",
       "      <td>43.726656</td>\n",
       "      <td>-79.480365</td>\n",
       "      <td>3.5</td>\n",
       "      <td>43</td>\n",
       "      <td>1</td>\n",
       "      <td>{\"BusinessParking\": {\"garage\": \"False\", \"stree...</td>\n",
       "      <td>Mexican, Restaurants</td>\n",
       "      <td>{\"Monday\": \"11:00-23:00\", \"Tuesday\": \"11:00-23...</td>\n",
       "    </tr>\n",
       "    <tr>\n",
       "      <td>8678</td>\n",
       "      <td>yFQCdWr_k1pTObzHPGis9Q</td>\n",
       "      <td>Grasshopper Restaurant</td>\n",
       "      <td>310 College Street</td>\n",
       "      <td>Toronto</td>\n",
       "      <td>ON</td>\n",
       "      <td>M5T 1S2</td>\n",
       "      <td>43.657716</td>\n",
       "      <td>-79.402098</td>\n",
       "      <td>4.0</td>\n",
       "      <td>177</td>\n",
       "      <td>1</td>\n",
       "      <td>{\"DogsAllowed\": \"False\", \"BikeParking\": \"True\"...</td>\n",
       "      <td>Vegan, Restaurants, Vegetarian, Salad</td>\n",
       "      <td>{\"Monday\": \"11:30-22:00\", \"Tuesday\": \"11:30-22...</td>\n",
       "    </tr>\n",
       "    <tr>\n",
       "      <td>8679</td>\n",
       "      <td>GAgEoHcf4PSuZRS5Zd3ltA</td>\n",
       "      <td>Q's Shawarma</td>\n",
       "      <td>1075 Martin Grove Road</td>\n",
       "      <td>Toronto</td>\n",
       "      <td>ON</td>\n",
       "      <td>M9W 4W6</td>\n",
       "      <td>43.701807</td>\n",
       "      <td>-79.575135</td>\n",
       "      <td>4.0</td>\n",
       "      <td>16</td>\n",
       "      <td>1</td>\n",
       "      <td>{\"GoodForKids\": \"True\", \"HasTV\": \"True\", \"Rest...</td>\n",
       "      <td>Restaurants, Mediterranean</td>\n",
       "      <td>{\"Monday\": \"11:00-21:00\", \"Tuesday\": \"11:00-21...</td>\n",
       "    </tr>\n",
       "    <tr>\n",
       "      <td>8680</td>\n",
       "      <td>n2BKYb8aw4AhRKLkdUjQRg</td>\n",
       "      <td>Steak &amp; Cheese &amp; Quick Pita Restaurant</td>\n",
       "      <td>199 College St</td>\n",
       "      <td>Toronto</td>\n",
       "      <td>ON</td>\n",
       "      <td>M5T 1P9</td>\n",
       "      <td>43.658683</td>\n",
       "      <td>-79.395071</td>\n",
       "      <td>2.5</td>\n",
       "      <td>21</td>\n",
       "      <td>1</td>\n",
       "      <td>{\"OutdoorSeating\": \"False\", \"Alcohol\": \"none\",...</td>\n",
       "      <td>Sandwiches, Restaurants</td>\n",
       "      <td>{}</td>\n",
       "    </tr>\n",
       "  </tbody>\n",
       "</table>\n",
       "<p>8681 rows × 14 columns</p>\n",
       "</div>"
      ],
      "text/plain": [
       "                 business_id                                    name  \\\n",
       "0     rVBPQdeayMYht4Uv_FOLHg                  Gourmet Burger Company   \n",
       "1     0QjROMVW9ACKjhSEfHqNCQ                        Mi Mi Restaurant   \n",
       "2     8k62wYhDVq1-652YbJi5eg                             Tim Hortons   \n",
       "3     0DnQh8SE8BSnvJltGCCiWg                             Chick-N-Joy   \n",
       "4     NLaK58WvlNQdUunSIkt-jA               Zav Coffee Shop & Gallery   \n",
       "...                      ...                                     ...   \n",
       "8676  thzyiQZb16zD8wMliaEfRQ                           Sushi Supreme   \n",
       "8677  eUi3O-8Gqh_nJ_ZhO-25gQ                        Get & Go Burrito   \n",
       "8678  yFQCdWr_k1pTObzHPGis9Q                  Grasshopper Restaurant   \n",
       "8679  GAgEoHcf4PSuZRS5Zd3ltA                            Q's Shawarma   \n",
       "8680  n2BKYb8aw4AhRKLkdUjQRg  Steak & Cheese & Quick Pita Restaurant   \n",
       "\n",
       "                         address     city state postal_code   latitude  \\\n",
       "0             843 Kipling Avenue  Toronto    ON     M8Z 5G9  43.633291   \n",
       "1           688 Gerrard Street E  Toronto    ON     M4M 1Y3  43.666376   \n",
       "2           90 Adelaide Street W  Toronto    ON     M5H 3V9  43.649859   \n",
       "3         3-1265 York Mills Road  Toronto    ON     M3A 1Z3  43.765279   \n",
       "4           2048 Danforth Avenue  Toronto    ON     M4C 1J6  43.685608   \n",
       "...                          ...      ...   ...         ...        ...   \n",
       "8676           1995 Yonge Street  Toronto    ON     M4S 1Z8  43.700617   \n",
       "8677  1077 Wilson Avenue, Unit 8  Toronto    ON     M3K 1G7  43.726656   \n",
       "8678          310 College Street  Toronto    ON     M5T 1S2  43.657716   \n",
       "8679      1075 Martin Grove Road  Toronto    ON     M9W 4W6  43.701807   \n",
       "8680              199 College St  Toronto    ON     M5T 1P9  43.658683   \n",
       "\n",
       "      longitude  stars  review_count  is_open  \\\n",
       "0    -79.531768    3.0            13        0   \n",
       "1    -79.348773    4.0           116        1   \n",
       "2    -79.382060    3.0             8        1   \n",
       "3    -79.326248    3.0            11        1   \n",
       "4    -79.313936    4.5            24        1   \n",
       "...         ...    ...           ...      ...   \n",
       "8676 -79.396762    4.0           104        1   \n",
       "8677 -79.480365    3.5            43        1   \n",
       "8678 -79.402098    4.0           177        1   \n",
       "8679 -79.575135    4.0            16        1   \n",
       "8680 -79.395071    2.5            21        1   \n",
       "\n",
       "                                             attributes  \\\n",
       "0     {\"RestaurantsPriceRange2\": \"2\", \"RestaurantsAt...   \n",
       "1     {\"RestaurantsTakeOut\": \"True\", \"Alcohol\": \"bee...   \n",
       "2     {\"OutdoorSeating\": \"False\", \"RestaurantsDelive...   \n",
       "3     {\"NoiseLevel\": \"loud\", \"BusinessParking\": {\"ga...   \n",
       "4     {\"DogsAllowed\": \"False\", \"OutdoorSeating\": \"Tr...   \n",
       "...                                                 ...   \n",
       "8676  {\"Ambience\": {\"romantic\": \"False\", \"intimate\":...   \n",
       "8677  {\"BusinessParking\": {\"garage\": \"False\", \"stree...   \n",
       "8678  {\"DogsAllowed\": \"False\", \"BikeParking\": \"True\"...   \n",
       "8679  {\"GoodForKids\": \"True\", \"HasTV\": \"True\", \"Rest...   \n",
       "8680  {\"OutdoorSeating\": \"False\", \"Alcohol\": \"none\",...   \n",
       "\n",
       "                                             categories  \\\n",
       "0                            Restaurants, Burgers, Food   \n",
       "1                               Vietnamese, Restaurants   \n",
       "2     Bagels, Donuts, Food, Cafes, Coffee & Tea, Res...   \n",
       "3                  Fast Food, Restaurants, Chicken Shop   \n",
       "4           Coffee & Tea, Restaurants, Sandwiches, Food   \n",
       "...                                                 ...   \n",
       "8676                  Sushi Bars, Restaurants, Japanese   \n",
       "8677                               Mexican, Restaurants   \n",
       "8678              Vegan, Restaurants, Vegetarian, Salad   \n",
       "8679                         Restaurants, Mediterranean   \n",
       "8680                            Sandwiches, Restaurants   \n",
       "\n",
       "                                                  hours  \n",
       "0                                                    {}  \n",
       "1     {\"Monday\": \"11:00-22:00\", \"Tuesday\": \"11:00-22...  \n",
       "2                                                    {}  \n",
       "3                                                    {}  \n",
       "4     {\"Monday\": \"0:00-0:00\", \"Tuesday\": \"7:30-17:00...  \n",
       "...                                                 ...  \n",
       "8676  {\"Monday\": \"12:00-23:00\", \"Tuesday\": \"12:00-23...  \n",
       "8677  {\"Monday\": \"11:00-23:00\", \"Tuesday\": \"11:00-23...  \n",
       "8678  {\"Monday\": \"11:30-22:00\", \"Tuesday\": \"11:30-22...  \n",
       "8679  {\"Monday\": \"11:00-21:00\", \"Tuesday\": \"11:00-21...  \n",
       "8680                                                 {}  \n",
       "\n",
       "[8681 rows x 14 columns]"
      ]
     },
     "execution_count": 147,
     "metadata": {},
     "output_type": "execute_result"
    }
   ],
   "source": [
    "Resturants"
   ]
  },
  {
   "cell_type": "code",
   "execution_count": 141,
   "metadata": {},
   "outputs": [],
   "source": [
    "Resturants=Resturants.drop(['name','address','city','state','longitude','latitude','business_id'],axis=1)"
   ]
  },
  {
   "cell_type": "markdown",
   "metadata": {},
   "source": [
    "To be able to work with the data postal_code is one-hot-encoded."
   ]
  },
  {
   "cell_type": "code",
   "execution_count": 148,
   "metadata": {},
   "outputs": [],
   "source": [
    "Resturants=pd.concat([Resturants,pd.get_dummies(Resturants.postal_code,prefix='postal_code',drop_first=False)],axis=1)\n",
    "Resturants=Resturants.drop(['postal_code'],axis=1)"
   ]
  },
  {
   "cell_type": "markdown",
   "metadata": {},
   "source": [
    "The atributtes ne"
   ]
  },
  {
   "cell_type": "code",
   "execution_count": 149,
   "metadata": {},
   "outputs": [],
   "source": [
    "# attribute is transformed from string to dictionaries\n",
    "Resturants.attributes=Resturants.attributes.apply(lambda d: eval(d))"
   ]
  },
  {
   "cell_type": "markdown",
   "metadata": {},
   "source": [
    "As not all attributes are listed for all resturants we first need to get a list of all available attributes"
   ]
  },
  {
   "cell_type": "code",
   "execution_count": 154,
   "metadata": {},
   "outputs": [
    {
     "name": "stdout",
     "output_type": "stream",
     "text": [
      "The are the following 37 attributes:\n",
      "- Corkage\n",
      "- GoodForMeal\n",
      "- RestaurantsReservations\n",
      "- RestaurantsCounterService\n",
      "- HairSpecializesIn\n",
      "- Ambience\n",
      "- HappyHour\n",
      "- WiFi\n",
      "- DietaryRestrictions\n",
      "- GoodForDancing\n",
      "- RestaurantsPriceRange2\n",
      "- CoatCheck\n",
      "- AcceptsInsurance\n",
      "- Caters\n",
      "- RestaurantsDelivery\n",
      "- RestaurantsAttire\n",
      "- RestaurantsGoodForGroups\n",
      "- BikeParking\n",
      "- BYOB\n",
      "- GoodForKids\n",
      "- BestNights\n",
      "- BusinessParking\n",
      "- ByAppointmentOnly\n",
      "- WheelchairAccessible\n",
      "- DriveThru\n",
      "- DogsAllowed\n",
      "- BusinessAcceptsCreditCards\n",
      "- BusinessAcceptsBitcoin\n",
      "- HasTV\n",
      "- RestaurantsTableService\n",
      "- Smoking\n",
      "- AgesAllowed\n",
      "- Alcohol\n",
      "- NoiseLevel\n",
      "- Music\n",
      "- RestaurantsTakeOut\n",
      "- OutdoorSeating\n"
     ]
    }
   ],
   "source": [
    "attributes=set([])\n",
    "for d in Resturants.attributes:\n",
    "    attributes=attributes.union(set(d.keys()))\n",
    "print(\"The are the following {} attributes:\".format(len(attributes)))\n",
    "attributes=list(attributes)\n",
    "for attribute in attributes:\n",
    "    print(\"- {}\".format(attribute))"
   ]
  },
  {
   "cell_type": "code",
   "execution_count": null,
   "metadata": {},
   "outputs": [],
   "source": []
  },
  {
   "cell_type": "markdown",
   "metadata": {},
   "source": [
    "Each attribute is now transformed into seperate columns, and then one hot encoded."
   ]
  },
  {
   "cell_type": "code",
   "execution_count": 156,
   "metadata": {},
   "outputs": [
    {
     "name": "stdout",
     "output_type": "stream",
     "text": [
      "Corkage: 0.9935491302845294\n",
      "GoodForMeal: 0.47909227047575165\n",
      "RestaurantsReservations: 0.1968667204239143\n",
      "RestaurantsCounterService: 0.999884805897938\n",
      "HairSpecializesIn: 0.9997696117958761\n",
      "Ambience: 0.21518258265176823\n",
      "HappyHour: 0.8767423107936874\n",
      "WiFi: 0.3319894021426103\n",
      "DietaryRestrictions: 0.9986176707752563\n",
      "GoodForDancing: 0.9474714894597397\n",
      "RestaurantsPriceRange2: 0.1932957032599931\n",
      "CoatCheck: 0.9563414353185117\n",
      "AcceptsInsurance: 0.9997696117958761\n",
      "Caters: 0.4589333026149061\n",
      "RestaurantsDelivery: 0.2220942287754867\n",
      "RestaurantsAttire: 0.26414007602810735\n",
      "RestaurantsGoodForGroups: 0.2094228775486695\n",
      "BikeParking: 0.3900472295818454\n",
      "BYOB: 0.9906692777329801\n",
      "GoodForKids: 0.22474369312291212\n",
      "BestNights: 0.9486234304803594\n",
      "BusinessParking: 0.1878815804630803\n",
      "ByAppointmentOnly: 0.9672848750143993\n",
      "WheelchairAccessible: 0.8267480704987905\n",
      "DriveThru: 0.9649809929731598\n",
      "DogsAllowed: 0.8729409054256422\n",
      "BusinessAcceptsCreditCards: 0.968667204239143\n",
      "BusinessAcceptsBitcoin: 0.9997696117958761\n",
      "HasTV: 0.2377606266559152\n",
      "RestaurantsTableService: 0.6634028337749107\n",
      "Smoking: 0.9572629881350075\n",
      "AgesAllowed: 0.9997696117958761\n",
      "Alcohol: 0.2924778251353531\n",
      "NoiseLevel: 0.34489114157355144\n",
      "Music: 0.9225895634143532\n",
      "RestaurantsTakeOut: 0.1563183964980993\n",
      "OutdoorSeating: 0.21276350650846676\n"
     ]
    }
   ],
   "source": [
    "for attribute in attributes:\n",
    "    Resturants[attribute]=Resturants.attributes.apply(lambda a:  a[attribute] if (attribute in a) else np.nan)\n",
    "    print(\"{}: {}\".format(attribute,Resturants[attribute].isna().sum()/len(Resturants[attribute].isna())))\n",
    "#Maybe we should remove some of the attributes which there is almost nothin of. What should we do with the attribudes we dont have a value for... We can asume false,\n",
    "#but it will have to be individualized for everything..."
   ]
  },
  {
   "cell_type": "code",
   "execution_count": 132,
   "metadata": {},
   "outputs": [
    {
     "data": {
      "text/plain": [
       "array(['False', 'True', nan, 'None'], dtype=object)"
      ]
     },
     "execution_count": 132,
     "metadata": {},
     "output_type": "execute_result"
    }
   ],
   "source": [
    "Resturants.OutdoorSeating.unique()\n",
    "# Resturants=pd.concat([Resturants,pd.get_dummies(Resturants.postal_code,prefix='postal_code',drop_first=False)],axis=1)\n",
    "#Resturants=Resturants.drop(['postal_code'],axis=1)"
   ]
  },
  {
   "cell_type": "code",
   "execution_count": 67,
   "metadata": {},
   "outputs": [
    {
     "data": {
      "text/plain": [
       "dict_keys(['RestaurantsPriceRange2', 'RestaurantsAttire', 'Alcohol', 'Caters', 'HasTV', 'GoodForKids', 'RestaurantsGoodForGroups', 'RestaurantsTakeOut', 'RestaurantsDelivery', 'RestaurantsReservations', 'BusinessParking', 'NoiseLevel', 'WiFi', 'Ambience', 'OutdoorSeating'])"
      ]
     },
     "execution_count": 67,
     "metadata": {},
     "output_type": "execute_result"
    }
   ],
   "source": [
    "eval(Resturants.attributes[0]).keys()"
   ]
  },
  {
   "cell_type": "code",
   "execution_count": 69,
   "metadata": {},
   "outputs": [
    {
     "data": {
      "text/plain": [
       "{'RestaurantsTakeOut': 'True',\n",
       " 'Alcohol': 'beer_and_wine',\n",
       " 'GoodForKids': 'True',\n",
       " 'RestaurantsPriceRange2': '1',\n",
       " 'RestaurantsAttire': 'casual',\n",
       " 'RestaurantsDelivery': 'False',\n",
       " 'Ambience': {'romantic': 'False',\n",
       "  'intimate': 'False',\n",
       "  'classy': 'False',\n",
       "  'hipster': 'False',\n",
       "  'divey': 'False',\n",
       "  'touristy': 'False',\n",
       "  'trendy': 'False',\n",
       "  'upscale': 'False',\n",
       "  'casual': 'True'},\n",
       " 'BusinessParking': {'garage': 'False',\n",
       "  'street': 'True',\n",
       "  'validated': 'False',\n",
       "  'lot': 'False',\n",
       "  'valet': 'False'},\n",
       " 'RestaurantsGoodForGroups': 'True',\n",
       " 'RestaurantsReservations': 'False',\n",
       " 'OutdoorSeating': 'False',\n",
       " 'NoiseLevel': 'average',\n",
       " 'GoodForMeal': {'dessert': 'False',\n",
       "  'latenight': 'False',\n",
       "  'lunch': 'True',\n",
       "  'dinner': 'True',\n",
       "  'brunch': 'False',\n",
       "  'breakfast': 'False'},\n",
       " 'WiFi': 'no',\n",
       " 'BikeParking': 'True',\n",
       " 'RestaurantsTableService': 'True',\n",
       " 'HasTV': 'True',\n",
       " 'Caters': 'False'}"
      ]
     },
     "execution_count": 69,
     "metadata": {},
     "output_type": "execute_result"
    }
   ],
   "source": [
    "eval(Resturants.attributes[1])"
   ]
  },
  {
   "cell_type": "markdown",
   "metadata": {},
   "source": [
    "## Predicting if a business close"
   ]
  },
  {
   "cell_type": "markdown",
   "metadata": {},
   "source": [
    "### Baseline"
   ]
  },
  {
   "cell_type": "markdown",
   "metadata": {},
   "source": [
    "Random classification as a baseline"
   ]
  },
  {
   "cell_type": "code",
   "execution_count": null,
   "metadata": {},
   "outputs": [],
   "source": []
  },
  {
   "cell_type": "markdown",
   "metadata": {},
   "source": [
    "To predict which resturants close, we build a binary classifyer classifying wheter or not a business is closed or open. In other words we are intrested in building a binary classify. To do so logistic regression is used."
   ]
  },
  {
   "cell_type": "markdown",
   "metadata": {},
   "source": [
    "### Logistic regression"
   ]
  },
  {
   "cell_type": "code",
   "execution_count": 19,
   "metadata": {},
   "outputs": [],
   "source": [
    "from sklearn.linear_model import LogisticRegression"
   ]
  },
  {
   "cell_type": "code",
   "execution_count": null,
   "metadata": {},
   "outputs": [],
   "source": [
    "clf = LogisticRegression"
   ]
  },
  {
   "cell_type": "code",
   "execution_count": null,
   "metadata": {},
   "outputs": [],
   "source": [
    "clf = LogisticRegression"
   ]
  },
  {
   "cell_type": "code",
   "execution_count": null,
   "metadata": {},
   "outputs": [],
   "source": []
  },
  {
   "cell_type": "markdown",
   "metadata": {},
   "source": [
    "## Interpreting factors influencing prediction"
   ]
  },
  {
   "cell_type": "code",
   "execution_count": 20,
   "metadata": {},
   "outputs": [],
   "source": [
    " from sklearn.datasets import load_iris"
   ]
  },
  {
   "cell_type": "code",
   "execution_count": null,
   "metadata": {},
   "outputs": [],
   "source": []
  }
 ],
 "metadata": {
  "kernelspec": {
   "display_name": "Python 3",
   "language": "python",
   "name": "python3"
  },
  "language_info": {
   "codemirror_mode": {
    "name": "ipython",
    "version": 3
   },
   "file_extension": ".py",
   "mimetype": "text/x-python",
   "name": "python",
   "nbconvert_exporter": "python",
   "pygments_lexer": "ipython3",
   "version": "3.6.5"
  }
 },
 "nbformat": 4,
 "nbformat_minor": 4
}
